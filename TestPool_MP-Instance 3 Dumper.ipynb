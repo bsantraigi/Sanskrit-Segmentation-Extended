{
 "cells": [
  {
   "cell_type": "markdown",
   "metadata": {
    "tags": [
     "Header"
    ]
   },
   "source": [
    "#### MP based asynchronous testing"
   ]
  },
  {
   "cell_type": "code",
   "execution_count": 1,
   "metadata": {
    "collapsed": true,
    "tags": [
     "Header"
    ]
   },
   "outputs": [],
   "source": [
    "%load_ext autoreload\n",
    "%autoreload 2"
   ]
  },
  {
   "cell_type": "code",
   "execution_count": 2,
   "metadata": {
    "collapsed": true
   },
   "outputs": [],
   "source": [
    "import multiprocessing as mp\n",
    "import TestPool_Unit\n",
    "from shutil import copyfile\n",
    "import numpy as np"
   ]
  },
  {
   "cell_type": "code",
   "execution_count": 3,
   "metadata": {
    "collapsed": true
   },
   "outputs": [],
   "source": [
    "from collections import defaultdict"
   ]
  },
  {
   "cell_type": "code",
   "execution_count": 10,
   "metadata": {
    "collapsed": true
   },
   "outputs": [],
   "source": [
    "def Evaluate(result_arr):\n",
    "    print('Files Processed: ', len(result_arr))\n",
    "    recalls = []\n",
    "    recalls_of_word = []\n",
    "    precisions = []\n",
    "    precisions_of_words = []\n",
    "    fully_Correct_l = 0\n",
    "    fully_Correct_w = 0\n",
    "    for entry in result_arr:\n",
    "        (word_match, lemma_match, n_dcsWords, n_output_nodes) = entry\n",
    "        recalls.append(lemma_match/n_dcsWords)\n",
    "        recalls_of_word.append(word_match/n_dcsWords)\n",
    "\n",
    "        precisions.append(lemma_match/n_output_nodes)\n",
    "        precisions_of_words.append(word_match/n_output_nodes)\n",
    "        if lemma_match == n_dcsWords:\n",
    "            fully_Correct_l += 1\n",
    "        if word_match == n_dcsWords:\n",
    "            fully_Correct_w += 1\n",
    "    print('Avg. Micro Recall of Lemmas: {}'.format(np.mean(np.array(recalls))))\n",
    "    print('Avg. Micro Recall of Words: {}'.format(np.mean(np.array(recalls_of_word))))\n",
    "    print('Avg. Micro Precision of Lemmas: {}'.format(np.mean(np.array(precisions))))\n",
    "    print('Avg. Micro Precision of Words: {}'.format(np.mean(np.array(precisions_of_words))))\n",
    "    rl = np.mean(np.array(recalls))\n",
    "    pl = np.mean(np.array(precisions))\n",
    "    print('F-Score of Lemmas: ', (2*pl*rl)/(pl+rl))\n",
    "    print('Fully Correct Lemmawise: {}'.format(fully_Correct_l/len(recalls_of_word)))\n",
    "    print('Fully Correct Wordwise: {}'.format(fully_Correct_w/len(recalls_of_word)))\n",
    "    print('[{:0.2f}, {:0.2f}, {:0.2f}, {:0.2f}, {:0.2f}, {:0.2f}, {:0.2f}]'.format(100*np.mean(np.array(recalls)), 100*np.mean(np.array(recalls_of_word)), 100*np.mean(np.array(precisions)), \\\n",
    "           100*np.mean(np.array(precisions_of_words)), 100*(2*pl*rl)/(pl+rl), 100*fully_Correct_l/len(recalls_of_word),\\\n",
    "           100*fully_Correct_w/len(recalls_of_word)))"
   ]
  },
  {
   "cell_type": "code",
   "execution_count": 5,
   "metadata": {},
   "outputs": [
    {
     "name": "stdout",
     "output_type": "stream",
     "text": [
      "Child process with vpid:2, pid:14196 started.\n",
      "Child process with vpid:1, pid:14195 started.\n",
      "Child process with vpid:3, pid:14197 started.\n",
      "Child process with vpid:0, pid:14194 started.\n",
      "Keep Prob = 0.6, Dropout = 0.4\n",
      "Keep Prob = 0.6, Dropout = 0.4\n",
      "vpid:2: Range is 4800 -> 7200 / 9577\n",
      "Keep Prob = 0.6, Dropout = 0.4\n",
      "vpid:1: Range is 2400 -> 4800 / 9577\n",
      "vpid:3: Range is 7200 -> 9600 / 9577\n",
      "Keep Prob = 0.6, Dropout = 0.4\n",
      "vpid:0: Range is 0 -> 2400 / 9577\n"
     ]
    },
    {
     "name": "stderr",
     "output_type": "stream",
     "text": [
      "Process Process-4:\n",
      "Traceback (most recent call last):\n",
      "  File \"/home/rs/15CS91R05/Documents/anaconda3/envs/py3_bishal/lib/python3.6/multiprocessing/process.py\", line 249, in _bootstrap\n",
      "    self.run()\n",
      "  File \"/home/rs/15CS91R05/Documents/anaconda3/envs/py3_bishal/lib/python3.6/multiprocessing/process.py\", line 93, in run\n",
      "    self._target(*self._args, **self._kwargs)\n",
      "  File \"/home/rs/15CS91R05/Bishal/Clean_n_clear/TestPool_Unit.py\", line 34, in pooled_Test\n",
      "    fn = TestFiles[i]\n",
      "IndexError: list index out of range\n"
     ]
    },
    {
     "name": "stdout",
     "output_type": "stream",
     "text": [
      "Child process with vpid:1, pid:14195 closed.\n",
      "Child process with vpid:2, pid:14196 closed.\n",
      "Child process with vpid:0, pid:14194 closed.\n"
     ]
    }
   ],
   "source": [
    "modelFile = 'outputs/train_t2249987246038/nnet_i50.p' #new loss\n",
    "_dump = False\n",
    "if _dump:\n",
    "    _outFile = 'outputs/dump_predictions/pred_1L_bigram'\n",
    "else:\n",
    "    _outFile = None\n",
    "\n",
    "# Backup the model file\n",
    "copyfile(modelFile, modelFile + '.bk')\n",
    "\n",
    "# Create Queue, Result array\n",
    "queue = mp.Queue()\n",
    "result_arr = []\n",
    "\n",
    "# Start 6 workers - 8 slows down the pc\n",
    "proc_count = 4\n",
    "procs = [None]*proc_count\n",
    "for i in range(proc_count):\n",
    "    vpid = i\n",
    "    procs[i] = mp.Process(target = TestPool_Unit.pooled_Test, args = \\\n",
    "                          (modelFile, vpid, queue, '../NewData/skt_dcs_DS.bz2_1L_bigram_heldout/', int(9600/proc_count), _dump, _outFile))\n",
    "# Start Processes\n",
    "for i in range(proc_count):\n",
    "    procs[i].start()"
   ]
  },
  {
   "cell_type": "code",
   "execution_count": 22,
   "metadata": {},
   "outputs": [
    {
     "name": "stdout",
     "output_type": "stream",
     "text": [
      "Files Processed:  9577\n",
      "Avg. Micro Recall of Lemmas: 0.864565970151097\n",
      "Avg. Micro Recall of Words: 0.752665504868065\n",
      "Avg. Micro Precision of Lemmas: 0.823875276383695\n",
      "Avg. Micro Precision of Words: 0.7177075946287916\n",
      "F-Score of Lemmas:  0.843730309328\n",
      "Fully Correct Lemmawise: 0.43771535971598624\n",
      "Fully Correct Wordwise: 0.19922731544324945\n",
      "[86.46, 75.27, 82.39, 71.77, 84.37, 43.77, 19.92]\n"
     ]
    }
   ],
   "source": [
    "# Fetch partial results\n",
    "while not queue.empty():\n",
    "    result_arr.append(queue.get())\n",
    "# Evaluate results till now\n",
    "Evaluate(result_arr)"
   ]
  },
  {
   "cell_type": "code",
   "execution_count": 27,
   "metadata": {
    "scrolled": true
   },
   "outputs": [
    {
     "name": "stdout",
     "output_type": "stream",
     "text": [
      "Process with\t vpid: 0\t ->\t pid: 18453\t ->\t running status: False\n",
      "Process with\t vpid: 1\t ->\t pid: 18456\t ->\t running status: False\n",
      "Process with\t vpid: 2\t ->\t pid: 18458\t ->\t running status: False\n",
      "Process with\t vpid: 3\t ->\t pid: 18462\t ->\t running status: False\n",
      "Process with\t vpid: 4\t ->\t pid: 18465\t ->\t running status: False\n",
      "Process with\t vpid: 5\t ->\t pid: 18467\t ->\t running status: False\n"
     ]
    }
   ],
   "source": [
    "# Check status\n",
    "for i in range(proc_count):\n",
    "    p = procs[i]\n",
    "    print('Process with\\t vpid: {}\\t ->\\t pid: {}\\t ->\\t running status: {}'.format(i, p.pid, p.is_alive()))"
   ]
  },
  {
   "cell_type": "code",
   "execution_count": 28,
   "metadata": {
    "collapsed": true
   },
   "outputs": [],
   "source": [
    "# Properly Join\n",
    "for i in range(proc_count):\n",
    "    procs[i].join()"
   ]
  },
  {
   "cell_type": "code",
   "execution_count": 10,
   "metadata": {
    "collapsed": true
   },
   "outputs": [],
   "source": [
    "# Force Terminate\n",
    "for p in procs:\n",
    "    p.terminate()"
   ]
  },
  {
   "cell_type": "code",
   "execution_count": 24,
   "metadata": {},
   "outputs": [
    {
     "data": {
      "text/plain": [
       "6.7729026036644164"
      ]
     },
     "execution_count": 24,
     "metadata": {},
     "output_type": "execute_result"
    }
   ],
   "source": [
    "np.mean([a[2] for a in result_arr])"
   ]
  },
  {
   "cell_type": "code",
   "execution_count": 27,
   "metadata": {
    "scrolled": false
   },
   "outputs": [
    {
     "name": "stdout",
     "output_type": "stream",
     "text": [
      "C: 1, Samples: 199, Mean: 0.7537688442211056\n",
      "C: 2, Samples: 428, Mean: 0.8259345794392523\n",
      "C: 3, Samples: 293, Mean: 0.8612059158134243\n",
      "C: 4, Samples: 260, Mean: 0.8096153846153846\n",
      "C: 5, Samples: 646, Mean: 0.8328173374613003\n",
      "C: 6, Samples: 2004, Mean: 0.8733366600133068\n",
      "C: 7, Samples: 2653, Mean: 0.8951052716601151\n",
      "C: 8, Samples: 1885, Mean: 0.8915119363395225\n",
      "C: 9, Samples: 714, Mean: 0.886710239651416\n",
      "C: 10, Samples: 208, Mean: 0.8764423076923078\n",
      "C: 11, Samples: 92, Mean: 0.8922924901185771\n",
      "C: 12, Samples: 75, Mean: 0.8522222222222222\n",
      "C: 13, Samples: 24, Mean: 0.842948717948718\n",
      "C: 14, Samples: 19, Mean: 0.8759398496240601\n",
      "C: 15, Samples: 16, Mean: 0.8333333333333334\n",
      "C: 16, Samples: 8, Mean: 0.890625\n",
      "C: 17, Samples: 14, Mean: 0.8403361344537814\n",
      "C: 18, Samples: 8, Mean: 0.8333333333333334\n",
      "C: 19, Samples: 5, Mean: 0.8315789473684211\n",
      "C: 20, Samples: 2, Mean: 0.925\n",
      "C: 21, Samples: 4, Mean: 0.8809523809523809\n",
      "C: 22, Samples: 2, Mean: 0.7954545454545454\n",
      "C: 23, Samples: 3, Mean: 0.7826086956521738\n",
      "C: 24, Samples: 1, Mean: 0.7083333333333334\n",
      "C: 26, Samples: 4, Mean: 0.7403846153846153\n",
      "C: 28, Samples: 2, Mean: 0.8035714285714286\n",
      "C: 29, Samples: 2, Mean: 0.8793103448275862\n",
      "C: 30, Samples: 1, Mean: 0.8\n",
      "C: 32, Samples: 1, Mean: 0.8125\n",
      "C: 33, Samples: 1, Mean: 0.7878787878787878\n",
      "C: 35, Samples: 1, Mean: 0.6857142857142857\n",
      "C: 37, Samples: 1, Mean: 0.8378378378378378\n",
      "C: 46, Samples: 1, Mean: 0.8913043478260869\n"
     ]
    }
   ],
   "source": [
    "result_arr2 = [list(x) for x in result_arr]\n",
    "\n",
    "recalls = defaultdict(list)\n",
    "for i in range(len(result_arr2)):\n",
    "    result_arr2[i][0] /= result_arr2[i][2]\n",
    "    result_arr2[i][1] /= result_arr2[i][2]\n",
    "    recalls[result_arr2[i][2]].append(result_arr2[i][1])\n",
    "\n",
    "for c in sorted(recalls.keys()):\n",
    "    print('C: {}, Samples: {}, Mean: {}'.format(c, len(recalls[c]), np.mean(recalls[c])))"
   ]
  },
  {
   "cell_type": "code",
   "execution_count": null,
   "metadata": {
    "collapsed": true
   },
   "outputs": [],
   "source": []
  },
  {
   "cell_type": "code",
   "execution_count": null,
   "metadata": {
    "collapsed": true
   },
   "outputs": [],
   "source": []
  }
 ],
 "metadata": {
  "anaconda-cloud": {},
  "kernelspec": {
   "display_name": "ENV(py3_bishal)",
   "language": "python",
   "name": "py3_bishal"
  },
  "language_info": {
   "codemirror_mode": {
    "name": "ipython",
    "version": 3
   },
   "file_extension": ".py",
   "mimetype": "text/x-python",
   "name": "python",
   "nbconvert_exporter": "python",
   "pygments_lexer": "ipython3",
   "version": "3.6.0"
  }
 },
 "nbformat": 4,
 "nbformat_minor": 1
}
