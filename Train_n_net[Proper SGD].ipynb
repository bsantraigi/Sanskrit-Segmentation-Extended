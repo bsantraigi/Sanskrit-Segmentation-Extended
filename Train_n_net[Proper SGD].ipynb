{
 "cells": [
  {
   "cell_type": "code",
   "execution_count": 1,
   "metadata": {
    "collapsed": false
   },
   "outputs": [],
   "source": [
    "%load_ext autoreload\n",
    "%autoreload 2"
   ]
  },
  {
   "cell_type": "code",
   "execution_count": 2,
   "metadata": {
    "collapsed": true
   },
   "outputs": [],
   "source": [
    "## bUILT-iN pACKAGES\n",
    "import sys, os, time, bz2, zlib, pickle, math, json\n",
    "from collections import defaultdict\n",
    "import numpy as np\n",
    "import matplotlib.pyplot as plt\n",
    "np.set_printoptions(suppress=True)\n",
    "%matplotlib inline\n",
    "from IPython.display import display\n",
    "\n",
    "## lAST sUMMER\n",
    "from romtoslp import *\n",
    "from sentences import *\n",
    "from DCS import *\n",
    "import MatDB\n",
    "\n",
    "\n",
    "## lAST yEAR\n",
    "# from word_definite import *\n",
    "from nnet import *\n",
    "# from heap_n_PrimMST import *\n",
    "# from word_definite import *"
   ]
  },
  {
   "cell_type": "code",
   "execution_count": 3,
   "metadata": {
    "collapsed": false
   },
   "outputs": [],
   "source": [
    "import winsound\n",
    "def playBeep():\n",
    "    for i in range(3):\n",
    "        winsound.Beep(2200, 300)\n",
    "        winsound.Beep(2600, 300)"
   ]
  },
  {
   "cell_type": "code",
   "execution_count": 4,
   "metadata": {
    "collapsed": true
   },
   "outputs": [],
   "source": [
    "loaded_SKT = pickle.load(open('../Simultaneous_CompatSKT_10K.p', 'rb'), encoding=u'utf-8')\n",
    "loaded_DCS = pickle.load(open('../Simultaneous_DCS_10K.p', 'rb'), encoding=u'utf-8')"
   ]
  },
  {
   "cell_type": "code",
   "execution_count": 5,
   "metadata": {
    "collapsed": true
   },
   "outputs": [],
   "source": [
    "# dataset_4k_1k = pickle.load(open('../SmallDataset_4K_1K.p', 'rb'))\n",
    "# TrainFiles = dataset_4k_1k['TrainFiles']\n",
    "# TestFiles = dataset_4k_1k['TestFiles']\n",
    "\n",
    "# dataset_6k_3k = pickle.load(open('../SmallDataset_6K_3K.p', 'rb'))\n",
    "# TrainFiles_2 = dataset_6k_3k['TrainFiles']\n",
    "# TestFiles_2 = dataset_6k_3k['TestFiles']"
   ]
  },
  {
   "cell_type": "code",
   "execution_count": 6,
   "metadata": {
    "collapsed": false
   },
   "outputs": [],
   "source": [
    "# matDB = MatDB.MatDB()"
   ]
  },
  {
   "cell_type": "code",
   "execution_count": 5,
   "metadata": {
    "collapsed": false
   },
   "outputs": [
    {
     "name": "stdout",
     "output_type": "stream",
     "text": [
      "1114\n",
      "1115\n"
     ]
    }
   ],
   "source": [
    "loader = pickle.load(open('../bz2Dataset_10K.p', 'rb'))\n",
    "TrainFiles = loader['TrainFiles']\n",
    "TestFiles = loader['TestFiles']\n",
    "print(len(TrainFiles))\n",
    "print(len(TestFiles))\n",
    "def open_dsbz2(filename):\n",
    "    with bz2.BZ2File(filename, 'r') as f:\n",
    "        loader = pickle.load(f)\n",
    "    \n",
    "    conflicts_Dict_correct = loader['conflicts_Dict_correct']\n",
    "    nodelist_to_correct_mapping = loader['nodelist_to_correct_mapping']\n",
    "    nodelist_correct = loader['nodelist_correct']\n",
    "    featVMat_correct = loader['featVMat_correct']\n",
    "    featVMat = loader['featVMat']\n",
    "    conflicts_Dict = loader['conflicts_Dict']\n",
    "    nodelist = loader['nodelist']\n",
    "    \n",
    "    return (nodelist_correct, conflicts_Dict_correct, featVMat_correct, nodelist_to_correct_mapping,\\\n",
    "            nodelist, conflicts_Dict, featVMat)\n"
   ]
  },
  {
   "cell_type": "code",
   "execution_count": 6,
   "metadata": {
    "collapsed": true
   },
   "outputs": [],
   "source": [
    "# from MatDB import *\n",
    "import word_definite as WD\n",
    "from heap_n_PrimMST import *\n",
    "from nnet import *"
   ]
  },
  {
   "cell_type": "code",
   "execution_count": 7,
   "metadata": {
    "collapsed": true
   },
   "outputs": [],
   "source": [
    "\"\"\"\n",
    "################################################################################################\n",
    "######################  CREATE SEVERAL DATA STRUCTURES FROM SENTENCE/DCS  ######################\n",
    "###########################  NODELIST, ADJACENCY LIST, GRAPH, HEAP #############################\n",
    "################################################################################################\n",
    "\"\"\"\n",
    "def GetTrainingKit(sentenceObj, dcsObj):\n",
    "    nodelist = GetNodes(sentenceObj)\n",
    "    \n",
    "    # Nodelist with only the correct_nodes\n",
    "    nodelist2 = GetNodes(sentenceObj)\n",
    "    nodelist2_to_correct_mapping = {}\n",
    "    nodelist_correct = []\n",
    "    search_key = 0\n",
    "    first_key = 0\n",
    "    for chunk_id in range(len(dcsObj.lemmas)):\n",
    "        while nodelist2[first_key].chunk_id != chunk_id:\n",
    "            first_key += 1\n",
    "        for j in range(len(dcsObj.lemmas[chunk_id])):\n",
    "            search_key = first_key\n",
    "            while (nodelist2[search_key].lemma != rom_slp(dcsObj.lemmas[chunk_id][j])) or (nodelist2[search_key].cng != dcsObj.cng[chunk_id][j]):\n",
    "                search_key += 1\n",
    "                if search_key >= len(nodelist2) or nodelist2[search_key].chunk_id > chunk_id:\n",
    "                    break\n",
    "    #         print((rom_slp(dcsObj.lemmas[chunk_id][j]), dcsObj.cng[chunk_id][j]))\n",
    "    #         print(nodelist[search_key])\n",
    "            nodelist2_to_correct_mapping[len(nodelist_correct)] = search_key\n",
    "            nodelist_correct.append(nodelist2[search_key])\n",
    "    return (nodelist, nodelist_correct, nodelist2_to_correct_mapping)\n",
    "    \n",
    "\n",
    "def GetGraph(nodelist, neuralnet):\n",
    "    if not neuralnet.outer_relu:\n",
    "        conflicts_Dict = Get_Conflicts(nodelist)\n",
    "\n",
    "        featVMat = Get_Feat_Vec_Matrix(nodelist, conflicts_Dict)\n",
    "\n",
    "        (WScalarMat, SigmoidGateOutput) = Get_W_Scalar_Matrix_from_FeatVect_Matrix(featVMat, nodelist, conflicts_Dict, neuralnet)\n",
    "        return (conflicts_Dict, featVMat, WScalarMat, SigmoidGateOutput)\n",
    "    else:\n",
    "        conflicts_Dict = Get_Conflicts(nodelist)\n",
    "\n",
    "        featVMat = Get_Feat_Vec_Matrix(nodelist, conflicts_Dict)\n",
    "\n",
    "        WScalarMat = Get_W_Scalar_Matrix_from_FeatVect_Matrix(featVMat, nodelist, conflicts_Dict, neuralnet)\n",
    "        return (conflicts_Dict, featVMat, WScalarMat)"
   ]
  },
  {
   "cell_type": "code",
   "execution_count": 7,
   "metadata": {
    "collapsed": false
   },
   "outputs": [
    {
     "name": "stdout",
     "output_type": "stream",
     "text": [
      "nEURAL nET wILL bE sAVED hERE:  outputs/train_nnet_t550249010107.p\n"
     ]
    }
   ],
   "source": [
    "\"\"\"\n",
    "################################################################################################\n",
    "##############################  GET A FILENAME TO SAVE WEIGHTS  ################################\n",
    "################################################################################################\n",
    "\"\"\"\n",
    "import time\n",
    "st = str(int((time.time() * 1e6) % 1e13))\n",
    "log_name = 'logs/train_nnet_t{}.out'.format(st)\n",
    "p_name = 'outputs/train_nnet_t{}.p'.format(st)\n",
    "print('nEURAL nET wILL bE sAVED hERE: ', p_name)"
   ]
  },
  {
   "cell_type": "code",
   "execution_count": 8,
   "metadata": {
    "collapsed": true
   },
   "outputs": [],
   "source": [
    "trainingStatus = defaultdict(lambda: bool(False))"
   ]
  },
  {
   "cell_type": "code",
   "execution_count": 9,
   "metadata": {
    "collapsed": true
   },
   "outputs": [],
   "source": [
    "\"\"\"\n",
    "################################################################################################\n",
    "##############################  TRAIN FUNCTION  ################################################\n",
    "################################################################################################\n",
    "\"\"\"\n",
    "\n",
    "def train(loaded_SKT, loaded_DCS, n_trainset = -1, iterationPerBatch = 10, filePerBatch = 20, _debug = True):\n",
    "    # Train\n",
    "    if n_trainset == -1:\n",
    "        n_trainset = len(TrainFiles)\n",
    "        totalBatchToTrain = math.ceil(n_trainset/filePerBatch)\n",
    "    else:\n",
    "        totalBatchToTrain = math.ceil(n_trainset/filePerBatch)\n",
    "    \n",
    "    for iterout in range(totalBatchToTrain):\n",
    "        # Change current batch\n",
    "        trainer.Save(p_name)\n",
    "        print('Batch: ', iterout)\n",
    "        files_for_batch = TrainFiles[iterout*filePerBatch:(iterout + 1)*filePerBatch]\n",
    "        print(files_for_batch)\n",
    "        # trainer.Load('outputs/neuralnet_trained.p')\n",
    "        \n",
    "        # Run few times on same set of files\n",
    "        for iterin in range(iterationPerBatch):\n",
    "            print('ITERATION IN', iterin)        \n",
    "            for fn in files_for_batch:\n",
    "                trainFileName = fn.replace('.ds.bz2', '.p2')\n",
    "                sentenceObj = loaded_SKT[trainFileName]\n",
    "                dcsObj = loaded_DCS[trainFileName]\n",
    "                if trainingStatus[sentenceObj.sent_id]:\n",
    "                    continue\n",
    "                # trainer.Save('outputs/saved_trainer.p')\n",
    "                try:\n",
    "                    trainer.Train(sentenceObj, dcsObj, _debug)\n",
    "                except (IndexError, KeyError) as e:\n",
    "                    print('\\x1b[31mFailed: {} \\x1b[0m'.format(sentenceObj.sent_id))\n",
    "            sys.stdout.flush() # Flush IO buffer \n",
    "    trainer.Save(p_name)\n",
    "    \n",
    "    sys.stdout.flush() # Flush IO buffer \n",
    "                \n",
    "def test(loaded_SKT, loaded_DCS, n_testSet = -1, _testFiles = None, n_checkpt = 100):\n",
    "    total_lemma = 0;\n",
    "    correct_lemma = 0;\n",
    "\n",
    "    total_word = 0;\n",
    "    total_output_nodes = 0\n",
    "    correct_word = 0;\n",
    "    file_counter = 0\n",
    "    if _testFiles is None:\n",
    "        if n_testSet == -1:\n",
    "            _testFiles = TestFiles\n",
    "        else:\n",
    "            _testFiles = TestFiles[0:n_testSet]\n",
    "    else:\n",
    "        if n_testSet == -1:\n",
    "            _testFiles = _testFiles\n",
    "        else:\n",
    "            _testFiles = _testFiles[0:n_testSet]\n",
    "            \n",
    "    recalls = []\n",
    "    recalls_of_word = []\n",
    "    precisions = []\n",
    "    precisions_of_words = []\n",
    "    for fn in _testFiles:\n",
    "        if file_counter % n_checkpt == 0:\n",
    "            print(file_counter,' Checkpoint... ')\n",
    "            sys.stdout.flush() # Flush IO buffer \n",
    "        \n",
    "        file_counter += 1\n",
    "        \n",
    "        testFileName = fn.replace('.ds.bz2', '.p2')\n",
    "        sentenceObj = loaded_SKT[testFileName]\n",
    "        dcsObj = loaded_DCS[testFileName]\n",
    "        \n",
    "        try:\n",
    "            (word_match, lemma_match, n_dcsWords, n_output_nodes) = trainer.Test(sentenceObj, dcsObj)\n",
    "            \n",
    "            recalls.append(lemma_match/n_dcsWords)\n",
    "            recalls_of_word.append(word_match/n_dcsWords)\n",
    "            \n",
    "            precisions.append(lemma_match/n_output_nodes)\n",
    "            precisions_of_words.append(word_match/n_output_nodes)\n",
    "            \n",
    "            total_lemma += n_dcsWords\n",
    "            total_word += n_dcsWords\n",
    "            \n",
    "            total_output_nodes += n_output_nodes            \n",
    "            \n",
    "            correct_lemma += lemma_match\n",
    "            correct_word += word_match\n",
    "        except (IndexError, KeyError) as e:\n",
    "            print('Failed!')        \n",
    "\n",
    "    print('Avg. Micro Recall of Lemmas: {}'.format(np.mean(np.array(recalls))))\n",
    "    print('Avg. Micro Recall of Words: {}'.format(np.mean(np.array(recalls_of_word))))\n",
    "    print('Avg. Micro Precision of Lemmas: {}'.format(np.mean(np.array(precisions))))\n",
    "    print('Avg. Micro Precision of Words: {}'.format(np.mean(np.array(precisions_of_words))))\n",
    "    \n",
    "    return (recalls, recalls_of_word, precisions, precisions_of_words)\n",
    "    "
   ]
  },
  {
   "cell_type": "code",
   "execution_count": 10,
   "metadata": {
    "collapsed": true
   },
   "outputs": [],
   "source": [
    "# NOW-OLD FUNCTION\n",
    "# def GetLoss(_mst_adj_graph, _mask_de_correct_edges, _negLogLikelies):\n",
    "#     _negLogLikelies = _negLogLikelies.copy()\n",
    "#     _negLogLikelies[~_mst_adj_graph] = 0\n",
    "#     _negLogLikelies[~_mask_de_correct_edges] *= -1 # BAKA!!! Check before you try to fix this again\n",
    "#     return np.sum(_negLogLikelies)    \n",
    "\n",
    "# NEW FUNCTION\n",
    "def GetLoss(_mst_adj_graph, _mask_de_correct_edges, _WScalarMat):\n",
    "    _WScalarMat = _WScalarMat.copy()\n",
    "    _WScalarMat[_mst_adj_graph&(~_mask_de_correct_edges)] *= -1 # BAKA!!! Check before you try to fix this again\n",
    "    _WScalarMat[~_mst_adj_graph] = 0\n",
    "    return np.sum(_WScalarMat)"
   ]
  },
  {
   "cell_type": "code",
   "execution_count": 30,
   "metadata": {
    "collapsed": false
   },
   "outputs": [],
   "source": [
    "class Trainer:\n",
    "    def __init__(self):\n",
    "        self.hidden_layer_size = 700\n",
    "        self._edge_vector_dim = 1000\n",
    "        # self._edge_vector_dim = WD._edge_vector_dim\n",
    "        # self._full_cnglist = list(WD.mat_cngCount_1D)\n",
    "        \n",
    "        self.neuralnet = NN(self._edge_vector_dim, self.hidden_layer_size, outer_relu=True)\n",
    "        self.history = defaultdict(lambda: list())\n",
    "        \n",
    "    def Reset(self):\n",
    "        self.neuralnet = NN(self._edge_vector_dim, self.hidden_layer_size)\n",
    "        self.history = defaultdict(lambda: list())\n",
    "        \n",
    "    def Save(self, filename):\n",
    "        print('Weights Saved: ', p_name)\n",
    "        pickle.dump({\n",
    "                'U': self.neuralnet.U,\n",
    "                'W': self.neuralnet.W,\n",
    "                'n': self.neuralnet.n,\n",
    "                'd': self.neuralnet.d\n",
    "            }, open(p_name, 'wb'))\n",
    "        return\n",
    "        \n",
    "    \n",
    "    def Load(self, filename):\n",
    "        loader = pickle.load(open(filename, 'rb'))\n",
    "        self.neuralnet.U = loader['U']\n",
    "        self.neuralnet.W = loader['W']\n",
    "        \n",
    "    def Test(self, sentenceObj, dcsObj):\n",
    "        neuralnet = self.neuralnet\n",
    "        minScore = np.inf\n",
    "        minMst = None\n",
    "        \n",
    "        dsbz2_name = sentenceObj.sent_id + '.ds.bz2'\n",
    "        (nodelist_correct, conflicts_Dict_correct, featVMat_correct, nodelist_to_correct_mapping,\\\n",
    "            nodelist, conflicts_Dict, featVMat) = open_dsbz2('../NewData/skt_dcs_DS.bz2_10K/' + dsbz2_name)\n",
    "        \n",
    "        if not self.neuralnet.outer_relu:\n",
    "            (WScalarMat, SigmoidGateOutput) = Get_W_Scalar_Matrix_from_FeatVect_Matrix(featVMat, nodelist, conflicts_Dict, neuralnet)\n",
    "        else:\n",
    "            WScalarMat = Get_W_Scalar_Matrix_from_FeatVect_Matrix(featVMat, nodelist, conflicts_Dict, neuralnet)\n",
    "        \n",
    "        # print('NeuralNet Time: ', time.time() - startT)\n",
    "        # startT = time.time()\n",
    "        \n",
    "        # Get all MST\n",
    "        for source in range(len(nodelist)):\n",
    "            (mst_nodes, mst_adj_graph, _) = MST(nodelist, WScalarMat, conflicts_Dict, source)\n",
    "            # print('.', end = '')\n",
    "            score = GetMSTWeight(mst_nodes, WScalarMat)\n",
    "            if(score < minScore):\n",
    "                minScore = score\n",
    "                minMst = mst_nodes\n",
    "        dcsLemmas = [[rom_slp(l) for l in arr]for arr in dcsObj.lemmas]\n",
    "        word_match = 0\n",
    "        lemma_match = 0\n",
    "        n_output_nodes = 0\n",
    "        for chunk_id, wdSplit in minMst.items():\n",
    "            for wd in wdSplit:\n",
    "                n_output_nodes += 1\n",
    "                # Match lemma\n",
    "                search_result = [i for i, j in enumerate(dcsLemmas[chunk_id]) if j == wd.lemma]\n",
    "                if len(search_result) > 0:\n",
    "                    lemma_match += 1\n",
    "                # Match CNG\n",
    "                for i in search_result:\n",
    "                    if(dcsObj.cng[chunk_id][i] == str(wd.cng)):\n",
    "                        word_match += 1\n",
    "                        # print(wd.lemma, wd.cng)\n",
    "                        break\n",
    "        dcsLemmas = [l for arr in dcsObj.lemmas for l in arr]\n",
    "        \n",
    "        # print('All MST Time: ', time.time() - startT)\n",
    "        # print('Node Count: ', len(nodelist))\n",
    "#         print('\\nFull Match: {}, Partial Match: {}, OutOf {}, NodeCount: {}, '.\\\n",
    "#               format(word_match, lemma_match, len(dcsLemmas), len(nodelist)))\n",
    "        return (word_match, lemma_match, len(dcsLemmas), n_output_nodes)\n",
    "    \n",
    "    def Train(self, sentenceObj, dcsObj, _debug = True):\n",
    "        # Hyperparameter for hinge loss: m\n",
    "        \n",
    "        dsbz2_name = sentenceObj.sent_id + '.ds.bz2'\n",
    "        (nodelist_correct, conflicts_Dict_correct, featVMat_correct, nodelist_to_correct_mapping,\\\n",
    "            nodelist, conflicts_Dict, featVMat) = open_dsbz2('../NewData/skt_dcs_DS.bz2_10K/' + dsbz2_name)\n",
    "        \n",
    "        \"\"\" FORM MAXIMUM(ENERGY) SPANNING TREE OF THE GOLDEN GRAPH : WORST GOLD STRUCTURE \"\"\"\n",
    "        WScalarMat_correct = Get_W_Scalar_Matrix_from_FeatVect_Matrix(featVMat_correct, nodelist_correct,\\\n",
    "                                                                      conflicts_Dict_correct, self.neuralnet)\n",
    "        source = 0\n",
    "        \n",
    "        \"\"\" Find the max spanning tree : negative Weight matrix passed \"\"\"\n",
    "        (max_st_gold_ndict, max_st_adj_gold_small, _) = MST(nodelist_correct, -WScalarMat_correct, conflicts_Dict_correct, source)\n",
    "        energy_gold_max_ST = np.sum(WScalarMat_correct[max_st_adj_gold_small])\n",
    "        \n",
    "        \"\"\" Convert correct spanning tree graph adj matrix to full marix dimensions \"\"\"\n",
    "        \"\"\" Create full-size adjacency matrix for correct_mst_small \"\"\"\n",
    "        nodelen = len(nodelist)\n",
    "        max_st_adj_gold = np.ndarray((nodelen, nodelen), np.bool)*False # T_STAR\n",
    "        for i in range(max_st_adj_gold_small.shape[0]):\n",
    "            for j in range(max_st_adj_gold_small.shape[1]):\n",
    "                max_st_adj_gold[nodelist_to_correct_mapping[i], nodelist_to_correct_mapping[j]] = max_st_adj_gold_small[i, j]\n",
    "        \n",
    "        \"\"\" Delta(Margin) Function : MASK FOR WHICH NODES IN NODELIST BELONG TO DCS \"\"\"\n",
    "        gold_nodes_mask = np.array([False]*len(nodelist))\n",
    "        gold_nodes_mask[list(nodelist_to_correct_mapping.values())] = True\n",
    "        margin_f = lambda nodes_mask: np.sum(nodes_mask&gold_nodes_mask)**1.7\n",
    "        \n",
    "        \"\"\" FOR ALL POSSIBLE MST FROM THE COMPLETE GRAPH \"\"\"\n",
    "        WScalarMat = Get_W_Scalar_Matrix_from_FeatVect_Matrix(featVMat, nodelist, conflicts_Dict, self.neuralnet)\n",
    "\n",
    "        \"\"\" For each node - Find MST with that source\"\"\"\n",
    "        min_STx = None # Get Spanning tree with minimum marginalized energy\n",
    "        min_marginalized_energy = np.inf\n",
    "        \n",
    "        for source in range(len(nodelist)):\n",
    "            (mst_nodes, mst_adj_graph, mst_nodes_bool) = MST(nodelist, WScalarMat, conflicts_Dict, source) # T_X\n",
    "            # print('.', end = '')\n",
    "           \n",
    "            marginalized_dist = np.sum(WScalarMat[mst_adj_graph]) - margin_f(mst_nodes_bool)\n",
    "            if marginalized_dist < min_marginalized_energy:\n",
    "                min_marginalized_energy = marginalized_dist\n",
    "                min_STx = mst_adj_graph\n",
    "            # Energy diff should all be negative\n",
    "#             print('Source: [{}], Del:{}, Energy_margin: {:.3f}, Energy: {:.3f}, GE:{:.3f}'.\\\n",
    "#                   format(source, margin_f(mst_nodes_bool), marginalized_dist,  np.sum(WScalarMat[mst_adj_graph]), energy_gold_max_ST))\n",
    "\n",
    "        \"\"\" Gradient Descent \"\"\"\n",
    "        # FOR MOST OFFENdING Y\n",
    "        doBpp = False\n",
    "        \n",
    "        Total_Loss = energy_gold_max_ST - min_marginalized_energy\n",
    "#         print('Total Loss: ', Total_Loss)\n",
    "        if Total_Loss > 0:\n",
    "            dLdOut = np.zeros_like(WScalarMat)\n",
    "            dLdOut[max_st_adj_gold] = 1\n",
    "            dLdOut[min_STx] = -1\n",
    "            if _debug:\n",
    "                print('{}. '.format(sentenceObj.sent_id), end = '')\n",
    "            self.neuralnet.Back_Prop(dLdOut, len(nodelist), featVMat, _debug)\n",
    "        else:\n",
    "            trainingStatus[sentenceObj.sent_id] = True\n",
    "\n",
    "        self.history[sentenceObj.sent_id].append(Total_Loss)\n",
    "#         print(\"\\nFileKey: %s, Loss: %6.3f\" % (sentenceObj.sent_id, Total_Loss))"
   ]
  },
  {
   "cell_type": "code",
   "execution_count": 31,
   "metadata": {
    "collapsed": false
   },
   "outputs": [],
   "source": [
    "# trainer.neuralnet.U"
   ]
  },
  {
   "cell_type": "code",
   "execution_count": 32,
   "metadata": {
    "collapsed": false,
    "scrolled": true
   },
   "outputs": [],
   "source": [
    "trainer = None\n",
    "def InitModule(_matDB):\n",
    "    global trainer\n",
    "#     global WD, trainer\n",
    "#     WD.word_definite_extInit(_matDB)\n",
    "    trainer = Trainer()\n",
    "# InitModule(matDB)\n",
    "InitModule(None)\n",
    "trainingStatus = defaultdict(lambda: bool(False))\n",
    "# trainer.Load('outputs/train_nnet_t526539685574.p')"
   ]
  },
  {
   "cell_type": "code",
   "execution_count": 33,
   "metadata": {
    "collapsed": false,
    "scrolled": false
   },
   "outputs": [
    {
     "name": "stdout",
     "output_type": "stream",
     "text": [
      "[0, 1, 2, 3, 4, 5]\n",
      "{0: 0, 1: 6, 2: 10, 3: 11, 4: 15, 5: 17}\n",
      "[0 0 0 0 0 0 0 0 0 0 0 0 0 0 0 0 0 0 0 0 0 0 0 0 0 0]\n",
      "[1 0 0 0 0 0 1 0 0 0 1 1 0 0 0 1 0 1 0 0 0 0 0 0 0 0]\n",
      "422171. Max(delW):   0.000055\tMax(delU):   0.000158\n"
     ]
    }
   ],
   "source": [
    "\"\"\"\n",
    "################################################################################################\n",
    "################################################################################################\n",
    "################################################################################################\n",
    "\"\"\"\n",
    "# if __name__ == '__main__':\n",
    "# loaded_SKT = pickle.load(open('../Simultaneous_CompatSKT_10K.p', 'rb'))\n",
    "# loaded_DCS = pickle.load(open('../Simultaneous_DCS_10K.p', 'rb'))\n",
    "# main(loaded_SKT, loaded_DCS)\n",
    "np.set_printoptions(suppress=False)\n",
    "\n",
    "fn = TrainFiles[1].replace('.ds.bz2', '.p2')\n",
    "# for _ in range(10):\n",
    "trainer.Train(loaded_SKT[fn], loaded_DCS[fn], _debug = True)\n",
    "\n",
    "# # fn = TestFiles[1].replace('.ds.bz2', '.p2')\n",
    "# trainer.Test(loaded_SKT[fn], loaded_DCS[fn])\n",
    "# print (\"Not Implemented\")"
   ]
  },
  {
   "cell_type": "code",
   "execution_count": null,
   "metadata": {
    "collapsed": false,
    "scrolled": true
   },
   "outputs": [
    {
     "name": "stdout",
     "output_type": "stream",
     "text": [
      "Weights Saved:  outputs/train_nnet_t535282489576.p\n",
      "Batch:  0\n",
      "['323329.ds.bz2', '422171.ds.bz2', '146626.ds.bz2', '345011.ds.bz2', '31001.ds.bz2', '343232.ds.bz2', '172249.ds.bz2', '414407.ds.bz2', '39870.ds.bz2', '59060.ds.bz2', '412263.ds.bz2', '433448.ds.bz2', '100663.ds.bz2', '120396.ds.bz2', '26217.ds.bz2', '299014.ds.bz2', '157008.ds.bz2', '17327.ds.bz2', '16339.ds.bz2', '236019.ds.bz2', '17355.ds.bz2', '121571.ds.bz2', '296667.ds.bz2', '54828.ds.bz2', '13904.ds.bz2', '391885.ds.bz2', '337187.ds.bz2', '183860.ds.bz2', '57621.ds.bz2', '124885.ds.bz2', '24631.ds.bz2', '36141.ds.bz2', '11284.ds.bz2', '4463.ds.bz2', '41402.ds.bz2', '20703.ds.bz2', '41341.ds.bz2', '122202.ds.bz2', '17773.ds.bz2', '150782.ds.bz2', '114086.ds.bz2', '20029.ds.bz2', '185215.ds.bz2', '415126.ds.bz2', '272191.ds.bz2', '161857.ds.bz2', '289783.ds.bz2', '423387.ds.bz2', '312016.ds.bz2', '246935.ds.bz2']\n",
      "ITERATION IN 0\n",
      "ITERATION IN 1\n",
      "Weights Saved:  outputs/train_nnet_t535282489576.p\n",
      "Batch:  1\n",
      "['165170.ds.bz2', '353855.ds.bz2', '107697.ds.bz2', '328780.ds.bz2', '12819.ds.bz2', '1735.ds.bz2', '1354.ds.bz2', '371275.ds.bz2', '37319.ds.bz2', '37674.ds.bz2', '198514.ds.bz2', '29798.ds.bz2', '23224.ds.bz2', '33321.ds.bz2', '239442.ds.bz2', '8826.ds.bz2', '29926.ds.bz2', '70978.ds.bz2', '354132.ds.bz2', '384879.ds.bz2', '3611.ds.bz2', '339778.ds.bz2', '54454.ds.bz2', '14581.ds.bz2', '10141.ds.bz2', '419002.ds.bz2', '258101.ds.bz2', '37651.ds.bz2', '114727.ds.bz2', '156934.ds.bz2', '35604.ds.bz2', '78863.ds.bz2', '168717.ds.bz2', '36824.ds.bz2', '22603.ds.bz2', '292158.ds.bz2', '29997.ds.bz2', '334521.ds.bz2', '22688.ds.bz2', '312741.ds.bz2', '159599.ds.bz2', '10919.ds.bz2', '159397.ds.bz2', '409050.ds.bz2', '53562.ds.bz2', '3603.ds.bz2', '17630.ds.bz2', '358435.ds.bz2', '4166.ds.bz2', '82358.ds.bz2']\n",
      "ITERATION IN 0\n",
      "ITERATION IN 1\n",
      "Weights Saved:  outputs/train_nnet_t535282489576.p\n",
      "Batch:  2\n",
      "['19782.ds.bz2', '8293.ds.bz2', '308922.ds.bz2', '54388.ds.bz2', '77445.ds.bz2', '225613.ds.bz2', '320646.ds.bz2', '328961.ds.bz2', '99795.ds.bz2', '94194.ds.bz2', '116926.ds.bz2', '17892.ds.bz2', '32167.ds.bz2', '11631.ds.bz2', '23237.ds.bz2', '288072.ds.bz2', '314171.ds.bz2', '1713.ds.bz2', '264496.ds.bz2', '33683.ds.bz2', '22459.ds.bz2', '319627.ds.bz2', '364197.ds.bz2', '35464.ds.bz2', '57101.ds.bz2', '425080.ds.bz2', '42532.ds.bz2', '130437.ds.bz2', '43198.ds.bz2', '75149.ds.bz2', '148574.ds.bz2', '433159.ds.bz2', '103955.ds.bz2', '83545.ds.bz2', '31641.ds.bz2', '40996.ds.bz2', '310461.ds.bz2', '137270.ds.bz2', '33666.ds.bz2', '27643.ds.bz2', '346599.ds.bz2', '33901.ds.bz2', '261829.ds.bz2', '303029.ds.bz2', '23189.ds.bz2', '379452.ds.bz2', '116374.ds.bz2', '11180.ds.bz2', '22088.ds.bz2', '240010.ds.bz2']\n",
      "ITERATION IN 0\n",
      "ITERATION IN 1\n"
     ]
    }
   ],
   "source": [
    "# Complete Training\n",
    "trainingStatus = defaultdict(lambda: bool(False)) # Reset it after 3 epochs of full-training set\n",
    "train(loaded_SKT, loaded_DCS, n_trainset = -1, filePerBatch = 50, iterationPerBatch=2, _debug=False)\n",
    "playBeep()"
   ]
  },
  {
   "cell_type": "code",
   "execution_count": null,
   "metadata": {
    "collapsed": false,
    "scrolled": false
   },
   "outputs": [],
   "source": [
    "# Test on training set\n",
    "test(loaded_SKT, loaded_DCS, n_testSet=100, _testFiles=TrainFiles, n_checkpt = 10)\n",
    "playBeep()"
   ]
  },
  {
   "cell_type": "code",
   "execution_count": 56,
   "metadata": {
    "collapsed": false,
    "scrolled": true
   },
   "outputs": [
    {
     "name": "stdout",
     "output_type": "stream",
     "text": [
      "0  Checkpoint... \n",
      "50  Checkpoint... \n",
      "100  Checkpoint... \n",
      "150  Checkpoint... \n",
      "200  Checkpoint... \n",
      "250  Checkpoint... \n",
      "300  Checkpoint... \n",
      "350  Checkpoint... \n",
      "400  Checkpoint... \n",
      "450  Checkpoint... \n",
      "500  Checkpoint... \n",
      "550  Checkpoint... \n",
      "600  Checkpoint... \n",
      "650  Checkpoint... \n",
      "Avg. Micro Recall of Lemmas: 0.8369512331454708\n",
      "Avg. Micro Recall of Words: 0.6885798895409492\n",
      "Avg. Micro Precision of Lemmas: 0.78979303122867\n",
      "Avg. Micro Precision of Words: 0.6511872539596757\n"
     ]
    }
   ],
   "source": [
    "# POST TEST 1K SET\n",
    "_ = test(loaded_SKT, loaded_DCS, n_testSet = -1, _testFiles = TestFiles, n_checkpt = 50)\n",
    "playBeep()"
   ]
  },
  {
   "cell_type": "code",
   "execution_count": null,
   "metadata": {
    "collapsed": false
   },
   "outputs": [],
   "source": [
    "# Test on Larger Set\n",
    "_ = test(loaded_SKT, loaded_DCS, n_testSet = 3000, _testFiles = TestFiles_2, n_checkpt = 100)\n",
    "playBeep()"
   ]
  },
  {
   "cell_type": "code",
   "execution_count": 88,
   "metadata": {
    "collapsed": false
   },
   "outputs": [
    {
     "name": "stdout",
     "output_type": "stream",
     "text": [
      "Weights Saved:  outputs/train_nnet_t526539685574.p\n"
     ]
    }
   ],
   "source": []
  },
  {
   "cell_type": "code",
   "execution_count": null,
   "metadata": {
    "collapsed": false,
    "scrolled": false
   },
   "outputs": [],
   "source": [
    "trainer.neuralnet.W"
   ]
  },
  {
   "cell_type": "code",
   "execution_count": null,
   "metadata": {
    "collapsed": false
   },
   "outputs": [],
   "source": [
    "trainer.neuralnet.U"
   ]
  },
  {
   "cell_type": "code",
   "execution_count": 26,
   "metadata": {
    "collapsed": false
   },
   "outputs": [
    {
     "name": "stdout",
     "output_type": "stream",
     "text": [
      "Get Edge Features Time:  6.570472478866577\n",
      "Get Edge Features Time:  1.6002552509307861\n",
      "Get Edge Features Time:  0.5128428936004639\n",
      "Get Edge Features Time:  0.16260337829589844\n",
      "Get Edge Features Time:  0.30678248405456543\n",
      "Get Edge Features Time:  1.3092880249023438\n",
      "Get Edge Features Time:  0.8916211128234863\n",
      "Get Edge Features Time:  1.8754069805145264\n",
      "Get Edge Features Time:  1.14072585105896\n",
      "Get Edge Features Time:  0.27155017852783203\n"
     ]
    }
   ],
   "source": [
    "for fn in TestFiles[:10]:\n",
    "    _ = trainer.Test(loaded_SKT[fn], loaded_DCS[fn])"
   ]
  },
  {
   "cell_type": "code",
   "execution_count": 15,
   "metadata": {
    "collapsed": false
   },
   "outputs": [
    {
     "name": "stdout",
     "output_type": "stream",
     "text": [
      "WD_Node[C: 0, P: 0, Adi @(31) => Adi]\n",
      "WD_Node[C: 1, P: 0, ca @(2) => ca]\n",
      "(1000, 1)\n"
     ]
    }
   ],
   "source": [
    "WD.word_definite_extInit(matDB)\n",
    "# node2 = WD.word_definite('tIkzRam', 'tIkzRa', 31, 0, 0)\n",
    "node1 = WD.word_definite('Adi', 'Adi', 31, 0, 0)\n",
    "node2 = WD.word_definite('ca', 'ca', 2, 0, 1)\n",
    "# node1 = WD.word_definite('koRam', 'koRa', 31, 0, 1)\n",
    "print(node1)\n",
    "print(node2)\n",
    "\n",
    "feats = WD.Get_Features(node1, node2)\n",
    "print(feats.shape)"
   ]
  },
  {
   "cell_type": "code",
   "execution_count": 17,
   "metadata": {
    "collapsed": false
   },
   "outputs": [
    {
     "data": {
      "text/plain": [
       "7031.25"
      ]
     },
     "execution_count": 17,
     "metadata": {},
     "output_type": "execute_result"
    }
   ],
   "source": [
    "feats.nbytes*900/(1024)"
   ]
  },
  {
   "cell_type": "markdown",
   "metadata": {},
   "source": [
    "######   THE END\n",
    "-----------------------------------------------------------------------"
   ]
  }
 ],
 "metadata": {
  "anaconda-cloud": {},
  "kernelspec": {
   "display_name": "Python [default]",
   "language": "python",
   "name": "python3"
  },
  "language_info": {
   "codemirror_mode": {
    "name": "ipython",
    "version": 3
   },
   "file_extension": ".py",
   "mimetype": "text/x-python",
   "name": "python",
   "nbconvert_exporter": "python",
   "pygments_lexer": "ipython3",
   "version": "3.5.2"
  }
 },
 "nbformat": 4,
 "nbformat_minor": 1
}
