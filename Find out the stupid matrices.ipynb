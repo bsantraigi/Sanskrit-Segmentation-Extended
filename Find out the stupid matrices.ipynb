{
 "cells": [
  {
   "cell_type": "code",
   "execution_count": 2,
   "metadata": {
    "collapsed": true
   },
   "outputs": [],
   "source": [
    "import json, pickle\n",
    "from IPython.display import display\n",
    "from collections import defaultdict"
   ]
  },
  {
   "cell_type": "code",
   "execution_count": 3,
   "metadata": {
    "collapsed": true
   },
   "outputs": [],
   "source": [
    "mat = pickle.load(open('../NewData/gauravs/mat_tup2lem_old_countonly.p', 'rb'), encoding=u'utf8')"
   ]
  },
  {
   "cell_type": "code",
   "execution_count": 17,
   "metadata": {
    "collapsed": false
   },
   "outputs": [],
   "source": [
    "mat_rev = defaultdict(lambda: defaultdict(lambda: int(0)))"
   ]
  },
  {
   "cell_type": "code",
   "execution_count": 5,
   "metadata": {
    "collapsed": false
   },
   "outputs": [],
   "source": [
    "# print(len(mat))\n",
    "# x1 = list(mat.keys())[10]\n",
    "# print(x1)\n",
    "# display(mat[x1])"
   ]
  },
  {
   "cell_type": "code",
   "execution_count": 18,
   "metadata": {
    "collapsed": true
   },
   "outputs": [],
   "source": [
    "for tup, dict1 in mat.items():\n",
    "    for lem, val in dict1.items():\n",
    "        mat_rev[lem][tup] += val\n",
    "for lem, _ in mat_rev.items():\n",
    "    mat_rev[lem] = dict(mat_rev[lem])\n",
    "mat_rev = dict(mat_rev)"
   ]
  },
  {
   "cell_type": "code",
   "execution_count": 19,
   "metadata": {
    "collapsed": false
   },
   "outputs": [],
   "source": [
    "pickle.dump(mat_rev, open('../NewData/gauravs/mat_lem2tup_old_countonly.p', 'wb'))"
   ]
  },
  {
   "cell_type": "code",
   "execution_count": 14,
   "metadata": {
    "collapsed": false
   },
   "outputs": [
    {
     "data": {
      "text/plain": [
       "66817"
      ]
     },
     "execution_count": 14,
     "metadata": {},
     "output_type": "execute_result"
    }
   ],
   "source": [
    "len(mat_rev)"
   ]
  },
  {
   "cell_type": "code",
   "execution_count": 23,
   "metadata": {
    "collapsed": false
   },
   "outputs": [],
   "source": [
    "# mat_rev['koRa']"
   ]
  },
  {
   "cell_type": "markdown",
   "metadata": {
    "collapsed": true
   },
   "source": [
    "### Generate tup2tup matrix"
   ]
  },
  {
   "cell_type": "code",
   "execution_count": 1,
   "metadata": {
    "collapsed": true
   },
   "outputs": [],
   "source": [
    "%load_ext autoreload\n",
    "%autoreload 2"
   ]
  },
  {
   "cell_type": "code",
   "execution_count": 1,
   "metadata": {
    "collapsed": true
   },
   "outputs": [],
   "source": [
    "import word_definite as WD\n",
    "from collections import defaultdict\n",
    "import pickle\n",
    "from romtoslp import *\n",
    "import os\n",
    "from DCS import *\n",
    "from sentences import *"
   ]
  },
  {
   "cell_type": "code",
   "execution_count": 3,
   "metadata": {
    "collapsed": false
   },
   "outputs": [
    {
     "data": {
      "text/plain": [
       "441737"
      ]
     },
     "execution_count": 3,
     "metadata": {},
     "output_type": "execute_result"
    }
   ],
   "source": [
    "dcsPath = '../Text Segmentation/DCS_pick/'\n",
    "dcsList = os.listdir(dcsPath)\n",
    "len(dcsList)"
   ]
  },
  {
   "cell_type": "code",
   "execution_count": 6,
   "metadata": {
    "collapsed": false
   },
   "outputs": [],
   "source": [
    "mat_tup2tup_new_countonly = defaultdict(lambda: defaultdict(lambda: int(0)))\n",
    "for fname in dcsList:\n",
    "    if fname[-2:] != '.p':\n",
    "        continue\n",
    "    try:\n",
    "        dcsObj = pickle.load(open(dcsPath + fname, 'rb'), encoding = u'utf-8')\n",
    "    except:\n",
    "        continue\n",
    "    nodelist = []\n",
    "    for chunk_id in range(len(dcsObj.lemmas)):\n",
    "        for j in range(len(dcsObj.lemmas[chunk_id])):\n",
    "            nodelist.append(WD.word_definite(None, rom_slp(dcsObj.lemmas[chunk_id][j]), dcsObj.cng[chunk_id][j], 0, chunk_id))\n",
    "            \n",
    "    for i in range(len(nodelist)):\n",
    "        for j in range(i + 1, len(nodelist)):\n",
    "            mat_tup2tup_new_countonly[nodelist[i].tup][nodelist[j].tup] += 1\n",
    "            mat_tup2tup_new_countonly[nodelist[j].tup][nodelist[i].tup] += 1\n",
    "for key, _ in mat_tup2tup_new_countonly.items():\n",
    "    mat_tup2tup_new_countonly[key] = dict(mat_tup2tup_new_countonly[key])\n",
    "mat_tup2tup_new_countonly = dict(mat_tup2tup_new_countonly)            "
   ]
  },
  {
   "cell_type": "code",
   "execution_count": 7,
   "metadata": {
    "collapsed": false
   },
   "outputs": [],
   "source": [
    "pickle.dump(mat_tup2tup_new_countonly, open('../NewData/gauravs/mat_tup2tup_new_countonly.p', 'wb'))"
   ]
  },
  {
   "cell_type": "code",
   "execution_count": 4,
   "metadata": {
    "collapsed": true
   },
   "outputs": [],
   "source": [
    "mat_tup2tup_new_countonly = pickle.load(open('../NewData/gauravs/mat_tup2tup_new_countonly.p', 'rb'), encoding=u'utf-8')"
   ]
  },
  {
   "cell_type": "code",
   "execution_count": 8,
   "metadata": {
    "collapsed": false
   },
   "outputs": [
    {
     "data": {
      "text/plain": [
       "217326"
      ]
     },
     "execution_count": 8,
     "metadata": {},
     "output_type": "execute_result"
    }
   ],
   "source": [
    "len(mat_tup2tup_new_countonly)"
   ]
  },
  {
   "cell_type": "code",
   "execution_count": 6,
   "metadata": {
    "collapsed": true
   },
   "outputs": [],
   "source": [
    "mat_tup2cng_new_countonly = pickle.load(open('../NewData/gauravs/mat_tup2cng_new_countonly.p', 'rb'))"
   ]
  },
  {
   "cell_type": "code",
   "execution_count": 7,
   "metadata": {
    "collapsed": false
   },
   "outputs": [
    {
     "data": {
      "text/plain": [
       "217326"
      ]
     },
     "execution_count": 7,
     "metadata": {},
     "output_type": "execute_result"
    }
   ],
   "source": [
    "len(mat_tup2cng_new_countonly)"
   ]
  }
 ],
 "metadata": {
  "anaconda-cloud": {},
  "kernelspec": {
   "display_name": "Python [default]",
   "language": "python",
   "name": "python3"
  },
  "language_info": {
   "codemirror_mode": {
    "name": "ipython",
    "version": 3
   },
   "file_extension": ".py",
   "mimetype": "text/x-python",
   "name": "python",
   "nbconvert_exporter": "python",
   "pygments_lexer": "ipython3",
   "version": "3.5.2"
  }
 },
 "nbformat": 4,
 "nbformat_minor": 1
}
