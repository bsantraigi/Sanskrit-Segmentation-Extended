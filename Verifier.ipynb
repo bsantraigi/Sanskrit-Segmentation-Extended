{
 "cells": [
  {
   "cell_type": "code",
   "execution_count": 1,
   "metadata": {
    "collapsed": true
   },
   "outputs": [],
   "source": [
    "import bz2, pickle, os, sys\n",
    "from DCS import *\n",
    "from sentences import *"
   ]
  },
  {
   "cell_type": "markdown",
   "metadata": {},
   "source": [
    "### Saved Graph Loader"
   ]
  },
  {
   "cell_type": "code",
   "execution_count": 2,
   "metadata": {
    "collapsed": true
   },
   "outputs": [],
   "source": [
    "def open_dsbz2(filename):\n",
    "    with bz2.BZ2File(filename, 'r') as f:\n",
    "        loader = pickle.load(f)\n",
    "    \n",
    "    conflicts_Dict_correct = loader['conflicts_Dict_correct']\n",
    "    nodelist_to_correct_mapping = loader['nodelist_to_correct_mapping']\n",
    "    nodelist_correct = loader['nodelist_correct']\n",
    "    featVMat_correct = loader['featVMat_correct']\n",
    "    featVMat = loader['featVMat']\n",
    "    conflicts_Dict = loader['conflicts_Dict']\n",
    "    nodelist = loader['nodelist']\n",
    "    \n",
    "    return (nodelist_correct, conflicts_Dict_correct, featVMat_correct, nodelist_to_correct_mapping,\\\n",
    "            nodelist, conflicts_Dict, featVMat)"
   ]
  },
  {
   "cell_type": "code",
   "execution_count": 3,
   "metadata": {
    "collapsed": true
   },
   "outputs": [],
   "source": [
    "loaded_SKT = pickle.load(open('../Simultaneous_CompatSKT_10K.p', 'rb'))\n",
    "loaded_DCS = pickle.load(open('../Simultaneous_DCS_10K.p', 'rb'))"
   ]
  },
  {
   "cell_type": "markdown",
   "metadata": {},
   "source": [
    "##### Collapsed Graph Reader"
   ]
  },
  {
   "cell_type": "code",
   "execution_count": 4,
   "metadata": {
    "collapsed": true
   },
   "outputs": [],
   "source": [
    "data_path = '../NewData/skt_dcs_DS.bz2_1L_bigram_10K/' # This path contains non-collapsed graphs\n",
    "\n",
    "file_list = []\n",
    "for f in os.listdir(data_path):\n",
    "    if '.ds.bz2' in f:\n",
    "        file_list.append(f)"
   ]
  },
  {
   "cell_type": "code",
   "execution_count": null,
   "metadata": {
    "collapsed": true
   },
   "outputs": [],
   "source": [
    "file_k = 6 # Change the file-key here to read different file\n",
    "# for file_k in range(10):\n",
    "(nodelist_correct, conflicts_Dict_correct, featVMat_correct, nodelist_to_correct_mapping,\\\n",
    "            nodelist, conflicts_Dict, featVMat) = open_dsbz2(os.path.join(data_path, file_list[file_k]))"
   ]
  },
  {
   "cell_type": "code",
   "execution_count": 8,
   "metadata": {
    "collapsed": true
   },
   "outputs": [],
   "source": [
    "file_k = 6 # Change the file-key here to read different file\n",
    "# for file_k in range(10):\n",
    "(nodelist_correct, conflicts_Dict_correct, featVMat_correct, nodelist_to_correct_mapping,\\\n",
    "            nodelist, conflicts_Dict, featVMat) = open_dsbz2(os.path.join(data_path, '141714.ds.bz2'))\n"
   ]
  },
  {
   "cell_type": "code",
   "execution_count": 10,
   "metadata": {},
   "outputs": [
    {
     "data": {
      "text/plain": [
       "[WD_Node[C: 0, P: 0, yayAti @(29) => yayAtis]]"
      ]
     },
     "execution_count": 10,
     "metadata": {},
     "output_type": "execute_result"
    }
   ],
   "source": [
    "nodelist"
   ]
  },
  {
   "cell_type": "code",
   "execution_count": 14,
   "metadata": {},
   "outputs": [
    {
     "data": {
      "text/plain": [
       "9176"
      ]
     },
     "execution_count": 14,
     "metadata": {},
     "output_type": "execute_result"
    }
   ],
   "source": [
    "len(os.listdir('../NewData/skt_dcs_DS.bz2_1L_bigram_10K/'))"
   ]
  },
  {
   "cell_type": "code",
   "execution_count": null,
   "metadata": {
    "collapsed": true
   },
   "outputs": [],
   "source": []
  },
  {
   "cell_type": "code",
   "execution_count": 6,
   "metadata": {
    "collapsed": true
   },
   "outputs": [],
   "source": [
    "dcsObj = loaded_DCS['154658.p2']"
   ]
  },
  {
   "cell_type": "code",
   "execution_count": 7,
   "metadata": {},
   "outputs": [
    {
     "name": "stdout",
     "output_type": "stream",
     "text": [
      "DCS ANALYZE\n",
      "---------------\n",
      "yad brAhmaRArTe visfjed AtmAnam api cAtmajam   \n",
      "[['yat'], ['brāhmaṇa', 'artha'], ['visṛj'], ['ātman'], ['api'], ['ca', 'ātmaja']]\n",
      "Lemmas: ['yat', 'brAhmaRa', 'arTa', 'visfj', 'Atman', 'api', 'ca', 'Atmaja']\n",
      "[['2'], ['3', '169'], ['-23'], ['69'], ['2'], ['2', '69']]\n",
      "\n"
     ]
    }
   ],
   "source": [
    "SeeDCS(dcsObj)"
   ]
  },
  {
   "cell_type": "code",
   "execution_count": 8,
   "metadata": {
    "collapsed": true
   },
   "outputs": [],
   "source": [
    "file_k = 5 # Change the file-key here to read different file\n",
    "(nodelist_correct, conflicts_Dict_correct, featVMat_correct, nodelist_to_correct_mapping,\\\n",
    "            nodelist, conflicts_Dict, featVMat) = open_dsbz2(os.path.join(data_path, file_list[file_k]))\n",
    "nodelist_correct_new = list(set(nodelist_correct))\n",
    "nodelist_new = list(set(nodelist))"
   ]
  },
  {
   "cell_type": "code",
   "execution_count": 9,
   "metadata": {},
   "outputs": [
    {
     "data": {
      "text/plain": [
       "[WD_Node[C: 1, P: 0, brAhmaRa @(3) => brAhmaRa],\n",
       " WD_Node[C: 1, P: 0, brAhmaRa @(3) => brAhmaRa],\n",
       " WD_Node[C: 2, P: 0, visfj @(-23) => visfjet],\n",
       " WD_Node[C: 2, P: 0, visfj @(-23) => visfjet],\n",
       " WD_Node[C: 3, P: 0, Atman @(69) => AtmAnam],\n",
       " WD_Node[C: 4, P: 0, api @(2) => api],\n",
       " WD_Node[C: 5, P: 0, ca @(2) => ca],\n",
       " WD_Node[C: 5, P: 1, Atmaja @(69) => Atmajam]]"
      ]
     },
     "execution_count": 9,
     "metadata": {},
     "output_type": "execute_result"
    }
   ],
   "source": [
    "nodelist_correct"
   ]
  },
  {
   "cell_type": "code",
   "execution_count": 10,
   "metadata": {},
   "outputs": [
    {
     "data": {
      "text/plain": [
       "[WD_Node[C: 0, P: 0, yad @(31) => yat],\n",
       " WD_Node[C: 0, P: 0, yad @(71) => yat],\n",
       " WD_Node[C: 0, P: 0, yat @(31) => yat],\n",
       " WD_Node[C: 0, P: 0, yat @(71) => yat],\n",
       " WD_Node[C: 0, P: 0,  @(-10) => yat],\n",
       " WD_Node[C: 0, P: 0, yat @(51) => yat],\n",
       " WD_Node[C: 0, P: 0,  @(-10) => yat],\n",
       " WD_Node[C: 1, P: 0, brAhmaRa @(3) => brAhmaRa],\n",
       " WD_Node[C: 1, P: 7, arTa @(49) => arTe],\n",
       " WD_Node[C: 1, P: 7, ArTa @(49) => ArTe],\n",
       " WD_Node[C: 1, P: 7, ArTa @(51) => ArTe],\n",
       " WD_Node[C: 1, P: 7, ArTa @(76) => ArTe],\n",
       " WD_Node[C: 1, P: 7, ArTa @(36) => ArTe],\n",
       " WD_Node[C: 1, P: 7, ArTa @(56) => ArTe],\n",
       " WD_Node[C: 1, P: 7, arTa @(35) => arTe],\n",
       " WD_Node[C: 1, P: 7, arTa @(75) => arTe],\n",
       " WD_Node[C: 1, P: 7, arTa @(51) => arTe],\n",
       " WD_Node[C: 1, P: 7, arTa @(76) => arTe],\n",
       " WD_Node[C: 1, P: 7, arTa @(36) => arTe],\n",
       " WD_Node[C: 2, P: 0, visfj @(-23) => visfjet],\n",
       " WD_Node[C: 2, P: 2, sfj @(-23) => sfjet],\n",
       " WD_Node[C: 3, P: 0, Atman @(72) => AtmAnam],\n",
       " WD_Node[C: 3, P: 0, Atman @(69) => AtmAnam],\n",
       " WD_Node[C: 3, P: 0, Atman @(3) => Atma],\n",
       " WD_Node[C: 3, P: 0, Atman @(32) => AtmA],\n",
       " WD_Node[C: 3, P: 0, Atman @(29) => AtmA],\n",
       " WD_Node[C: 3, P: 3, Ana @(31) => Anam],\n",
       " WD_Node[C: 3, P: 3, Ana @(69) => Anam],\n",
       " WD_Node[C: 3, P: 3, Ana @(71) => Anam],\n",
       " WD_Node[C: 3, P: 3, an @(-41) => Anam],\n",
       " WD_Node[C: 4, P: 0, api @(2) => api],\n",
       " WD_Node[C: 5, P: 0, ca @(2) => ca],\n",
       " WD_Node[C: 5, P: 1, Atmaja @(31) => Atmajam],\n",
       " WD_Node[C: 5, P: 1, Atmaja @(69) => Atmajam],\n",
       " WD_Node[C: 5, P: 1, Atmaja @(71) => Atmajam],\n",
       " WD_Node[C: 5, P: 1, Atman @(3) => Atma],\n",
       " WD_Node[C: 5, P: 5, ja @(31) => jam],\n",
       " WD_Node[C: 5, P: 5, ja @(69) => jam],\n",
       " WD_Node[C: 5, P: 5, ja @(71) => jam]]"
      ]
     },
     "execution_count": 10,
     "metadata": {},
     "output_type": "execute_result"
    }
   ],
   "source": [
    "nodelist"
   ]
  },
  {
   "cell_type": "markdown",
   "metadata": {},
   "source": [
    "#### dim check"
   ]
  },
  {
   "cell_type": "code",
   "execution_count": 3,
   "metadata": {
    "collapsed": true
   },
   "outputs": [],
   "source": [
    "import os, bz2, pickle"
   ]
  },
  {
   "cell_type": "code",
   "execution_count": 10,
   "metadata": {
    "collapsed": true
   },
   "outputs": [],
   "source": [
    "ip_folder = '../NewData/skt_dcs_DS.bz2_10K/'"
   ]
  },
  {
   "cell_type": "code",
   "execution_count": 11,
   "metadata": {
    "collapsed": true
   },
   "outputs": [],
   "source": [
    "fn = os.listdir(ip_folder)[0]"
   ]
  },
  {
   "cell_type": "code",
   "execution_count": 12,
   "metadata": {
    "collapsed": true
   },
   "outputs": [],
   "source": [
    "wegot = open_dsbz2(os.path.join(ip_folder, fn))"
   ]
  },
  {
   "cell_type": "code",
   "execution_count": 13,
   "metadata": {},
   "outputs": [
    {
     "data": {
      "text/plain": [
       "(1000, 1)"
      ]
     },
     "execution_count": 13,
     "metadata": {},
     "output_type": "execute_result"
    }
   ],
   "source": [
    "wegot[2][0][1].shape"
   ]
  },
  {
   "cell_type": "code",
   "execution_count": null,
   "metadata": {
    "collapsed": true
   },
   "outputs": [],
   "source": []
  }
 ],
 "metadata": {
  "anaconda-cloud": {},
  "kernelspec": {
   "display_name": "ENV(py3_bishal)",
   "language": "python",
   "name": "py3_bishal"
  },
  "language_info": {
   "codemirror_mode": {
    "name": "ipython",
    "version": 3
   },
   "file_extension": ".py",
   "mimetype": "text/x-python",
   "name": "python",
   "nbconvert_exporter": "python",
   "pygments_lexer": "ipython3",
   "version": "3.6.0"
  }
 },
 "nbformat": 4,
 "nbformat_minor": 1
}
