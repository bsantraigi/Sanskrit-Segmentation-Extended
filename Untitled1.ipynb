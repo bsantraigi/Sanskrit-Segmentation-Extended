{
 "cells": [
  {
   "cell_type": "code",
   "execution_count": 20,
   "metadata": {
    "collapsed": true
   },
   "outputs": [],
   "source": [
    "import pandas\n",
    "recaPeer = pandas.read_csv('recallPeer.csv')\n",
    "del recaPeer['Unnamed: 0']\n",
    "del recaPeer['Unnamed: 0.1']"
   ]
  },
  {
   "cell_type": "code",
   "execution_count": null,
   "metadata": {
    "collapsed": true
   },
   "outputs": [],
   "source": []
  },
  {
   "cell_type": "code",
   "execution_count": null,
   "metadata": {
    "collapsed": true
   },
   "outputs": [],
   "source": [
    "BM3 = [\"BM3_NLoss_proc0.csv\",\"BM3_NLoss_proc2.csv\",\"BM3_NLoss_proc1.csv\",\"BM3_NLoss_proc3.csv\"]\n",
    "BM2 = [\"BM2_NLoss_proc0.csv\",\"BM2_NLoss_proc2.csv\",\"BM2_NLoss_proc1.csv\",\"BM2_NLoss_proc3.csv\"]\n",
    "BR2 = [\"BR2_NLoss_proc0.csv\",\"BR2_NLoss_proc2.csv\",\"BR2_NLoss_proc1.csv\",\"BR2_NLoss_proc3.csv\"]\n",
    "BR3 = [\"BR3_NLoss_proc0.csv\",\"BR3_NLoss_proc2.csv\",\"BR3_NLoss_proc1.csv\",\"BR3_NLoss_proc3.csv\"]\n",
    "PM2 = [\"PM2_NLoss_proc0.csv\",\"PM2_NLoss_proc2.csv\",\"PM2_NLoss_proc1.csv\",\"PM2_NLoss_proc3.csv\"]\n",
    "PM3 = [\"PM3_NLoss_proc0.csv\",\"PM3_NLoss_proc2.csv\",\"PM3_NLoss_proc1.csv\",\"PM3_NLoss_proc3.csv\"]\n",
    "PR2 = [\"PR2_NLoss_proc0.csv\",\"PR2_NLoss_proc2.csv\",\"PR2_NLoss_proc1.csv\",\"PR2_NLoss_proc3.csv\"]\n",
    "PR3 = [\"PR3_NLoss_proc0.csv\",\"PR3_NLoss_proc2.csv\",\"PR3_NLoss_proc1.csv\",\"PR3_NLoss_proc3.csv\"]\n",
    "\n",
    "\n",
    "#orig = \"amrith/lemma_label_BM3.csv\"\n",
    "\n",
    "#import pandas\n",
    "#origi = pandas.read_csv(orig,names=['file','lemma','tf'])\n",
    "#origi[origi['file']==39817]\n",
    "#nodelist"
   ]
  },
  {
   "cell_type": "code",
   "execution_count": null,
   "metadata": {
    "collapsed": true
   },
   "outputs": [],
   "source": [
    "import pandas\n",
    "from collections import defaultdict\n",
    "\n",
    "def predLoss(fils):\n",
    "    gt = defaultdict(dict)\n",
    "\n",
    "    for item in fils:\n",
    "        fil = open('amrith/'+item).read().splitlines()\n",
    "        for i,line in enumerate(fil):\n",
    "            if i % 6 == 0:\n",
    "                setCol = line.split(',')\n",
    "                gt[setCol[0]]['predLemma'] = setCol[1:]\n",
    "            if i%6 == 1:\n",
    "                gt[setCol[0]]['predCNG'] = line.split(',')[1:]\n",
    "                if len(gt[setCol[0]]['predLemma']) != len(gt[setCol[0]]['predCNG']):\n",
    "                    print(gt[setCol[0]])\n",
    "            if i%6 == 2:\n",
    "                gt[setCol[0]]['chunkID'] = line.split(',')[1:]\n",
    "                if len(gt[setCol[0]]['predLemma']) != len(gt[setCol[0]]['chunkID']):\n",
    "                    print(gt[setCol[0]])\n",
    "            if i%6 == 3:\n",
    "                gt[setCol[0]]['chunkIDCNG'] = line.split(',')[1:]\n",
    "                if len(gt[setCol[0]]['predLemma']) != len(gt[setCol[0]]['chunkIDCNG']):\n",
    "                    print(gt[setCol[0]])\n",
    "            if i%6 == 4:\n",
    "                gt[setCol[0]]['idInNodeID'] = line.split(',')[1:]\n",
    "                if len(gt[setCol[0]]['predLemma']) != len(gt[setCol[0]]['idInNodeID']):\n",
    "                    print(gt[setCol[0]])\n",
    "            if i%6 == 5:\n",
    "                gt[setCol[0]]['params'] = line.split(',')[1:]\n",
    "\n",
    "            if line.split(',')[0] != setCol[0]:\n",
    "                print(i,setCol,line)\n",
    "                print('breakin')\n",
    "                break\n",
    "    return gt\n",
    "\n",
    "def pdframe(gt):\n",
    "    params = defaultdict(dict)\n",
    "    for item in gt.keys():\n",
    "        tatkal = gt[item]['params']\n",
    "        params[item]['corrWords'],params[item]['corrLemma'] = int(tatkal[0]),int(tatkal[1])\n",
    "        params[item]['dcsSize'],params[item]['predictions'] = int(tatkal[2]),int(tatkal[3])\n",
    "        params[item]['wordPrec'] = params[item]['corrWords']*1.0/params[item]['predictions']\n",
    "        params[item]['wordReca'] = params[item]['corrWords']*1.0/params[item]['dcsSize']\n",
    "        params[item]['lemmaPrec'] = params[item]['corrLemma']*1.0/params[item]['predictions']\n",
    "        params[item]['lemmaReca'] = params[item]['corrLemma']*1.0/params[item]['dcsSize']\n",
    "\n",
    "\n",
    "    initRes = pandas.DataFrame.from_dict(params,orient='index')\n",
    "    return initRes"
   ]
  },
  {
   "cell_type": "code",
   "execution_count": null,
   "metadata": {
    "collapsed": true
   },
   "outputs": [],
   "source": [
    "BM3gt = predLoss(BM2)\n",
    "BM3pd = pdframe(BM3gt)\n",
    "BM3pd[BM3pd.index!='38206'].mean()"
   ]
  },
  {
   "cell_type": "code",
   "execution_count": null,
   "metadata": {
    "collapsed": true
   },
   "outputs": [],
   "source": [
    "predEnlist = list()\n",
    "for item in BM3gt.keys():\n",
    "    try:\n",
    "        for i,stuff in enumerate(BM3gt[item]['predLemma']):\n",
    "            predEnlist.append([item,stuff,BM3gt[item]['predCNG'][i]])\n",
    "    except:\n",
    "        print(item)\n",
    "predEnum = pandas.DataFrame.from_records(predEnlist,columns=['file','lemma','cng'])"
   ]
  },
  {
   "cell_type": "code",
   "execution_count": 25,
   "metadata": {
    "collapsed": true
   },
   "outputs": [],
   "source": [
    "recaPeer['diff_BM2Lemma'] = 0\n",
    "recaPeer['diff_BM2LemmaCng'] = 0\n",
    "lemmaSet = [ 'BM3Lemma', 'BR3Lemma','BR2Lemma', 'PM2Lemma', 'PM3Lemma', 'PR3Lemma', 'PR2Lemma']\n",
    "for i,item in recaPeer.iterrows():\n",
    "    diff = 0\n",
    "    diffCng = 0\n",
    "    for stuff in lemmaSet:\n",
    "        diff += (1 - int(item[stuff]))\n",
    "        diffCng += (1 - int(item[stuff+'Cng']))\n",
    "        \n",
    "    diff = diff*1.0/len(lemmaSet)\n",
    "    diffCng = diffCng*1.0/len(lemmaSet)\n",
    "    recaPeer.loc[i,'diff_BM2Lemma'] = diff\n",
    "    recaPeer.loc[i,'diff_BM2LemmaCng'] = diffCng"
   ]
  },
  {
   "cell_type": "code",
   "execution_count": 26,
   "metadata": {
    "collapsed": true
   },
   "outputs": [],
   "source": [
    "recaPeer['diff_BM3Lemma'] = 0\n",
    "recaPeer['diff_BM3LemmaCng'] = 0\n",
    "lemmaSet = [ 'BM2Lemma', 'BR3Lemma','BR2Lemma', 'PM2Lemma', 'PM3Lemma', 'PR3Lemma', 'PR2Lemma']\n",
    "for i,item in recaPeer.iterrows():\n",
    "    diff = 0\n",
    "    diffCng = 0\n",
    "    for stuff in lemmaSet:\n",
    "        diff += (1 - int(item[stuff]))\n",
    "        diffCng += (1 - int(item[stuff+'Cng']))\n",
    "        \n",
    "    diff = diff*1.0/len(lemmaSet)\n",
    "    diffCng = diffCng*1.0/len(lemmaSet)\n",
    "    recaPeer.loc[i,'diff_BM3Lemma'] = diff\n",
    "    recaPeer.loc[i,'diff_BM3LemmaCng'] = diffCng"
   ]
  },
  {
   "cell_type": "code",
   "execution_count": 28,
   "metadata": {
    "collapsed": true
   },
   "outputs": [],
   "source": [
    "recaPeer['BM3LemmaReward'] = recaPeer['BM3Lemma']*recaPeer['diff_BM3Lemma']\n",
    "recaPeer['BM3LemmaCNGReward'] = recaPeer['BM3LemmaCng']*recaPeer['diff_BM3LemmaCng']\n",
    "recaPeer['BM2LemmaReward'] = recaPeer['BM2Lemma']*recaPeer['diff_BM2Lemma']\n",
    "recaPeer['BM2LemmaCNGReward'] = recaPeer['BM2LemmaCng']*recaPeer['diff_BM2LemmaCng']\n",
    "\n",
    "\n",
    "recaPeer['BM3LemmaPunish'] = recaPeer['BM3Lemma']*(1-recaPeer['diff_BM3Lemma'])\n",
    "recaPeer['BM3LemmaCNGPunish'] = recaPeer['BM3LemmaCng']*(1-recaPeer['diff_BM3LemmaCng'])\n",
    "recaPeer['BM2LemmaPunish'] = recaPeer['BM2Lemma']*(1-recaPeer['diff_BM2Lemma'])\n",
    "recaPeer['BM2LemmaCNGPunish'] = recaPeer['BM2LemmaCng']*(1-recaPeer['diff_BM2LemmaCng'])\n",
    "\n",
    "\n",
    "recaPeer['diffInv_BM2Lemma']  = 1 - recaPeer['diff_BM3Lemma']\n",
    "recaPeer['diffInv_BM2LemmaCng'] = 1 - recaPeer['diff_BM2LemmaCng']\n",
    "recaPeer['diffInv_BM3Lemma'] = 1 - recaPeer['diff_BM3Lemma']\n",
    "recaPeer['diffInv_BM3LemmaCng'] = 1 - recaPeer['diff_BM3Lemma']"
   ]
  },
  {
   "cell_type": "code",
   "execution_count": 40,
   "metadata": {},
   "outputs": [],
   "source": [
    "recaPeer.groupby(['file','BM2Lemma']).mean()['diff_BM2Lemma'].to_csv('BM2LemmaDiffAvg.csv')\n",
    "BM2LemmaDiffAvg = pandas.read_csv('BM2LemmaDiffAvg.csv',names=['file','TF','diff_BM2Lemma'])\n",
    "BM2LemmaDiffAvg=BM2LemmaDiffAvg[BM2LemmaDiffAvg['TF']==0]"
   ]
  },
  {
   "cell_type": "code",
   "execution_count": 43,
   "metadata": {},
   "outputs": [],
   "source": [
    "recaPeer.groupby(['file','BM2LemmaCng']).mean()['diff_BM2LemmaCng'].to_csv('BM2LemmaCngDiffAvg.csv')\n",
    "BM2LemmaCngDiffAvg = pandas.read_csv('BM2LemmaCngDiffAvg.csv',names=['file','TF','diff_BM2LemmaCng'])\n",
    "BM2LemmaCngDiffAvg=BM2LemmaCngDiffAvg[BM2LemmaCngDiffAvg['TF']==0]"
   ]
  },
  {
   "cell_type": "code",
   "execution_count": 44,
   "metadata": {
    "collapsed": true
   },
   "outputs": [],
   "source": [
    "recaPeer.groupby(['file','BM3Lemma']).mean()['diff_BM3Lemma'].to_csv('BM3LemmaDiffAvg.csv')\n",
    "BM3LemmaDiffAvg = pandas.read_csv('BM3LemmaDiffAvg.csv',names=['file','TF','diff_BM3Lemma'])\n",
    "BM3LemmaDiffAvg=BM3LemmaDiffAvg[BM3LemmaDiffAvg['TF']==0]"
   ]
  },
  {
   "cell_type": "code",
   "execution_count": 45,
   "metadata": {
    "collapsed": true
   },
   "outputs": [],
   "source": [
    "recaPeer.groupby(['file','BM3LemmaCng']).mean()['diff_BM3LemmaCng'].to_csv('BM3LemmaCngDiffAvg.csv')\n",
    "BM3LemmaCngDiffAvg = pandas.read_csv('BM3LemmaCngDiffAvg.csv',names=['file','TF','diff_BM3LemmaCng'])\n",
    "BM3LemmaCngDiffAvg=BM3LemmaCngDiffAvg[BM3LemmaCngDiffAvg['TF']==0]"
   ]
  },
  {
   "cell_type": "code",
   "execution_count": 57,
   "metadata": {},
   "outputs": [
    {
     "data": {
      "text/html": [
       "<div>\n",
       "<table border=\"1\" class=\"dataframe\">\n",
       "  <thead>\n",
       "    <tr style=\"text-align: right;\">\n",
       "      <th></th>\n",
       "      <th>Unnamed: 0</th>\n",
       "      <th>file</th>\n",
       "      <th>lemma</th>\n",
       "      <th>cng</th>\n",
       "      <th>lemmaCorr</th>\n",
       "      <th>lemmaCngCorr</th>\n",
       "      <th>lemmaDiff</th>\n",
       "      <th>lemmaCNGDiff</th>\n",
       "    </tr>\n",
       "  </thead>\n",
       "  <tbody>\n",
       "    <tr>\n",
       "      <th>0</th>\n",
       "      <td>0</td>\n",
       "      <td>185823</td>\n",
       "      <td>pitta</td>\n",
       "      <td>31</td>\n",
       "      <td>1</td>\n",
       "      <td>1</td>\n",
       "      <td>0</td>\n",
       "      <td>0</td>\n",
       "    </tr>\n",
       "    <tr>\n",
       "      <th>1</th>\n",
       "      <td>1</td>\n",
       "      <td>185823</td>\n",
       "      <td>ca</td>\n",
       "      <td>2</td>\n",
       "      <td>1</td>\n",
       "      <td>1</td>\n",
       "      <td>0</td>\n",
       "      <td>0</td>\n",
       "    </tr>\n",
       "    <tr>\n",
       "      <th>2</th>\n",
       "      <td>2</td>\n",
       "      <td>185823</td>\n",
       "      <td>keSa</td>\n",
       "      <td>79</td>\n",
       "      <td>1</td>\n",
       "      <td>1</td>\n",
       "      <td>0</td>\n",
       "      <td>0</td>\n",
       "    </tr>\n",
       "    <tr>\n",
       "      <th>3</th>\n",
       "      <td>3</td>\n",
       "      <td>185823</td>\n",
       "      <td>pac</td>\n",
       "      <td>-13</td>\n",
       "      <td>1</td>\n",
       "      <td>1</td>\n",
       "      <td>0</td>\n",
       "      <td>0</td>\n",
       "    </tr>\n",
       "    <tr>\n",
       "      <th>4</th>\n",
       "      <td>4</td>\n",
       "      <td>185823</td>\n",
       "      <td>palita</td>\n",
       "      <td>31</td>\n",
       "      <td>1</td>\n",
       "      <td>1</td>\n",
       "      <td>0</td>\n",
       "      <td>0</td>\n",
       "    </tr>\n",
       "  </tbody>\n",
       "</table>\n",
       "</div>"
      ],
      "text/plain": [
       "   Unnamed: 0    file   lemma  cng  lemmaCorr  lemmaCngCorr  lemmaDiff  \\\n",
       "0           0  185823   pitta   31          1             1          0   \n",
       "1           1  185823      ca    2          1             1          0   \n",
       "2           2  185823    keSa   79          1             1          0   \n",
       "3           3  185823     pac  -13          1             1          0   \n",
       "4           4  185823  palita   31          1             1          0   \n",
       "\n",
       "   lemmaCNGDiff  \n",
       "0             0  \n",
       "1             0  \n",
       "2             0  \n",
       "3             0  \n",
       "4             0  "
      ]
     },
     "execution_count": 57,
     "metadata": {},
     "output_type": "execute_result"
    }
   ],
   "source": []
  },
  {
   "cell_type": "code",
   "execution_count": 82,
   "metadata": {},
   "outputs": [
    {
     "data": {
      "text/plain": [
       "Index(['Unnamed: 0', 'file', 'lemma', 'cng', 'lemmaCorr', 'lemmaCngCorr',\n",
       "       'lemmaDiff', 'lemmaCngDiff'],\n",
       "      dtype='object')"
      ]
     },
     "execution_count": 82,
     "metadata": {},
     "output_type": "execute_result"
    }
   ],
   "source": [
    "BM2pred.columns"
   ]
  },
  {
   "cell_type": "code",
   "execution_count": 84,
   "metadata": {},
   "outputs": [],
   "source": [
    "BM2pred = pandas.read_csv('BM2predictions2.csv')\n",
    "\n",
    "BM2pred['lemmaDiff'] = 0\n",
    "BM2pred['lemmaCngDiff'] = 0\n",
    "for i,item in BM2pred.iterrows():\n",
    "    #try:\n",
    "        if item['lemmaCorr'] == 0: \n",
    "            for t,stuff in BM2LemmaDiffAvg[BM2LemmaDiffAvg['file'] == item['file']].iterrows():\n",
    "                #print(stuff['diff_BM2Lemma'])\n",
    "                BM2pred.loc[i,'lemmaDiff'] = stuff['diff_BM2Lemma']\n",
    "            for t,stuff in BM2LemmaCngDiffAvg[BM2LemmaCngDiffAvg['file'] == item['file']].iterrows():\n",
    "                BM2pred.loc[i,'lemmaCngDiff'] = stuff['diff_BM2LemmaCng']\n",
    "        if item['lemmaCorr'] == 1:\n",
    "            for t,stuff in recaPeer[(recaPeer['file'] == item['file']) & (recaPeer['lemma']==item['lemma'])].iterrows():\n",
    "                #print(stuff['diff_BM2Lemma'])\n",
    "                BM2pred.loc[i,'lemmaDiff'] = stuff['diff_BM2Lemma']\n",
    "            if item['lemmaCngCorr'] == 0:\n",
    "                for t,stuff in BM2LemmaCngDiffAvg[BM2LemmaCngDiffAvg['file'] == item['file']].iterrows():\n",
    "                    BM2pred.loc[i,'lemmaCngDiff'] = stuff['diff_BM2LemmaCng']\n",
    "            elif item['lemmaCngCorr'] == 1:   \n",
    "                for t,stuff in recaPeer[(recaPeer['file'] == item['file']) & (recaPeer['lemma']==item['lemma'])].iterrows():\n",
    "                    BM2pred.loc[i,'lemmaCngDiff'] = stuff['diff_BM2LemmaCng']\n",
    "\n",
    "    #except:\n",
    "        #pass"
   ]
  },
  {
   "cell_type": "code",
   "execution_count": 106,
   "metadata": {},
   "outputs": [],
   "source": [
    "BM3pred = pandas.read_csv('BM3predictions2.csv')\n",
    "\n",
    "BM3pred['lemmaDiff'] = 0\n",
    "BM3pred['lemmaCngDiff'] = 0\n",
    "for i,item in BM3pred.iterrows():\n",
    "    #try:\n",
    "        if item['lemmaCorr'] == 0: \n",
    "            for t,stuff in BM3LemmaDiffAvg[BM3LemmaDiffAvg['file'] == item['file']].iterrows():\n",
    "                #print(stuff['diff_BM2Lemma'])\n",
    "                BM3pred.loc[i,'lemmaDiff'] = stuff['diff_BM3Lemma']\n",
    "            for t,stuff in BM3LemmaCngDiffAvg[BM3LemmaCngDiffAvg['file'] == item['file']].iterrows():\n",
    "                BM3pred.loc[i,'lemmaCngDiff'] = stuff['diff_BM3LemmaCng']\n",
    "        if item['lemmaCorr'] == 1:\n",
    "            for t,stuff in recaPeer[(recaPeer['file'] == item['file']) & (recaPeer['lemma']==item['lemma'])].iterrows():\n",
    "                #print(stuff['diff_BM2Lemma'])\n",
    "                BM3pred.loc[i,'lemmaDiff'] = stuff['diff_BM3Lemma']\n",
    "            if item['lemmaCngCorr'] == 0:\n",
    "                for t,stuff in BM3LemmaCngDiffAvg[BM3LemmaCngDiffAvg['file'] == item['file']].iterrows():\n",
    "                    BM3pred.loc[i,'lemmaCngDiff'] = stuff['diff_BM3LemmaCng']\n",
    "            elif item['lemmaCngCorr'] == 1:   \n",
    "                for t,stuff in recaPeer[(recaPeer['file'] == item['file']) & (recaPeer['lemma']==item['lemma'])].iterrows():\n",
    "                    BM3pred.loc[i,'lemmaCngDiff'] = stuff['diff_BM3LemmaCng']\n",
    "\n",
    "                \n",
    "    #except:\n",
    "        #pass"
   ]
  },
  {
   "cell_type": "code",
   "execution_count": 108,
   "metadata": {},
   "outputs": [
    {
     "name": "stdout",
     "output_type": "stream",
     "text": [
      "The history saving thread hit an unexpected error (OperationalError('disk I/O error',)).History will not be written to the database.\n"
     ]
    }
   ],
   "source": [
    "BM2pred['invLemmaDiff'] = 1 - BM2pred['lemmaDiff'] \n",
    "BM2pred['invLemmaCngDiff'] = 1 - BM2pred['lemmaCngDiff'] "
   ]
  },
  {
   "cell_type": "code",
   "execution_count": 109,
   "metadata": {},
   "outputs": [],
   "source": [
    "BM3pred['invLemmaDiff'] = 1 - BM3pred['lemmaDiff'] \n",
    "BM3pred['invLemmaCngDiff'] = 1 - BM3pred['lemmaCngDiff'] "
   ]
  },
  {
   "cell_type": "code",
   "execution_count": 110,
   "metadata": {},
   "outputs": [],
   "source": [
    "BM2pred['precLemmaReward'] = BM2pred['lemmaCorr']*BM2pred['lemmaDiff']\n",
    "BM2pred['precLemmaCngReward'] = BM2pred['lemmaCngCorr']*BM2pred['lemmaCngDiff']\n",
    "BM2pred['precLemmaPunish'] = BM2pred['lemmaCorr']*BM2pred['invLemmaDiff']\n",
    "BM2pred['precLemmaCngPunish'] = BM2pred['lemmaCngCorr']*BM2pred['invLemmaCngDiff']\n",
    "\n",
    "BM3pred['precLemmaReward'] = BM3pred['lemmaCorr']*BM3pred['lemmaDiff']\n",
    "BM3pred['precLemmaCngReward'] = BM3pred['lemmaCngCorr']*BM3pred['lemmaCngDiff']\n",
    "BM3pred['precLemmaPunish'] = BM3pred['lemmaCorr']*BM3pred['invLemmaDiff']\n",
    "BM3pred['precLemmaCngPunish'] = BM3pred['lemmaCngCorr']*BM3pred['invLemmaCngDiff']"
   ]
  },
  {
   "cell_type": "code",
   "execution_count": 111,
   "metadata": {},
   "outputs": [],
   "source": [
    "bm2= BM2pred.sum()"
   ]
  },
  {
   "cell_type": "code",
   "execution_count": 112,
   "metadata": {},
   "outputs": [
    {
     "data": {
      "text/plain": [
       "Unnamed: 0            2.264611e+09\n",
       "file                  1.115580e+10\n",
       "cng                   1.090280e+06\n",
       "lemmaCorr             5.731100e+04\n",
       "lemmaCngCorr          5.299600e+04\n",
       "lemmaDiff             1.745144e+04\n",
       "lemmaCngDiff          2.378334e+04\n",
       "invLemmaDiff          4.984856e+04\n",
       "invLemmaCngDiff       4.351666e+04\n",
       "precLemmaReward       1.223000e+04\n",
       "precLemmaCngReward    1.501943e+04\n",
       "precLemmaPunish       4.508100e+04\n",
       "precLemmaCngPunish    3.797657e+04\n",
       "dtype: float64"
      ]
     },
     "execution_count": 112,
     "metadata": {},
     "output_type": "execute_result"
    }
   ],
   "source": [
    "bm3 = BM3pred.sum()\n",
    "bm3"
   ]
  },
  {
   "cell_type": "code",
   "execution_count": 115,
   "metadata": {},
   "outputs": [
    {
     "name": "stdout",
     "output_type": "stream",
     "text": [
      "0.699791355941 0.654811779223\n",
      "0.914280159219 0.88820466273\n"
     ]
    }
   ],
   "source": [
    "print(bm2['precLemmaReward']/bm2['lemmaDiff'],bm2['precLemmaCngReward']/bm2['lemmaCngDiff'])\n",
    "print(bm2['precLemmaPunish']/bm2['invLemmaDiff'],bm2['precLemmaCngPunish']/bm2['invLemmaCngDiff'])"
   ]
  },
  {
   "cell_type": "code",
   "execution_count": 116,
   "metadata": {},
   "outputs": [
    {
     "name": "stdout",
     "output_type": "stream",
     "text": [
      "0.700801844138 0.631510354656\n",
      "0.904359088355 0.872690498374\n"
     ]
    }
   ],
   "source": [
    "print(bm3['precLemmaReward']/bm3['lemmaDiff'],bm3['precLemmaCngReward']/bm3['lemmaCngDiff'])\n",
    "print(bm3['precLemmaPunish']/bm3['invLemmaDiff'],bm3['precLemmaCngPunish']/bm3['invLemmaCngDiff'])"
   ]
  },
  {
   "cell_type": "code",
   "execution_count": null,
   "metadata": {
    "collapsed": true
   },
   "outputs": [],
   "source": []
  }
 ],
 "metadata": {
  "anaconda-cloud": {},
  "kernelspec": {
   "display_name": "ENV(py3_bishal)",
   "language": "python",
   "name": "py3_bishal"
  },
  "language_info": {
   "codemirror_mode": {
    "name": "ipython",
    "version": 3
   },
   "file_extension": ".py",
   "mimetype": "text/x-python",
   "name": "python",
   "nbconvert_exporter": "python",
   "pygments_lexer": "ipython3",
   "version": "3.6.0"
  }
 },
 "nbformat": 4,
 "nbformat_minor": 1
}
