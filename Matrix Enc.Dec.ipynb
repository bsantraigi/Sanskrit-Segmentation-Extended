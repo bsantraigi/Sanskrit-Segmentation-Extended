{
 "cells": [
  {
   "cell_type": "markdown",
   "metadata": {},
   "source": [
    "## Convert co-occurrence matrices to numeric form\n",
    "- Lemma2CNG_countonly\n",
    "- Lemma2CNG_1D_countonly\n",
    "- CNG2Lemma_countonly\n",
    "- Create CNG2Lemma_1D\n",
    "- CNG2Lemma_1D_countonly\n",
    "\n",
    "----------"
   ]
  },
  {
   "cell_type": "code",
   "execution_count": 1,
   "metadata": {
    "collapsed": true
   },
   "outputs": [],
   "source": [
    "import numpy as np\n",
    "import pickle\n",
    "from IPython.display import display\n",
    "import json"
   ]
  },
  {
   "cell_type": "code",
   "execution_count": 2,
   "metadata": {
    "collapsed": true
   },
   "outputs": [],
   "source": [
    "def convert2DMat_to_countonly(infile, outfile, jsonIn = False):\n",
    "#     matrix = pickle.load(open(infile, 'rb'), encoding=u'utf-8')\n",
    "    if jsonIn:\n",
    "        matrix = json.load(open(infile, 'r'))\n",
    "    else:\n",
    "        matrix = pickle.load(open(infile, 'rb'))\n",
    "    display(len(matrix))\n",
    "    level1_keys = list(matrix.keys())\n",
    "    display(level1_keys[0])\n",
    "    matrix_countonly = {}\n",
    "    for l1_key, l1_dict in matrix.items():\n",
    "        matrix_countonly[l1_key] = {}\n",
    "        for l2_key, fdict in matrix[l1_key].items():\n",
    "            matrix_countonly[l1_key][l2_key] = len(fdict)\n",
    "    print(matrix[level1_keys[0]])\n",
    "#     print(matrix_countonly[level1_keys[0]])\n",
    "    pickle.dump(matrix_countonly, open(outfile, 'wb'))\n",
    "    display(len(matrix_countonly))"
   ]
  },
  {
   "cell_type": "markdown",
   "metadata": {},
   "source": [
    "### 1. Convert lem2cng matrix to numeric form"
   ]
  },
  {
   "cell_type": "code",
   "execution_count": 3,
   "metadata": {
    "collapsed": false
   },
   "outputs": [
    {
     "data": {
      "text/plain": [
       "66817"
      ]
     },
     "execution_count": 3,
     "metadata": {},
     "output_type": "execute_result"
    }
   ],
   "source": [
    "convert2DMat_to_countonly('../NewData/mat_lem2cng.p', '../NewData/ultimate_new_lastsem/mat_lem2cng_countonly.p')"
   ]
  },
  {
   "cell_type": "markdown",
   "metadata": {},
   "source": [
    "### 2. Convert cng2lem matrix to numeric form"
   ]
  },
  {
   "cell_type": "code",
   "execution_count": null,
   "metadata": {
    "collapsed": false,
    "scrolled": true
   },
   "outputs": [],
   "source": [
    "convert2DMat_to_countonly('../NewData/mat_cng2lem.p', '../NewData/ultimate_new_lastsem/mat_cng2lem_countonly.p')"
   ]
  },
  {
   "cell_type": "code",
   "execution_count": 10,
   "metadata": {
    "collapsed": true
   },
   "outputs": [],
   "source": [
    "def convert2DMat_to_1D(infile, outfile, jsonIn = False):\n",
    "    if jsonIn:\n",
    "        matrix = json.load(open(infile, 'r'))\n",
    "    else:\n",
    "        matrix = pickle.load(open(infile, 'rb'), encoding=u'utf-8')\n",
    "    display(len(matrix))\n",
    "    level1_keys = list(matrix.keys())\n",
    "    display(level1_keys[0])\n",
    "    matrix_1D = {}\n",
    "    for l1_key, _ in matrix.items():\n",
    "        total = 0\n",
    "        for _, fdict in matrix[l1_key].items():\n",
    "            total += len(fdict)\n",
    "        matrix_1D[l1_key] = total\n",
    "    #print(matrix[level1_keys[0]])\n",
    "    #print(matrix_1D[level1_keys[0]])\n",
    "    pickle.dump(matrix_1D, open(outfile, 'wb'))\n",
    "    display(len(matrix_1D))"
   ]
  },
  {
   "cell_type": "code",
   "execution_count": 15,
   "metadata": {
    "collapsed": false,
    "scrolled": true
   },
   "outputs": [
    {
     "data": {
      "text/plain": [
       "276"
      ]
     },
     "metadata": {},
     "output_type": "display_data"
    },
    {
     "data": {
      "text/plain": [
       "'132'"
      ]
     },
     "metadata": {},
     "output_type": "display_data"
    },
    {
     "data": {
      "text/plain": [
       "276"
      ]
     },
     "metadata": {},
     "output_type": "display_data"
    }
   ],
   "source": [
    "convert2DMat_to_1D('../NewData/mat_cng2lem.p', '../NewData/ultimate_new_lastsem/mat_cng2lem_1D.p')"
   ]
  },
  {
   "cell_type": "code",
   "execution_count": 16,
   "metadata": {
    "collapsed": false
   },
   "outputs": [
    {
     "data": {
      "text/plain": [
       "66817"
      ]
     },
     "metadata": {},
     "output_type": "display_data"
    },
    {
     "data": {
      "text/plain": [
       "'vizvaksenapriyA'"
      ]
     },
     "metadata": {},
     "output_type": "display_data"
    },
    {
     "data": {
      "text/plain": [
       "66817"
      ]
     },
     "metadata": {},
     "output_type": "display_data"
    }
   ],
   "source": [
    "convert2DMat_to_1D('../NewData/mat_lem2cng.p', '../NewData/ultimate_new_lastsem/mat_lem2cng_1D.p')"
   ]
  },
  {
   "cell_type": "code",
   "execution_count": 3,
   "metadata": {
    "collapsed": false
   },
   "outputs": [],
   "source": [
    "matrix = pickle.load(open('../NewData/mat_lem2cng.p', 'rb'), encoding=u'utf-8')"
   ]
  },
  {
   "cell_type": "code",
   "execution_count": 2,
   "metadata": {
    "collapsed": false
   },
   "outputs": [],
   "source": [
    "matrix = json.load(open('../NewData/data6.json'))"
   ]
  },
  {
   "cell_type": "code",
   "execution_count": 3,
   "metadata": {
    "collapsed": false
   },
   "outputs": [
    {
     "data": {
      "text/plain": [
       "66817"
      ]
     },
     "execution_count": 3,
     "metadata": {},
     "output_type": "execute_result"
    }
   ],
   "source": [
    "len(matrix)"
   ]
  },
  {
   "cell_type": "code",
   "execution_count": 6,
   "metadata": {
    "collapsed": false
   },
   "outputs": [
    {
     "ename": "KeyError",
     "evalue": "'suganDn'",
     "output_type": "error",
     "traceback": [
      "\u001b[0;31m---------------------------------------------------------------------------\u001b[0m",
      "\u001b[0;31mKeyError\u001b[0m                                  Traceback (most recent call last)",
      "\u001b[0;32m<ipython-input-6-9efd1e6d895e>\u001b[0m in \u001b[0;36m<module>\u001b[0;34m()\u001b[0m\n\u001b[0;32m----> 1\u001b[0;31m \u001b[0mmatrix\u001b[0m\u001b[0;34m[\u001b[0m\u001b[0;34m'suganDn'\u001b[0m\u001b[0;34m]\u001b[0m\u001b[0;34m\u001b[0m\u001b[0m\n\u001b[0m",
      "\u001b[0;31mKeyError\u001b[0m: 'suganDn'"
     ]
    }
   ],
   "source": [
    "matrix['suganDn']"
   ]
  },
  {
   "cell_type": "code",
   "execution_count": 5,
   "metadata": {
    "collapsed": false
   },
   "outputs": [
    {
     "ename": "UnpicklingError",
     "evalue": "invalid load key, '{'.",
     "output_type": "error",
     "traceback": [
      "\u001b[0;31m---------------------------------------------------------------------------\u001b[0m",
      "\u001b[0;31mUnpicklingError\u001b[0m                           Traceback (most recent call last)",
      "\u001b[0;32m<ipython-input-5-8d13fa040047>\u001b[0m in \u001b[0;36m<module>\u001b[0;34m()\u001b[0m\n\u001b[0;32m----> 1\u001b[0;31m \u001b[0mconvert2DMat_to_countonly\u001b[0m\u001b[0;34m(\u001b[0m\u001b[0;34m'../../gaurav/New_data_with_cgs/mat_cng2cng_new.p'\u001b[0m\u001b[0;34m,\u001b[0m                          \u001b[0;34m'../../gaurav/New_data_with_cgs/simplified_bs/mat_cng2cng_new_countonly.p'\u001b[0m\u001b[0;34m)\u001b[0m\u001b[0;34m\u001b[0m\u001b[0m\n\u001b[0m",
      "\u001b[0;32m<ipython-input-4-001f9e8e2d79>\u001b[0m in \u001b[0;36mconvert2DMat_to_countonly\u001b[0;34m(infile, outfile)\u001b[0m\n\u001b[1;32m      1\u001b[0m \u001b[0;32mdef\u001b[0m \u001b[0mconvert2DMat_to_countonly\u001b[0m\u001b[0;34m(\u001b[0m\u001b[0minfile\u001b[0m\u001b[0;34m,\u001b[0m \u001b[0moutfile\u001b[0m\u001b[0;34m)\u001b[0m\u001b[0;34m:\u001b[0m\u001b[0;34m\u001b[0m\u001b[0m\n\u001b[1;32m      2\u001b[0m \u001b[0;34m\u001b[0m\u001b[0m\n\u001b[0;32m----> 3\u001b[0;31m     \u001b[0mmatrix\u001b[0m \u001b[0;34m=\u001b[0m \u001b[0mpickle\u001b[0m\u001b[0;34m.\u001b[0m\u001b[0mload\u001b[0m\u001b[0;34m(\u001b[0m\u001b[0mopen\u001b[0m\u001b[0;34m(\u001b[0m\u001b[0minfile\u001b[0m\u001b[0;34m,\u001b[0m \u001b[0;34m'rb'\u001b[0m\u001b[0;34m)\u001b[0m\u001b[0;34m)\u001b[0m\u001b[0;34m\u001b[0m\u001b[0m\n\u001b[0m\u001b[1;32m      4\u001b[0m     \u001b[0mdisplay\u001b[0m\u001b[0;34m(\u001b[0m\u001b[0mlen\u001b[0m\u001b[0;34m(\u001b[0m\u001b[0mmatrix\u001b[0m\u001b[0;34m)\u001b[0m\u001b[0;34m)\u001b[0m\u001b[0;34m\u001b[0m\u001b[0m\n\u001b[1;32m      5\u001b[0m     \u001b[0mlevel1_keys\u001b[0m \u001b[0;34m=\u001b[0m \u001b[0mlist\u001b[0m\u001b[0;34m(\u001b[0m\u001b[0mmatrix\u001b[0m\u001b[0;34m.\u001b[0m\u001b[0mkeys\u001b[0m\u001b[0;34m(\u001b[0m\u001b[0;34m)\u001b[0m\u001b[0;34m)\u001b[0m\u001b[0;34m\u001b[0m\u001b[0m\n",
      "\u001b[0;31mUnpicklingError\u001b[0m: invalid load key, '{'."
     ]
    }
   ],
   "source": []
  },
  {
   "cell_type": "markdown",
   "metadata": {},
   "source": [
    "##### Checking the matrices\n",
    "- ../../gaurav/New_data_with_cgs/mat_cng2lemma_new.p -- CHECKED\n",
    "- ../../gaurav/New_data_with_cgs/mat_cng2cng_new.json -- CHECKED\n",
    "- ../../gaurav/New_data_with_cgs/mat_lemma2cng_new.p -- CHECKED\n",
    "- ../../gaurav/New_data_with_cgs/mat_tup2cng_new.json -- CHECKED\n",
    "- ../../gaurav/New_data_with_cgs/mat_cng2tup_new.json -- CHECKED"
   ]
  },
  {
   "cell_type": "code",
   "execution_count": 42,
   "metadata": {
    "collapsed": false
   },
   "outputs": [],
   "source": [
    "# m = pickle.load(open('../../gaurav/New_data_with_cgs/mat_cng2lemma_new.p', 'rb'), encoding=u'utf-8')\n",
    "# m = json.load(open('../../gaurav/New_data_with_cgs/mat_cng2cng_new.json'))\n",
    "# m = pickle.load(open('../../gaurav/New_data_with_cgs/mat_lemma2cng_new.p', 'rb'), encoding=u'utf-8')\n",
    "# m = json.load(open('../../gaurav/New_data_with_cgs/mat_tup2cng_new.json'))\n",
    "# m = json.load(open('../../gaurav/New_data_with_cgs/mat_cng2tup_new.json'))"
   ]
  },
  {
   "cell_type": "code",
   "execution_count": null,
   "metadata": {
    "collapsed": false,
    "scrolled": true
   },
   "outputs": [],
   "source": [
    "convert2DMat_to_countonly('../../gaurav/New_data_with_cgs/mat_cng2lemma_new.p',\\\n",
    "                          '../../gaurav/New_data_with_cgs/countonly/mat_cng2lemma_new_countonly.p')"
   ]
  },
  {
   "cell_type": "code",
   "execution_count": 5,
   "metadata": {
    "collapsed": false,
    "scrolled": true
   },
   "outputs": [
    {
     "data": {
      "text/plain": [
       "66817"
      ]
     },
     "metadata": {},
     "output_type": "display_data"
    },
    {
     "data": {
      "text/plain": [
       "'Sakrajit'"
      ]
     },
     "metadata": {},
     "output_type": "display_data"
    },
    {
     "name": "stdout",
     "output_type": "stream",
     "text": [
      "{'69': ['377416.p', '219217.p'], '-230': ['219217.p'], 'nom. masc.': ['183572.p', '183581.p', '219217.p'], '71': ['183572.p'], 'instr. masc.': ['183581.p'], '-10': ['183572.p'], '39': ['183572.p', '183581.p', '219217.p'], 'neutr': ['172711.p', '183572.p', '172711.p'], 'acc. masc.': ['377416.p', '219217.p'], '171': ['172711.p'], 'acc. sg.': ['183572.p', '377416.p', '219217.p'], '15_pl': ['219217.p'], 'pl': ['172711.p', '219217.p', '183581.p', '183572.p', '183581.p', '219217.p'], 'acc. neutr.': ['183572.p'], '170': ['219217.p'], 'instr. pl.': ['183581.p'], '99': ['183581.p'], 'instr': ['183581.p'], '41': ['172711.p'], 'acc': ['183572.p', '377416.p', '219217.p'], 'sg': ['183572.p', '172711.p', '377416.p', '219217.p', '377416.p', '219217.p'], 'nom. pl.': ['172711.p', '183572.p', '183581.p', '219217.p'], 'sg_tp': ['377416.p'], '2': ['377416.p', '183581.p', '172711.p'], '15_tp': ['219217.p', '377416.p'], 'loc. sg.': ['172711.p', '219217.p'], '3': ['183572.p', '219217.p'], '15_sg': ['377416.p'], '-159': ['219217.p'], 'tp': ['219217.p', '377416.p'], 'masc': ['183581.p', '183572.p', '183581.p', '219217.p', '377416.p', '219217.p'], 'loc': ['172711.p', '219217.p'], 'fem': ['219217.p'], 'nom. neutr.': ['172711.p'], '-153': ['377416.p'], 'nom': ['172711.p', '183572.p', '183581.p', '219217.p'], '-190': ['183572.p', '183581.p', '219217.p'], 'pl_tp': ['219217.p']}\n",
      "{'69': 2, '-230': 1, 'nom. masc.': 3, '71': 1, 'instr. masc.': 1, '-10': 1, '39': 3, 'neutr': 3, 'acc. masc.': 2, '171': 1, 'acc. sg.': 3, '15_pl': 1, 'pl': 6, 'acc. neutr.': 1, '170': 1, 'instr. pl.': 1, '99': 1, 'instr': 1, '41': 1, 'acc': 3, 'sg': 6, 'nom. pl.': 4, 'sg_tp': 1, '2': 3, '15_tp': 2, 'loc. sg.': 2, '3': 2, '15_sg': 1, '-159': 1, 'tp': 2, 'masc': 6, 'loc': 2, 'fem': 1, 'nom. neutr.': 1, '-153': 1, 'nom': 4, '-190': 3, 'pl_tp': 1}\n"
     ]
    },
    {
     "data": {
      "text/plain": [
       "66817"
      ]
     },
     "metadata": {},
     "output_type": "display_data"
    }
   ],
   "source": [
    "convert2DMat_to_countonly('../../gaurav/New_data_with_cgs/mat_lemma2cng_new.p',\\\n",
    "                          '../../gaurav/New_data_with_cgs/countonly/mat_lemma2cng_new_countonly.p')"
   ]
  },
  {
   "cell_type": "code",
   "execution_count": null,
   "metadata": {
    "collapsed": false,
    "scrolled": true
   },
   "outputs": [],
   "source": [
    "convert2DMat_to_countonly('../../gaurav/New_data_with_cgs/mat_cng2cng_new.json', \\\n",
    "                         '../../gaurav/New_data_with_cgs/countonly/mat_cng2cng_new_countonly.p', jsonIn = True)"
   ]
  },
  {
   "cell_type": "code",
   "execution_count": 9,
   "metadata": {
    "collapsed": false
   },
   "outputs": [
    {
     "data": {
      "text/plain": [
       "443"
      ]
     },
     "metadata": {},
     "output_type": "display_data"
    },
    {
     "data": {
      "text/plain": [
       "'-68'"
      ]
     },
     "metadata": {},
     "output_type": "display_data"
    },
    {
     "name": "stdout",
     "output_type": "stream",
     "text": [
      "{'BU_-190': ['167509.p'], 'meru_3': ['161648.p'], 'cirAya_2': ['301122.p'], 'as_-18': ['116207.p'], 'Bogin_39': ['338026.p'], 'mahA_2': ['161648.p'], 'SoRita_3': ['67386.p'], 'tvad_162': ['338036.p', '125701.p'], 'nu_2': ['116207.p'], 'bAQa_31': ['121019.p'], 'brU_-43': ['121019.p'], 'tvad_42': ['411764.p', '167509.p'], 'idam_150': ['67386.p'], 'sarva_79': ['411764.p'], 'trayI_3': ['305099.p'], 'samA_80': ['167509.p'], 'tad_41': ['44018.p'], 'darpa_69': ['67386.p'], 'yajYa_99': ['405197.p'], 'kva_2': ['116207.p'], 'BU_-58': ['163382.p'], 'Bojana_60': ['67386.p'], 'vijYAna_39': ['323967.p'], 'BAvanA_30': ['338036.p'], 'sa_2': ['391626.p'], 'Sata_71': ['167509.p'], 'ISvara_3': ['305099.p'], 'ced_2': ['301122.p', '163382.p'], 'etad_30': ['338036.p'], 'bahu_99': ['405197.p'], 'aBicoday_-43': ['44018.p'], 'mad_152': ['338036.p', '411764.p', '44018.p'], 'pfTagviDa_40': ['121019.p'], 'evam_2': ['301122.p', '163382.p', '121019.p'], 'tad_29': ['121019.p'], 'haya_79': ['391626.p'], 'han_-57': ['116207.p'], 'mAMsa_3': ['67386.p'], 'yad_39': ['406635.p'], 'nAga_3': ['391626.p'], 'saMSaya_29': ['411764.p'], 'has_-210': ['163382.p'], 'mad_92': ['391626.p'], 'Sru_-58': ['323967.p'], 'pravftti_3': ['338026.p'], 'as_-13': ['411764.p'], 'pArTa_59': ['301122.p'], 'nivft_-33': ['116207.p'], 'api_2': ['305099.p', '125701.p'], 'jala_171': ['167509.p'], 'yuga_171': ['338026.p'], 'BUri_3': ['405197.p'], 'bAhya_39': ['305099.p'], 'nihan_-190': ['391626.p'], 'yA_-10': ['406635.p'], 'deSa_3': ['301122.p'], 'vEvasvata_3': ['406635.p'], 'Pala_3': ['338026.p'], 'mf_-190': ['116207.p'], 'ca_2': ['405197.p'], 'vidviz_39': ['305099.p'], 'karman_71': ['301122.p'], 'pratIkASa_69': ['161648.p'], 'tatas_2': ['323967.p', '338036.p'], 'loka_169': ['163382.p'], 'manda_71': ['406635.p'], 'sarva_39': ['305099.p', '323967.p'], 'kzaya_69': ['406635.p'], 'pApa_71': ['301122.p'], 'manas_91': ['44018.p'], 'rUpa_91': ['301122.p'], 'na_2': ['411764.p', '163382.p'], 'dakziRA_99': ['405197.p'], 'BraMS_-190': ['323967.p'], 'tatra_2': ['411764.p'], 'iti_2': ['44018.p', '121019.p'], 'plavaMgama_59': ['161648.p'], 'ji_-230': ['405197.p'], 'yuga_169': ['338026.p'], 'kftakftyatA_30': ['125701.p'], 'mad_72': ['161648.p', '338036.p', '125701.p'], 'syandana_3': ['391626.p'], 'tad_71': ['301122.p'], 'grAha_3': ['167509.p']}\n"
     ]
    },
    {
     "data": {
      "text/plain": [
       "443"
      ]
     },
     "metadata": {},
     "output_type": "display_data"
    },
    {
     "data": {
      "text/plain": [
       "217326"
      ]
     },
     "metadata": {},
     "output_type": "display_data"
    },
    {
     "data": {
      "text/plain": [
       "'kApaTa_29'"
      ]
     },
     "metadata": {},
     "output_type": "display_data"
    },
    {
     "name": "stdout",
     "output_type": "stream",
     "text": [
      "{'29': ['138204.p', '138500.p'], 'nom': ['138204.p', '138500.p'], 'nom. sg.': ['138204.p', '138500.p'], 'voc. masc.': ['138500.p'], '2': ['138204.p', '138500.p'], 'nom. masc.': ['138204.p', '138500.p'], '49': ['138500.p'], 'sg': ['138204.p', '138500.p', '138500.p'], 'voc. sg.': ['138500.p'], 'masc': ['138204.p', '138500.p', '138500.p'], 'voc': ['138500.p']}\n"
     ]
    },
    {
     "data": {
      "text/plain": [
       "217326"
      ]
     },
     "metadata": {},
     "output_type": "display_data"
    }
   ],
   "source": [
    "convert2DMat_to_countonly('../../gaurav/New_data_with_cgs/mat_cng2tup_new.json', \\\n",
    "                         '../../gaurav/New_data_with_cgs/countonly/mat_cng2tup_new_countonly.p', jsonIn = True)\n",
    "convert2DMat_to_countonly('../../gaurav/New_data_with_cgs/mat_tup2cng_new.json', \\\n",
    "                         '../../gaurav/New_data_with_cgs/countonly/mat_tup2cng_new_countonly.p', jsonIn = True)"
   ]
  },
  {
   "cell_type": "code",
   "execution_count": null,
   "metadata": {
    "collapsed": true
   },
   "outputs": [],
   "source": [
    "convert2DMat_to_1D('../../gaurav/New_data_with_cgs/mat_cng2lemma_new.p',\\\n",
    "                          '../../gaurav/New_data_with_cgs/countonly/mat_cngCount_1D.p')\n",
    "convert2DMat_to_1D('../../gaurav/New_data_with_cgs/mat_lemma2cng_new.p',\\\n",
    "                          '../../gaurav/New_data_with_cgs/countonly/mat_lemCount_1D.p')"
   ]
  },
  {
   "cell_type": "code",
   "execution_count": 12,
   "metadata": {
    "collapsed": false
   },
   "outputs": [
    {
     "data": {
      "text/plain": [
       "217326"
      ]
     },
     "metadata": {},
     "output_type": "display_data"
    },
    {
     "data": {
      "text/plain": [
       "'kApaTa_29'"
      ]
     },
     "metadata": {},
     "output_type": "display_data"
    },
    {
     "data": {
      "text/plain": [
       "217326"
      ]
     },
     "metadata": {},
     "output_type": "display_data"
    }
   ],
   "source": [
    "convert2DMat_to_1D('../../gaurav/New_data_with_cgs/mat_tup2cng_new.json',\\\n",
    "                  '../../gaurav/New_data_with_cgs/countonly/mat_tupCount_1D.p', jsonIn = True)"
   ]
  },
  {
   "cell_type": "code",
   "execution_count": 17,
   "metadata": {
    "collapsed": true
   },
   "outputs": [],
   "source": [
    "mat = pickle.load(open('extras/all_dcs_lemmas_matrix.p', 'rb'))"
   ]
  },
  {
   "cell_type": "code",
   "execution_count": 3,
   "metadata": {
    "collapsed": false
   },
   "outputs": [
    {
     "data": {
      "text/plain": [
       "217326"
      ]
     },
     "metadata": {},
     "output_type": "display_data"
    },
    {
     "data": {
      "text/plain": [
       "'trEyambaka_69'"
      ]
     },
     "metadata": {},
     "output_type": "display_data"
    },
    {
     "name": "stdout",
     "output_type": "stream",
     "text": [
      "{'nESa': ['392071.p'], 'kf': ['392071.p'], 'bali': ['392071.p'], 'nEtyaka': ['392071.p']}\n"
     ]
    },
    {
     "data": {
      "text/plain": [
       "217326"
      ]
     },
     "metadata": {},
     "output_type": "display_data"
    }
   ],
   "source": [
    "convert2DMat_to_countonly('../NewData/mat_tup2lem.p', \\\n",
    "                         '../NewData/gauravs/mat_tup2lem_old_countonly.p')"
   ]
  },
  {
   "cell_type": "code",
   "execution_count": null,
   "metadata": {
    "collapsed": true
   },
   "outputs": [],
   "source": []
  }
 ],
 "metadata": {
  "anaconda-cloud": {},
  "kernelspec": {
   "display_name": "Python [default]",
   "language": "python",
   "name": "python3"
  },
  "language_info": {
   "codemirror_mode": {
    "name": "ipython",
    "version": 3
   },
   "file_extension": ".py",
   "mimetype": "text/x-python",
   "name": "python",
   "nbconvert_exporter": "python",
   "pygments_lexer": "ipython3",
   "version": "3.5.2"
  }
 },
 "nbformat": 4,
 "nbformat_minor": 1
}
