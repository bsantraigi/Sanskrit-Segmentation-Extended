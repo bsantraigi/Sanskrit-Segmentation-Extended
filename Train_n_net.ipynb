{
 "cells": [
  {
   "cell_type": "code",
   "execution_count": 1,
   "metadata": {
    "collapsed": true
   },
   "outputs": [],
   "source": [
    "%load_ext autoreload\n",
    "%autoreload 2"
   ]
  },
  {
   "cell_type": "code",
   "execution_count": 2,
   "metadata": {
    "collapsed": true
   },
   "outputs": [],
   "source": [
    "## bUILT-iN pACKAGES\n",
    "import sys, os, time, bz2, zlib, pickle, math, json, csv\n",
    "from collections import defaultdict\n",
    "import numpy as np\n",
    "import matplotlib.pyplot as plt\n",
    "np.set_printoptions(suppress=True)\n",
    "%matplotlib inline\n",
    "from IPython.display import display\n",
    "\n",
    "## lAST sUMMER\n",
    "from romtoslp import *\n",
    "from sentences import *\n",
    "from DCS import *\n",
    "import MatDB\n",
    "from heap_n_PrimMST import *\n",
    "from ECL_MST import *\n",
    "\n",
    "## lAST yEAR\n",
    "# from word_definite import *\n",
    "from nnet import *\n",
    "# from heap_n_PrimMST import *\n",
    "# from word_definite import *"
   ]
  },
  {
   "cell_type": "code",
   "execution_count": 3,
   "metadata": {
    "collapsed": true
   },
   "outputs": [],
   "source": [
    "# from MatDB import *\n",
    "import word_definite as WD\n",
    "from heap_n_PrimMST import *\n",
    "from nnet import *"
   ]
  },
  {
   "cell_type": "code",
   "execution_count": 4,
   "metadata": {
    "collapsed": true
   },
   "outputs": [],
   "source": [
    "import winsound\n",
    "def playBeep():\n",
    "    for i in range(3):\n",
    "        winsound.Beep(2200, 300)\n",
    "        winsound.Beep(2600, 300)"
   ]
  },
  {
   "cell_type": "code",
   "execution_count": 5,
   "metadata": {
    "collapsed": true
   },
   "outputs": [],
   "source": [
    "loaded_SKT = pickle.load(open('../Simultaneous_CompatSKT_10K.p', 'rb'), encoding=u'utf-8')\n",
    "loaded_DCS = pickle.load(open('../Simultaneous_DCS_10K.p', 'rb'), encoding=u'utf-8')"
   ]
  },
  {
   "cell_type": "code",
   "execution_count": 6,
   "metadata": {
    "collapsed": true
   },
   "outputs": [],
   "source": [
    "# dataset_4k_1k = pickle.load(open('../SmallDataset_4K_1K.p', 'rb'))\n",
    "# TrainFiles = dataset_4k_1k['TrainFiles']\n",
    "# TestFiles = dataset_4k_1k['TestFiles']\n",
    "\n",
    "# dataset_6k_3k = pickle.load(open('../SmallDataset_6K_3K.p', 'rb'))\n",
    "# TrainFiles_2 = dataset_6k_3k['TrainFiles']\n",
    "# TestFiles_2 = dataset_6k_3k['TestFiles']"
   ]
  },
  {
   "cell_type": "code",
   "execution_count": 7,
   "metadata": {
    "collapsed": true
   },
   "outputs": [],
   "source": [
    "# matDB = MatDB.MatDB()"
   ]
  },
  {
   "cell_type": "code",
   "execution_count": 8,
   "metadata": {},
   "outputs": [
    {
     "name": "stdout",
     "output_type": "stream",
     "text": [
      "957 files will not be used for training\n",
      "Size of training set: 8219\n"
     ]
    }
   ],
   "source": [
    "# Create Training File List\n",
    "excluded_files = []\n",
    "with open('inputs/Baseline4_advSample.csv', 'r') as f_handle:\n",
    "    opener = csv.reader(f_handle)\n",
    "    for line in opener:\n",
    "        excluded_files.append(line[1].replace('.p', '.ds.bz2'))\n",
    "\n",
    "bz2_input_folder = '../NewData/skt_dcs_DS.bz2_1L_bigram_10K//'\n",
    "# bz2_input_folder = '/home/rs/15CS91R05/vishnu/Data/skt_dcs_DS.bz2_compat_10k_check_again/'\n",
    "all_files = []\n",
    "skipped = 0\n",
    "for f in os.listdir(bz2_input_folder):\n",
    "    if '.ds.bz2' in f:\n",
    "        if f in excluded_files:\n",
    "            skipped += 1\n",
    "            continue\n",
    "        all_files.append(f)\n",
    "\n",
    "print(skipped, 'files will not be used for training')\n",
    "print('Size of training set:', len(all_files))\n",
    "\n",
    "TrainFiles = all_files        "
   ]
  },
  {
   "cell_type": "code",
   "execution_count": null,
   "metadata": {
    "collapsed": true
   },
   "outputs": [],
   "source": []
  },
  {
   "cell_type": "code",
   "execution_count": 9,
   "metadata": {
    "collapsed": true
   },
   "outputs": [],
   "source": [
    "def open_dsbz2(filename):\n",
    "    with bz2.BZ2File(filename, 'r') as f:\n",
    "        loader = pickle.load(f)\n",
    "    \n",
    "    conflicts_Dict_correct = loader['conflicts_Dict_correct']\n",
    "    nodelist_to_correct_mapping = loader['nodelist_to_correct_mapping']\n",
    "    nodelist_correct = loader['nodelist_correct']\n",
    "    featVMat_correct = loader['featVMat_correct']\n",
    "    featVMat = loader['featVMat']\n",
    "    conflicts_Dict = loader['conflicts_Dict']\n",
    "    nodelist = loader['nodelist']\n",
    "    \n",
    "    return (nodelist_correct, conflicts_Dict_correct, featVMat_correct, nodelist_to_correct_mapping,\\\n",
    "            nodelist, conflicts_Dict, featVMat)\n"
   ]
  },
  {
   "cell_type": "code",
   "execution_count": 10,
   "metadata": {
    "collapsed": true
   },
   "outputs": [],
   "source": [
    "\"\"\"\n",
    "################################################################################################\n",
    "######################  CREATE SEVERAL DATA STRUCTURES FROM SENTENCE/DCS  ######################\n",
    "###########################  NODELIST, ADJACENCY LIST, GRAPH, HEAP #############################\n",
    "################################################################################################\n",
    "\"\"\"\n",
    "def GetTrainingKit(sentenceObj, dcsObj):\n",
    "    nodelist = GetNodes(sentenceObj)\n",
    "    \n",
    "    # Nodelist with only the correct_nodes\n",
    "    nodelist2 = GetNodes(sentenceObj)\n",
    "    nodelist2_to_correct_mapping = {}\n",
    "    nodelist_correct = []\n",
    "    search_key = 0\n",
    "    first_key = 0\n",
    "    for chunk_id in range(len(dcsObj.lemmas)):\n",
    "        while nodelist2[first_key].chunk_id != chunk_id:\n",
    "            first_key += 1\n",
    "        for j in range(len(dcsObj.lemmas[chunk_id])):\n",
    "            search_key = first_key\n",
    "            while (nodelist2[search_key].lemma != rom_slp(dcsObj.lemmas[chunk_id][j])) or (nodelist2[search_key].cng != dcsObj.cng[chunk_id][j]):\n",
    "                search_key += 1\n",
    "                if search_key >= len(nodelist2) or nodelist2[search_key].chunk_id > chunk_id:\n",
    "                    break\n",
    "    #         print((rom_slp(dcsObj.lemmas[chunk_id][j]), dcsObj.cng[chunk_id][j]))\n",
    "    #         print(nodelist[search_key])\n",
    "            nodelist2_to_correct_mapping[len(nodelist_correct)] = search_key\n",
    "            nodelist_correct.append(nodelist2[search_key])\n",
    "    return (nodelist, nodelist_correct, nodelist2_to_correct_mapping)\n",
    "    \n",
    "\n",
    "def GetGraph(nodelist, neuralnet):\n",
    "    if not neuralnet.outer_relu:\n",
    "        conflicts_Dict = Get_Conflicts(nodelist)\n",
    "\n",
    "        featVMat = Get_Feat_Vec_Matrix(nodelist, conflicts_Dict)\n",
    "\n",
    "        (WScalarMat, SigmoidGateOutput) = Get_W_Scalar_Matrix_from_FeatVect_Matrix(featVMat, nodelist, conflicts_Dict, neuralnet)\n",
    "        return (conflicts_Dict, featVMat, WScalarMat, SigmoidGateOutput)\n",
    "    else:\n",
    "        conflicts_Dict = Get_Conflicts(nodelist)\n",
    "\n",
    "        featVMat = Get_Feat_Vec_Matrix(nodelist, conflicts_Dict)\n",
    "\n",
    "        WScalarMat = Get_W_Scalar_Matrix_from_FeatVect_Matrix(featVMat, nodelist, conflicts_Dict, neuralnet)\n",
    "        return (conflicts_Dict, featVMat, WScalarMat)"
   ]
  },
  {
   "cell_type": "code",
   "execution_count": 11,
   "metadata": {
    "collapsed": true
   },
   "outputs": [],
   "source": [
    "trainingStatus = defaultdict(lambda: bool(False))"
   ]
  },
  {
   "cell_type": "code",
   "execution_count": 12,
   "metadata": {
    "collapsed": true
   },
   "outputs": [],
   "source": [
    "\"\"\"\n",
    "################################################################################################\n",
    "##############################  TRAIN FUNCTION  ################################################\n",
    "################################################################################################\n",
    "\"\"\"\n",
    "\n",
    "def train_generator(loaded_SKT, loaded_DCS, bz2_input_folder, n_trainset = -1, iterationPerBatch = 10, filePerBatch = 20, _debug = True):\n",
    "    # Train\n",
    "    if n_trainset == -1:\n",
    "        n_trainset = len(TrainFiles)\n",
    "        totalBatchToTrain = math.ceil(n_trainset/filePerBatch)\n",
    "    else:\n",
    "        totalBatchToTrain = math.ceil(n_trainset/filePerBatch)\n",
    "    \n",
    "    register_nnet(trainer.neuralnet, bz2_input_folder)\n",
    "    for iterout in range(totalBatchToTrain):\n",
    "        # Add timer\n",
    "        startT = time.time()\n",
    "\n",
    "        # Change current batch\n",
    "        if(iterout % 50 == 0):\n",
    "            trainer.Save(p_name.replace('.p', '_i{}.p'.format(iterout)))\n",
    "        else:\n",
    "            trainer.Save(p_name)\n",
    "        print('Batch: ', iterout)\n",
    "        files_for_batch = TrainFiles[iterout*filePerBatch:(iterout + 1)*filePerBatch]\n",
    "        print(files_for_batch)\n",
    "        # trainer.Load('outputs/neuralnet_trained.p')\n",
    "        try:\n",
    "            # Run few times on same set of files\n",
    "            for iterin in range(iterationPerBatch):\n",
    "                print('ITERATION IN', iterin)        \n",
    "                for fn in files_for_batch:\n",
    "                    trainFileName = fn.replace('.ds.bz2', '.p2')\n",
    "                    sentenceObj = loaded_SKT[trainFileName]\n",
    "                    dcsObj = loaded_DCS[trainFileName]\n",
    "                    if trainingStatus[sentenceObj.sent_id]:\n",
    "                        continue\n",
    "                    # trainer.Save('outputs/saved_trainer.p')\n",
    "                    try:\n",
    "                        trainer.Train(sentenceObj, dcsObj, bz2_input_folder, _debug= _debug)\n",
    "                    except (IndexError, KeyError) as e:\n",
    "                        print('\\x1b[31mFailed: {} \\x1b[0m'.format(sentenceObj.sent_id))\n",
    "                sys.stdout.flush() # Flush IO buffer \n",
    "            finishT = time.time()\n",
    "            print('Avg. time taken by 1 file(1 iteration): {:.3f}'.format((finishT - startT)/(iterationPerBatch*filePerBatch)))\n",
    "        except KeyboardInterrupt:\n",
    "            print('Training paused')\n",
    "            trainer.Save(p_name)\n",
    "            yield None\n",
    "    trainer.Save(p_name)\n",
    "                \n",
    "def test(loaded_SKT, loaded_DCS, n_testSet = -1, _testFiles = None, n_checkpt = 100):\n",
    "    total_lemma = 0;\n",
    "    correct_lemma = 0;\n",
    "\n",
    "    total_word = 0;\n",
    "    total_output_nodes = 0\n",
    "    correct_word = 0;\n",
    "    file_counter = 0\n",
    "    if _testFiles is None:\n",
    "        if n_testSet == -1:\n",
    "            _testFiles = TestFiles\n",
    "        else:\n",
    "            _testFiles = TestFiles[0:n_testSet]\n",
    "    else:\n",
    "        if n_testSet == -1:\n",
    "            _testFiles = _testFiles\n",
    "        else:\n",
    "            _testFiles = _testFiles[0:n_testSet]\n",
    "            \n",
    "    recalls = []\n",
    "    recalls_of_word = []\n",
    "    precisions = []\n",
    "    precisions_of_words = []\n",
    "    for fn in _testFiles:\n",
    "        if file_counter % n_checkpt == 0:\n",
    "            print(file_counter,' Checkpoint... ')\n",
    "            sys.stdout.flush() # Flush IO buffer \n",
    "        \n",
    "        file_counter += 1\n",
    "        \n",
    "        testFileName = fn.replace('.ds.bz2', '.p2')\n",
    "        sentenceObj = loaded_SKT[testFileName]\n",
    "        dcsObj = loaded_DCS[testFileName]\n",
    "        \n",
    "        try:\n",
    "            (word_match, lemma_match, n_dcsWords, n_output_nodes) = trainer.Test(sentenceObj, dcsObj)\n",
    "            \n",
    "            recalls.append(lemma_match/n_dcsWords)\n",
    "            recalls_of_word.append(word_match/n_dcsWords)\n",
    "            \n",
    "            precisions.append(lemma_match/n_output_nodes)\n",
    "            precisions_of_words.append(word_match/n_output_nodes)\n",
    "            \n",
    "            total_lemma += n_dcsWords\n",
    "            total_word += n_dcsWords\n",
    "            \n",
    "            total_output_nodes += n_output_nodes            \n",
    "            \n",
    "            correct_lemma += lemma_match\n",
    "            correct_word += word_match\n",
    "        except (IndexError, KeyError) as e:\n",
    "            print('Failed!')        \n",
    "\n",
    "    print('Avg. Micro Recall of Lemmas: {}'.format(np.mean(np.array(recalls))))\n",
    "    print('Avg. Micro Recall of Words: {}'.format(np.mean(np.array(recalls_of_word))))\n",
    "    print('Avg. Micro Precision of Lemmas: {}'.format(np.mean(np.array(precisions))))\n",
    "    print('Avg. Micro Precision of Words: {}'.format(np.mean(np.array(precisions_of_words))))\n",
    "    \n",
    "    return (recalls, recalls_of_word, precisions, precisions_of_words)\n",
    "    "
   ]
  },
  {
   "cell_type": "code",
   "execution_count": 13,
   "metadata": {
    "collapsed": true
   },
   "outputs": [],
   "source": [
    "# NOW-OLD FUNCTION\n",
    "# def GetLoss(_mst_adj_graph, _mask_de_correct_edges, _negLogLikelies):\n",
    "#     _negLogLikelies = _negLogLikelies.copy()\n",
    "#     _negLogLikelies[~_mst_adj_graph] = 0\n",
    "#     _negLogLikelies[~_mask_de_correct_edges] *= -1 # BAKA!!! Check before you try to fix this again\n",
    "#     return np.sum(_negLogLikelies)    \n",
    "\n",
    "# NEW FUNCTION\n",
    "def GetLoss(_mst_adj_graph, _mask_de_correct_edges, _WScalarMat):\n",
    "    _WScalarMat = _WScalarMat.copy()\n",
    "    _WScalarMat[_mst_adj_graph&(~_mask_de_correct_edges)] *= -1 # BAKA!!! Check before you try to fix this again\n",
    "    _WScalarMat[~_mst_adj_graph] = 0\n",
    "    return np.sum(_WScalarMat)"
   ]
  },
  {
   "cell_type": "code",
   "execution_count": 14,
   "metadata": {},
   "outputs": [
    {
     "name": "stdout",
     "output_type": "stream",
     "text": [
      "nEURAL nET wILL bE sAVED hERE:  outputs/train_t1711879920150/nnet.p\n"
     ]
    }
   ],
   "source": [
    "\"\"\"\n",
    "################################################################################################\n",
    "##############################  GET A FILENAME TO SAVE WEIGHTS  ################################\n",
    "################################################################################################\n",
    "\"\"\"\n",
    "import time\n",
    "st = str(int((time.time() * 1e6) % 1e13))\n",
    "log_name = 'logs/train_nnet_t{}.out'.format(st)\n",
    "odir = 'outputs/train_t{}'.format(st)\n",
    "p_name = 'outputs/train_t{}/nnet.p'.format(st)\n",
    "print('nEURAL nET wILL bE sAVED hERE: ', p_name)"
   ]
  },
  {
   "cell_type": "code",
   "execution_count": 15,
   "metadata": {
    "collapsed": true
   },
   "outputs": [],
   "source": [
    "def register_nnet(nnet, bz2_input_folder):\n",
    "    if not os.path.isdir(odir):\n",
    "        os.mkdir(odir)\n",
    "    if not os.path.isfile('outputs/nnet_LOGS.csv'):\n",
    "        with open('outputs/nnet_LOGS.csv', 'a') as fh:\n",
    "            csv_r = csv.writer(fh)\n",
    "            csv_r.writerow(['odir', 'p_name', 'hidden_layer_size', '_edge_vector_dim'])\n",
    "    with open('outputs/nnet_LOGS.csv', 'a') as fh:\n",
    "        csv_r = csv.writer(fh)\n",
    "        csv_r.writerow([odir, p_name, nnet.n, nnet.d, bz2_input_folder])"
   ]
  },
  {
   "cell_type": "code",
   "execution_count": 40,
   "metadata": {
    "collapsed": true
   },
   "outputs": [],
   "source": [
    "class Trainer:\n",
    "    def __init__(self, modelFile = None):\n",
    "        if modelFile is None:\n",
    "            self.hidden_layer_size = 1200\n",
    "            self._edge_vector_dim = 1500\n",
    "            # self._edge_vector_dim = WD._edge_vector_dim\n",
    "            # self._full_cnglist = list(WD.mat_cngCount_1D)\n",
    "            \n",
    "            self.neuralnet = NN(self._edge_vector_dim, self.hidden_layer_size, outer_relu=True)\n",
    "            self.history = defaultdict(lambda: list())\n",
    "        else:\n",
    "            loader = pickle.load(open(filename, 'rb'))\n",
    "            \n",
    "            self.neuralnet.n = loader['n']\n",
    "            self.neuralnet.d = loader['d']\n",
    "\n",
    "            self.neuralnet = NN(self._edge_vector_dim, self.hidden_layer_size, outer_relu=True)\n",
    "\n",
    "            self.neuralnet.U = loader['U']\n",
    "            self.neuralnet.W = loader['W']\n",
    "            self.neuralnet.B1 = loader['B1']\n",
    "            self.neuralnet.B2 = loader['B2']\n",
    "            \n",
    "            self.history = defaultdict(lambda: list())\n",
    "            \n",
    "        # SET LEARNING RATES\n",
    "        self.neuralnet.etaW = 3e-4\n",
    "        self.neuralnet.etaB1 = 1e-4\n",
    "        \n",
    "        self.neuralnet.etaU = 1e-4\n",
    "        self.neuralnet.etaB2 = 1e-4\n",
    "            \n",
    "    def Reset(self):\n",
    "        self.neuralnet = NN(self._edge_vector_dim, self.hidden_layer_size)\n",
    "        self.history = defaultdict(lambda: list())\n",
    "        \n",
    "    def Save(self, filename):\n",
    "        print('Weights Saved: ', filename)\n",
    "        pickle.dump({\n",
    "                'U': self.neuralnet.U,\n",
    "                'W': self.neuralnet.W,\n",
    "                'n': self.neuralnet.n,\n",
    "                'd': self.neuralnet.d,\n",
    "                'B1': self.neuralnet.B1,\n",
    "                'B2': self.neuralnet.B2\n",
    "            }, open(filename, 'wb'))\n",
    "        return\n",
    "        \n",
    "    \n",
    "    def Load(self, filename):\n",
    "        loader = pickle.load(open(filename, 'rb'))\n",
    "        self.neuralnet.U = loader['U']\n",
    "        self.neuralnet.W = loader['W']\n",
    "        self.neuralnet.B1 = loader['B1']\n",
    "        self.neuralnet.B2 = loader['B2']\n",
    "        self.neuralnet.hidden_layer_size = loader['n']\n",
    "        self.neuralnet._edge_vector_dim = loader['d']\n",
    "        \n",
    "    def Test(self, sentenceObj, dcsObj, dsbz2_name, _dump = False, _outFile = None):\n",
    "        if _dump:\n",
    "            if _outFile is None:\n",
    "                raise Exception('WTH r u thinking! pass me outFolder')\n",
    "        neuralnet = self.neuralnet\n",
    "        minScore = np.inf\n",
    "        minMst = None\n",
    "        \n",
    "        # dsbz2_name = sentenceObj.sent_id + '.ds.bz2'\n",
    "        (nodelist_correct, conflicts_Dict_correct, featVMat_correct, nodelist_to_correct_mapping,\\\n",
    "            nodelist, conflicts_Dict, featVMat) = open_dsbz2(dsbz2_name)\n",
    "        \n",
    "        # if len(nodelist) > 50:\n",
    "        #     return None\n",
    "\n",
    "        if not self.neuralnet.outer_relu:\n",
    "            (WScalarMat, SigmoidGateOutput) = Get_W_Scalar_Matrix_from_FeatVect_Matrix(featVMat, nodelist, conflicts_Dict, neuralnet)\n",
    "        else:\n",
    "            WScalarMat = Get_W_Scalar_Matrix_from_FeatVect_Matrix(featVMat, nodelist, conflicts_Dict, neuralnet)\n",
    "        \n",
    "        # print('NeuralNet Time: ', time.time() - startT)\n",
    "        # startT = time.time()\n",
    "        \n",
    "        # Get all MST\n",
    "        for source in range(len(nodelist)):\n",
    "            (mst_nodes, mst_adj_graph, _) = MST(nodelist, WScalarMat, conflicts_Dict, source)\n",
    "            # print('.', end = '')\n",
    "            score = GetMSTWeight(mst_adj_graph, WScalarMat)\n",
    "            if(score < minScore):\n",
    "                minScore = score\n",
    "                minMst = mst_nodes\n",
    "        dcsLemmas = [[rom_slp(l) for l in arr]for arr in dcsObj.lemmas]\n",
    "        word_match = 0\n",
    "        lemma_match = 0\n",
    "        n_output_nodes = 0\n",
    "        \n",
    "        if _dump:\n",
    "            predicted_lemmas = [sentenceObj.sent_id]\n",
    "            predicted_cngs = [sentenceObj.sent_id]\n",
    "        \n",
    "        for chunk_id, wdSplit in minMst.items():\n",
    "            for wd in wdSplit:\n",
    "                if _dump:\n",
    "                    predicted_lemmas.append(wd.lemma)\n",
    "                    predicted_cngs.append(wd.cng)\n",
    "                n_output_nodes += 1\n",
    "                # Match lemma\n",
    "                search_result = [i for i, j in enumerate(dcsLemmas[chunk_id]) if j == wd.lemma]\n",
    "                if len(search_result) > 0:\n",
    "                    lemma_match += 1\n",
    "                # Match CNG\n",
    "                for i in search_result:\n",
    "                    if(dcsObj.cng[chunk_id][i] == str(wd.cng)):\n",
    "                        word_match += 1\n",
    "                        # print(wd.lemma, wd.cng)\n",
    "                        break\n",
    "        dcsLemmas = [l for arr in dcsObj.lemmas for l in arr]\n",
    "        \n",
    "        if _dump:\n",
    "            with open(_outFile, 'a') as fh:\n",
    "                dcsv = csv.writer(fh)\n",
    "                dcsv.writerow(predicted_lemmas)\n",
    "                dcsv.writerow(predicted_cngs)\n",
    "                dcsv.writerow([sentenceObj.sent_id, word_match, lemma_match, len(dcsLemmas), n_output_nodes])\n",
    "        \n",
    "        # print('All MST Time: ', time.time() - startT)\n",
    "        # print('Node Count: ', len(nodelist))\n",
    "#         print('\\nFull Match: {}, Partial Match: {}, OutOf {}, NodeCount: {}, '.\\\n",
    "#               format(word_match, lemma_match, len(dcsLemmas), len(nodelist)))\n",
    "        return (word_match, lemma_match, len(dcsLemmas), n_output_nodes)\n",
    "    \n",
    "    def Train(self, sentenceObj, dcsObj, bz2_input_folder, _debug = True):\n",
    "        # Hyperparameter for hinge loss: m\n",
    "        m_hinge_param = 14\n",
    "        \n",
    "        dsbz2_name = sentenceObj.sent_id + '.ds.bz2'\n",
    "        (nodelist_correct, conflicts_Dict_correct, featVMat_correct, nodelist_to_correct_mapping,\\\n",
    "            nodelist, conflicts_Dict, featVMat) = open_dsbz2(bz2_input_folder + dsbz2_name)\n",
    "        # Train for large graphs separately\n",
    "#         if len(nodelist) < 40:\n",
    "#             return\n",
    "        \n",
    "        \"\"\" FORM MAXIMUM(ENERGY) SPANNING TREE OF THE GOLDEN GRAPH : WORST GOLD STRUCTURE \"\"\"\n",
    "        WScalarMat_correct = Get_W_Scalar_Matrix_from_FeatVect_Matrix(featVMat_correct, nodelist_correct,\\\n",
    "                                                                      conflicts_Dict_correct, self.neuralnet)\n",
    "        source = 0\n",
    "        \"\"\" Find the max spanning tree : negative Weight matrix passed \"\"\"\n",
    "#         (max_st_gold_ndict, max_st_adj_gold_small, _) =\\\n",
    "#             MST(nodelist_correct, -WScalarMat_correct, conflicts_Dict_correct, source)\n",
    "        (max_st_gold_ndict, max_st_adj_gold_small, _) =\\\n",
    "            MST(nodelist_correct, -WScalarMat_correct, conflicts_Dict_correct, source)\n",
    "        energy_gold_max_ST = np.sum(WScalarMat_correct[max_st_adj_gold_small])\n",
    "        \n",
    "        \"\"\" Convert correct spanning tree graph adj matrix to full marix dimensions \"\"\"\n",
    "        \"\"\" Create full-size adjacency matrix for correct_mst_small \"\"\"\n",
    "        nodelen = len(nodelist)\n",
    "        max_st_adj_gold = np.ndarray((nodelen, nodelen), np.bool)*False # T_STAR\n",
    "        for i in range(max_st_adj_gold_small.shape[0]):\n",
    "            for j in range(max_st_adj_gold_small.shape[1]):\n",
    "                max_st_adj_gold[nodelist_to_correct_mapping[i], nodelist_to_correct_mapping[j]] =\\\n",
    "                    max_st_adj_gold_small[i, j]\n",
    "        \n",
    "        \"\"\" Delta(Margin) Function : MASK FOR WHICH NODES IN NODELIST BELONG TO DCS \"\"\"\n",
    "        gold_nodes_mask = np.array([False]*len(nodelist))\n",
    "        gold_nodes_mask[list(nodelist_to_correct_mapping.values())] = True\n",
    "        margin_f = lambda nodes_mask: np.sum(nodes_mask&(~gold_nodes_mask))**2\n",
    "        \n",
    "        \"\"\" FOR ALL POSSIBLE MST FROM THE COMPLETE GRAPH \"\"\"\n",
    "        WScalarMat = Get_W_Scalar_Matrix_from_FeatVect_Matrix(featVMat, nodelist, conflicts_Dict, self.neuralnet)\n",
    "\n",
    "        \"\"\" For each node - Find MST with that source\"\"\"\n",
    "        min_STx = None # Min Energy spanning tree with worst margin with gold_STx\n",
    "        min_marginalized_energy = np.inf\n",
    "        \n",
    "        # Generate random set of nodes from which mSTs are to be considered\n",
    "        n_nodes = len(nodelist)\n",
    "        selection_prob = 0.4\n",
    "        select_flag = np.random.rand(n_nodes) < selection_prob\n",
    "        # Fix if all zeros\n",
    "        if np.sum(select_flag) == 0:\n",
    "            select_flag[np.random.randint(n_nodes)] = 1\n",
    "        for source in range(len(nodelist)):\n",
    "            (mst_nodes, mst_adj_graph, mst_nodes_bool) = MST(nodelist, WScalarMat, conflicts_Dict, source) # T_X\n",
    "            # print('.', end = '')\n",
    "           \n",
    "            marginalized_en = np.sum(WScalarMat[mst_adj_graph]) - margin_f(mst_nodes_bool)\n",
    "            # Minimum marginalized spanning tree : Randomization applied\n",
    "            # if marginalized_en < min_marginalized_energy and select_flag[source]:\n",
    "            if marginalized_en < min_marginalized_energy:\n",
    "                min_marginalized_energy = marginalized_en\n",
    "                min_STx = mst_adj_graph\n",
    "            # Energy diff should all be negative\n",
    "            if _debug:\n",
    "                print('Source: [{}], Node_Diff:{}, Max_Gold_En: {:.3f}, Energy: {:.3f}'.\\\n",
    "                      format(source, np.sum((~gold_nodes_mask)&mst_nodes_bool), energy_gold_max_ST,  np.sum(WScalarMat[mst_adj_graph])))\n",
    "\n",
    "        \n",
    "        \"\"\" Gradient Descent \"\"\"\n",
    "        # FOR MOST OFFENdING Y\n",
    "        doBpp = False\n",
    "        \n",
    "        Total_Loss = energy_gold_max_ST - min_marginalized_energy\n",
    "        if Total_Loss > 0:\n",
    "            dLdOut = np.zeros_like(WScalarMat)\n",
    "            dLdOut[max_st_adj_gold&(~min_STx)] = 1\n",
    "            dLdOut[(~max_st_adj_gold)&min_STx] = -1\n",
    "            if _debug:\n",
    "                print('{}. '.format(sentenceObj.sent_id), end = '')\n",
    "            self.neuralnet.Back_Prop(dLdOut, len(nodelist), featVMat, _debug)\n",
    "        else:\n",
    "            trainingStatus[sentenceObj.sent_id] = True\n",
    "        if _debug:\n",
    "            print(\"\\nFileKey: %s, Loss: %6.3f\" % (sentenceObj.sent_id, Total_Loss))"
   ]
  },
  {
   "cell_type": "code",
   "execution_count": 14,
   "metadata": {
    "collapsed": true
   },
   "outputs": [],
   "source": [
    "# trainer.neuralnet.U"
   ]
  },
  {
   "cell_type": "code",
   "execution_count": 24,
   "metadata": {
    "collapsed": true,
    "scrolled": true
   },
   "outputs": [],
   "source": [
    "trainer = None\n",
    "def InitModule():\n",
    "    global trainer\n",
    "    trainer = Trainer()\n",
    "InitModule()\n",
    "trainingStatus = defaultdict(lambda: bool(False))\n",
    "trainer.Load('outputs/train_t1646878175381/nnet.p')"
   ]
  },
  {
   "cell_type": "code",
   "execution_count": 16,
   "metadata": {
    "scrolled": true
   },
   "outputs": [
    {
     "name": "stdout",
     "output_type": "stream",
     "text": [
      "10025.p2\n",
      "Source: [0], Node_Diff:2, Max_Gold_En: 88.222, Energy: 91.650\n",
      "Source: [1], Node_Diff:2, Max_Gold_En: 88.222, Energy: 90.309\n",
      "Source: [2], Node_Diff:2, Max_Gold_En: 88.222, Energy: 90.289\n",
      "Source: [3], Node_Diff:3, Max_Gold_En: 88.222, Energy: 93.502\n",
      "Source: [4], Node_Diff:3, Max_Gold_En: 88.222, Energy: 91.070\n",
      "Source: [5], Node_Diff:2, Max_Gold_En: 88.222, Energy: 89.829\n",
      "Source: [6], Node_Diff:2, Max_Gold_En: 88.222, Energy: 93.012\n",
      "Source: [7], Node_Diff:2, Max_Gold_En: 88.222, Energy: 91.238\n",
      "Source: [8], Node_Diff:2, Max_Gold_En: 88.222, Energy: 91.243\n",
      "Source: [9], Node_Diff:2, Max_Gold_En: 88.222, Energy: 91.634\n",
      "Source: [10], Node_Diff:3, Max_Gold_En: 88.222, Energy: 90.442\n",
      "Source: [11], Node_Diff:2, Max_Gold_En: 88.222, Energy: 94.275\n",
      "Source: [12], Node_Diff:2, Max_Gold_En: 88.222, Energy: 91.418\n",
      "Source:  0\n",
      "Found using ECL MinST: En: 90.0308394835845, Margin: 3\n",
      "Found using ECL MaxST: En: 109.16272235150362, Margin: 4\n",
      "Source:  1\n",
      "Found using ECL MinST: En: 90.0308394835845, Margin: 3\n",
      "Found using ECL MaxST: En: 109.16272235150362, Margin: 4\n",
      "Source:  2\n",
      "Found using ECL MinST: En: 90.0308394835845, Margin: 3\n",
      "Found using ECL MaxST: En: 109.16272235150362, Margin: 4\n",
      "Source:  3\n",
      "Found using ECL MinST: En: 90.0308394835845, Margin: 3\n",
      "Found using ECL MaxST: En: 109.16272235150362, Margin: 4\n",
      "Source:  4\n",
      "Found using ECL MinST: En: 90.0308394835845, Margin: 3\n",
      "Found using ECL MaxST: En: 109.16272235150362, Margin: 4\n",
      "Source:  5\n",
      "Found using ECL MinST: En: 90.0308394835845, Margin: 3\n",
      "Found using ECL MaxST: En: 109.16272235150362, Margin: 4\n",
      "Source:  6\n",
      "Found using ECL MinST: En: 90.0308394835845, Margin: 3\n",
      "Found using ECL MaxST: En: 109.16272235150362, Margin: 4\n",
      "Source:  7\n",
      "Found using ECL MinST: En: 90.0308394835845, Margin: 3\n",
      "Found using ECL MaxST: En: 109.16272235150362, Margin: 4\n",
      "Source:  8\n",
      "Found using ECL MinST: En: 90.0308394835845, Margin: 3\n",
      "Found using ECL MaxST: En: 109.16272235150362, Margin: 4\n",
      "Source:  9\n",
      "Found using ECL MinST: En: 90.0308394835845, Margin: 3\n",
      "Found using ECL MaxST: En: 109.16272235150362, Margin: 4\n",
      "Source:  10\n",
      "Found using ECL MinST: En: 90.0308394835845, Margin: 3\n",
      "Found using ECL MaxST: En: 109.16272235150362, Margin: 4\n",
      "Source:  11\n",
      "Found using ECL MinST: En: 90.0308394835845, Margin: 3\n",
      "Found using ECL MaxST: En: 109.16272235150362, Margin: 4\n",
      "Source:  12\n",
      "Found using ECL MinST: En: 90.0308394835845, Margin: 3\n",
      "Found using ECL MaxST: En: 109.16272235150362, Margin: 4\n",
      "10025. Max(delW):   0.000184\tMax(delU):   0.000169\n",
      "\n",
      "FileKey: 10025, Loss:  6.780\n"
     ]
    }
   ],
   "source": [
    "\"\"\"\n",
    "################################################################################################\n",
    "################################################################################################\n",
    "################################################################################################\n",
    "\"\"\"\n",
    "# if __name__ == '__main__':\n",
    "# loaded_SKT = pickle.load(open('../Simultaneous_CompatSKT_10K.p', 'rb'))\n",
    "# loaded_DCS = pickle.load(open('../Simultaneous_DCS_10K.p', 'rb'))\n",
    "# main(loaded_SKT, loaded_DCS)\n",
    "np.set_printoptions(suppress=False)\n",
    "\n",
    "fn = TrainFiles[3].replace('.ds.bz2', '.p2')\n",
    "print(fn)\n",
    "for _ in range(1):\n",
    "    trainer.Train(loaded_SKT[fn], loaded_DCS[fn], bz2_input_folder, ecl_mst=True, _debug = True)\n",
    "\n",
    "# # fn = TestFiles[1].replace('.ds.bz2', '.p2')\n",
    "# trainer.Test(loaded_SKT[fn], loaded_DCS[fn])\n",
    "# print (\"Not Implemented\")"
   ]
  },
  {
   "cell_type": "code",
   "execution_count": 51,
   "metadata": {
    "collapsed": true
   },
   "outputs": [],
   "source": [
    "train = train_generator(loaded_SKT, loaded_DCS, bz2_input_folder, n_trainset = -1, filePerBatch = 10, iterationPerBatch = 5, _debug = False)"
   ]
  },
  {
   "cell_type": "code",
   "execution_count": 52,
   "metadata": {
    "scrolled": true
   },
   "outputs": [
    {
     "name": "stdout",
     "output_type": "stream",
     "text": [
      "Weights Saved:  outputs/train_t1646878175381/nnet_i0.p\n",
      "Batch:  0\n",
      "['100066.ds.bz2', '100234.ds.bz2', '10025.ds.bz2', '100326.ds.bz2', '100335.ds.bz2', '100347.ds.bz2', '100514.ds.bz2', '100612.ds.bz2', '10074.ds.bz2', '100830.ds.bz2']\n",
      "ITERATION IN 0\n",
      "ITERATION IN 1\n",
      "ITERATION IN 2\n",
      "ITERATION IN 3\n",
      "ITERATION IN 4\n",
      "Avg. time taken by 1 file(1 iteration): 1.964\n",
      "Weights Saved:  outputs/train_t1646878175381/nnet.p\n",
      "Batch:  1\n",
      "['100895.ds.bz2', '100954.ds.bz2', '100969.ds.bz2', '101051.ds.bz2', '101078.ds.bz2', '101096.ds.bz2', '101128.ds.bz2', '101150.ds.bz2', '101381.ds.bz2', '101393.ds.bz2']\n",
      "ITERATION IN 0\n",
      "ITERATION IN 1\n",
      "ITERATION IN 2\n",
      "ITERATION IN 3\n",
      "ITERATION IN 4\n",
      "Avg. time taken by 1 file(1 iteration): 1.443\n",
      "Weights Saved:  outputs/train_t1646878175381/nnet.p\n",
      "Batch:  2\n",
      "['1014.ds.bz2', '101470.ds.bz2', '1015.ds.bz2', '101576.ds.bz2', '10168.ds.bz2', '101720.ds.bz2', '101824.ds.bz2', '101942.ds.bz2', '101973.ds.bz2', '102105.ds.bz2']\n",
      "ITERATION IN 0\n",
      "ITERATION IN 1\n",
      "ITERATION IN 2\n",
      "ITERATION IN 3\n",
      "ITERATION IN 4\n",
      "Avg. time taken by 1 file(1 iteration): 0.978\n",
      "Weights Saved:  outputs/train_t1646878175381/nnet.p\n",
      "Batch:  3\n",
      "['102205.ds.bz2', '102243.ds.bz2', '102399.ds.bz2', '10255.ds.bz2', '102573.ds.bz2', '102684.ds.bz2', '102723.ds.bz2', '102970.ds.bz2', '103169.ds.bz2', '103203.ds.bz2']\n",
      "ITERATION IN 0\n",
      "ITERATION IN 1\n",
      "ITERATION IN 2\n",
      "ITERATION IN 3\n",
      "ITERATION IN 4\n",
      "Avg. time taken by 1 file(1 iteration): 2.007\n",
      "Weights Saved:  outputs/train_t1646878175381/nnet.p\n",
      "Batch:  4\n",
      "['103288.ds.bz2', '103405.ds.bz2', '103417.ds.bz2', '103539.ds.bz2', '103699.ds.bz2', '10371.ds.bz2', '103724.ds.bz2', '103750.ds.bz2', '10377.ds.bz2', '103785.ds.bz2']\n",
      "ITERATION IN 0\n",
      "ITERATION IN 1\n",
      "ITERATION IN 2\n",
      "ITERATION IN 3\n",
      "ITERATION IN 4\n",
      "Avg. time taken by 1 file(1 iteration): 1.793\n",
      "Weights Saved:  outputs/train_t1646878175381/nnet.p\n",
      "Batch:  5\n",
      "['103787.ds.bz2', '103791.ds.bz2', '103803.ds.bz2', '103836.ds.bz2', '10384.ds.bz2', '103895.ds.bz2', '103955.ds.bz2', '10399.ds.bz2', '104111.ds.bz2', '104148.ds.bz2']\n",
      "ITERATION IN 0\n",
      "ITERATION IN 1\n",
      "ITERATION IN 2\n",
      "ITERATION IN 3\n",
      "ITERATION IN 4\n",
      "Avg. time taken by 1 file(1 iteration): 1.763\n",
      "Weights Saved:  outputs/train_t1646878175381/nnet.p\n",
      "Batch:  6\n",
      "['104159.ds.bz2', '10416.ds.bz2', '104589.ds.bz2', '104602.ds.bz2', '104626.ds.bz2', '104857.ds.bz2', '104887.ds.bz2', '104899.ds.bz2', '10495.ds.bz2', '105015.ds.bz2']\n",
      "ITERATION IN 0\n",
      "ITERATION IN 1\n",
      "ITERATION IN 2\n",
      "ITERATION IN 3\n",
      "ITERATION IN 4\n",
      "Avg. time taken by 1 file(1 iteration): 2.369\n",
      "Weights Saved:  outputs/train_t1646878175381/nnet.p\n",
      "Batch:  7\n",
      "['105037.ds.bz2', '105083.ds.bz2', '105205.ds.bz2', '105496.ds.bz2', '105497.ds.bz2', '10552.ds.bz2', '105641.ds.bz2', '106077.ds.bz2', '106095.ds.bz2', '106117.ds.bz2']\n",
      "ITERATION IN 0\n",
      "ITERATION IN 1\n",
      "ITERATION IN 2\n",
      "ITERATION IN 3\n",
      "ITERATION IN 4\n",
      "Avg. time taken by 1 file(1 iteration): 4.530\n",
      "Weights Saved:  outputs/train_t1646878175381/nnet.p\n",
      "Batch:  8\n",
      "['106129.ds.bz2', '10617.ds.bz2', '106241.ds.bz2', '106273.ds.bz2', '106275.ds.bz2', '106395.ds.bz2', '106405.ds.bz2', '10644.ds.bz2', '106492.ds.bz2', '106532.ds.bz2']\n",
      "ITERATION IN 0\n",
      "ITERATION IN 1\n",
      "ITERATION IN 2\n",
      "ITERATION IN 3\n",
      "ITERATION IN 4\n",
      "Avg. time taken by 1 file(1 iteration): 2.447\n",
      "Weights Saved:  outputs/train_t1646878175381/nnet.p\n",
      "Batch:  9\n",
      "['106582.ds.bz2', '106615.ds.bz2', '106770.ds.bz2', '106780.ds.bz2', '107020.ds.bz2', '10707.ds.bz2', '107137.ds.bz2', '1073.ds.bz2', '107500.ds.bz2', '107527.ds.bz2']\n",
      "ITERATION IN 0\n",
      "ITERATION IN 1\n",
      "ITERATION IN 2\n",
      "ITERATION IN 3\n",
      "ITERATION IN 4\n",
      "Avg. time taken by 1 file(1 iteration): 1.845\n",
      "Weights Saved:  outputs/train_t1646878175381/nnet.p\n",
      "Batch:  10\n",
      "['107593.ds.bz2', '107613.ds.bz2', '107668.ds.bz2', '107682.ds.bz2', '10774.ds.bz2', '107757.ds.bz2', '10778.ds.bz2', '107849.ds.bz2', '10791.ds.bz2', '107912.ds.bz2']\n",
      "ITERATION IN 0\n",
      "ITERATION IN 1\n",
      "ITERATION IN 2\n",
      "ITERATION IN 3\n",
      "ITERATION IN 4\n",
      "Avg. time taken by 1 file(1 iteration): 2.524\n",
      "Weights Saved:  outputs/train_t1646878175381/nnet.p\n",
      "Batch:  11\n",
      "['107920.ds.bz2', '107921.ds.bz2', '107945.ds.bz2', '10801.ds.bz2', '108015.ds.bz2', '108029.ds.bz2', '108166.ds.bz2', '108344.ds.bz2', '10851.ds.bz2', '108608.ds.bz2']\n",
      "ITERATION IN 0\n",
      "ITERATION IN 1\n",
      "ITERATION IN 2\n",
      "ITERATION IN 3\n",
      "ITERATION IN 4\n",
      "Avg. time taken by 1 file(1 iteration): 3.075\n",
      "Weights Saved:  outputs/train_t1646878175381/nnet.p\n",
      "Batch:  12\n",
      "['108707.ds.bz2', '108761.ds.bz2', '108973.ds.bz2', '109051.ds.bz2', '10911.ds.bz2', '109161.ds.bz2', '109223.ds.bz2', '109253.ds.bz2', '1093.ds.bz2', '109357.ds.bz2']\n",
      "ITERATION IN 0\n",
      "ITERATION IN 1\n",
      "ITERATION IN 2\n",
      "ITERATION IN 3\n",
      "ITERATION IN 4\n",
      "Avg. time taken by 1 file(1 iteration): 2.900\n",
      "Weights Saved:  outputs/train_t1646878175381/nnet.p\n",
      "Batch:  13\n",
      "['1094.ds.bz2', '10941.ds.bz2', '109432.ds.bz2', '10962.ds.bz2', '10963.ds.bz2', '109631.ds.bz2', '109667.ds.bz2', '109677.ds.bz2', '109787.ds.bz2', '109831.ds.bz2']\n",
      "ITERATION IN 0\n",
      "Training paused\n",
      "Weights Saved:  outputs/train_t1646878175381/nnet.p\n"
     ]
    }
   ],
   "source": [
    "# Complete Training\n",
    "# tips: try increasing iterations per batch\n",
    "trainingStatus = defaultdict(lambda: bool(False)) # Reset it after 3 epochs of full-training set\n",
    "train.__next__()"
   ]
  },
  {
   "cell_type": "markdown",
   "metadata": {},
   "source": [
    "### Test Here"
   ]
  },
  {
   "cell_type": "code",
   "execution_count": 41,
   "metadata": {
    "collapsed": true,
    "scrolled": true
   },
   "outputs": [],
   "source": [
    "trainer = None\n",
    "def InitModule():\n",
    "    global trainer\n",
    "    trainer = Trainer()\n",
    "InitModule()\n",
    "trainingStatus = defaultdict(lambda: bool(False))\n",
    "trainer.Load('outputs/train_t1646878175381/nnet.p')"
   ]
  },
  {
   "cell_type": "code",
   "execution_count": 38,
   "metadata": {
    "collapsed": true
   },
   "outputs": [],
   "source": [
    "i = 0\n",
    "fn = TrainFiles[0].replace('.ds.bz2', '.p2')\n",
    "dsbz2_name = '../NewData/skt_dcs_DS.bz2_1L_bigram_10K/' + TrainFiles[0]\n",
    "sentenceObj = loaded_SKT[fn]\n",
    "dcsObj = loaded_DCS[fn]"
   ]
  },
  {
   "cell_type": "code",
   "execution_count": 43,
   "metadata": {},
   "outputs": [],
   "source": [
    "results = trainer.Test(sentenceObj, dcsObj, dsbz2_name, _dump=True, _outFile='outputs/preds_1L_bigram.csv')"
   ]
  },
  {
   "cell_type": "code",
   "execution_count": 27,
   "metadata": {},
   "outputs": [
    {
     "data": {
      "text/plain": [
       "(6, 6, 7, 8)"
      ]
     },
     "execution_count": 27,
     "metadata": {},
     "output_type": "execute_result"
    }
   ],
   "source": [
    "results"
   ]
  },
  {
   "cell_type": "code",
   "execution_count": null,
   "metadata": {
    "collapsed": true
   },
   "outputs": [],
   "source": []
  },
  {
   "cell_type": "code",
   "execution_count": null,
   "metadata": {
    "collapsed": true
   },
   "outputs": [],
   "source": []
  },
  {
   "cell_type": "markdown",
   "metadata": {},
   "source": [
    "### Checking bz2 Files"
   ]
  },
  {
   "cell_type": "code",
   "execution_count": 37,
   "metadata": {
    "collapsed": true
   },
   "outputs": [],
   "source": [
    "bz2_input_folder2 = '../NewData/skt_dcs_DS.bz2_1L_bigram_10K/'\n",
    "dsbz2_name = '100066' + '.ds.bz2'\n",
    "(nodelist_correct, conflicts_Dict_correct, featVMat_correct, nodelist_to_correct_mapping,\\\n",
    "    nodelist, conflicts_Dict, featVMat) = open_dsbz2(bz2_input_folder2 + dsbz2_name)"
   ]
  },
  {
   "cell_type": "code",
   "execution_count": 33,
   "metadata": {},
   "outputs": [
    {
     "data": {
      "text/plain": [
       "[WD_Node[C: 0, P: 0, tatas @(2) => tatas],\n",
       " WD_Node[C: 1, P: 0, mad @(32) => aham],\n",
       " WD_Node[C: 2, P: 0, api @(2) => api],\n",
       " WD_Node[C: 3, P: 0, kOravya @(49) => kOravya],\n",
       " WD_Node[C: 4, P: 0, roza @(3) => roza],\n",
       " WD_Node[C: 4, P: 4, vyAkula @(3) => vyAkula],\n",
       " WD_Node[C: 4, P: 11, locana @(29) => locanas]]"
      ]
     },
     "execution_count": 33,
     "metadata": {},
     "output_type": "execute_result"
    }
   ],
   "source": [
    "nodelist_correct"
   ]
  },
  {
   "cell_type": "code",
   "execution_count": 44,
   "metadata": {
    "scrolled": true
   },
   "outputs": [
    {
     "name": "stdout",
     "output_type": "stream",
     "text": [
      "0 WD_Node[C: 0, P: 0, yad @(31) => yat]\n",
      "1 WD_Node[C: 0, P: 0, yat @(31) => yat]\n",
      "2 WD_Node[C: 0, P: 0,  @(-10) => yat]\n",
      "3 WD_Node[C: 0, P: 0,  @(-10) => yat]\n",
      "4 WD_Node[C: 1, P: 0, brAhmaRa @(3) => brAhmaRa]\n",
      "5 WD_Node[C: 1, P: 7, arTa @(49) => arTe]\n",
      "6 WD_Node[C: 1, P: 7, ArTa @(49) => ArTe]\n",
      "7 WD_Node[C: 2, P: 0, visfj @(-23) => visfjet]\n",
      "8 WD_Node[C: 2, P: 2, sfj @(-23) => sfjet]\n",
      "9 WD_Node[C: 3, P: 0, Atman @(72) => AtmAnam]\n",
      "10 WD_Node[C: 3, P: 3, Ana @(31) => Anam]\n",
      "11 WD_Node[C: 3, P: 3, an @(-41) => Anam]\n",
      "12 WD_Node[C: 4, P: 0, api @(2) => api]\n",
      "13 WD_Node[C: 5, P: 0, ca @(2) => ca]\n",
      "14 WD_Node[C: 5, P: 1, Atmaja @(31) => Atmajam]\n",
      "15 WD_Node[C: 5, P: 1, Atman @(3) => Atma]\n",
      "16 WD_Node[C: 5, P: 5, ja @(31) => jam]\n"
     ]
    }
   ],
   "source": [
    "kx = 0\n",
    "for node in nodelist:\n",
    "    print(kx, node)\n",
    "    kx += 1"
   ]
  },
  {
   "cell_type": "code",
   "execution_count": 42,
   "metadata": {},
   "outputs": [
    {
     "name": "stdout",
     "output_type": "stream",
     "text": [
      "DCS ANALYZE\n",
      "---------------\n",
      "yad brAhmaRArTe visfjed AtmAnam api cAtmajam   \n",
      "[['yat'], ['brāhmaṇa', 'artha'], ['visṛj'], ['ātman'], ['api'], ['ca', 'ātmaja']]\n",
      "Lemmas: ['yat', 'brAhmaRa', 'arTa', 'visfj', 'Atman', 'api', 'ca', 'Atmaja']\n",
      "[['2'], ['3', '169'], ['-23'], ['69'], ['2'], ['2', '69']]\n",
      "\n"
     ]
    }
   ],
   "source": [
    "SeeDCS(loaded_DCS['154658.p2'])"
   ]
  },
  {
   "cell_type": "code",
   "execution_count": null,
   "metadata": {
    "collapsed": true
   },
   "outputs": [],
   "source": []
  },
  {
   "cell_type": "markdown",
   "metadata": {},
   "source": [
    "######   THE END\n",
    "-----------------------------------------------------------------------"
   ]
  }
 ],
 "metadata": {
  "anaconda-cloud": {},
  "kernelspec": {
   "display_name": "Python [default]",
   "language": "python",
   "name": "python3"
  },
  "language_info": {
   "codemirror_mode": {
    "name": "ipython",
    "version": 3
   },
   "file_extension": ".py",
   "mimetype": "text/x-python",
   "name": "python",
   "nbconvert_exporter": "python",
   "pygments_lexer": "ipython3",
   "version": "3.5.2"
  }
 },
 "nbformat": 4,
 "nbformat_minor": 1
}
