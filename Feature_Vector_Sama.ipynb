{
 "cells": [
  {
   "cell_type": "markdown",
   "metadata": {},
   "source": [
    "### Creating Feature Vectors - Between tuples"
   ]
  },
  {
   "cell_type": "code",
   "execution_count": 1,
   "metadata": {
    "collapsed": true
   },
   "outputs": [],
   "source": [
    "%load_ext autoreload\n",
    "%autoreload 2"
   ]
  },
  {
   "cell_type": "code",
   "execution_count": 2,
   "metadata": {
    "collapsed": false
   },
   "outputs": [],
   "source": [
    "import word_definite as WD\n",
    "from MatDB import *\n",
    "import matplotlib.pyplot as plt\n",
    "from IPython.display import display\n",
    "%matplotlib inline"
   ]
  },
  {
   "cell_type": "code",
   "execution_count": 3,
   "metadata": {
    "collapsed": true
   },
   "outputs": [],
   "source": [
    "import numpy as np\n",
    "import math\n",
    "np.set_printoptions(suppress=False, precision=16)"
   ]
  },
  {
   "cell_type": "code",
   "execution_count": 4,
   "metadata": {
    "collapsed": true
   },
   "outputs": [],
   "source": [
    "matDB = MatDB()"
   ]
  },
  {
   "cell_type": "code",
   "execution_count": 14,
   "metadata": {
    "collapsed": false
   },
   "outputs": [
    {
     "name": "stdout",
     "output_type": "stream",
     "text": [
      "443\n",
      "WD_Node[C: 0, P: 0, Adi @(31) => Adi]\n",
      "WD_Node[C: 1, P: 0, ca @(2) => ca]\n",
      "(400, 1)\n"
     ]
    }
   ],
   "source": [
    "WD.word_definite_extInit(matDB)\n",
    "# node2 = WD.word_definite('tIkzRam', 'tIkzRa', 31, 0, 0)\n",
    "node1 = WD.word_definite('Adi', 'Adi', 31, 0, 0)\n",
    "node2 = WD.word_definite('ca', 'ca', 2, 0, 1)\n",
    "# node1 = WD.word_definite('koRam', 'koRa', 31, 0, 1)\n",
    "print(node1)\n",
    "print(node2)\n",
    "\n",
    "feats = WD.Get_Features(node1, node2)\n",
    "print(feats.shape)"
   ]
  },
  {
   "cell_type": "code",
   "execution_count": 15,
   "metadata": {
    "collapsed": false
   },
   "outputs": [
    {
     "data": {
      "text/plain": [
       "array([[  6.7207201460977588],\n",
       "       [ 25.                ],\n",
       "       [  4.7319407373455329],\n",
       "       [  5.2541498783830329],\n",
       "       [  6.7207201460977588],\n",
       "       [ 25.                ],\n",
       "       [  5.2541498783830329],\n",
       "       [  5.7485646877999379],\n",
       "       [  6.3887402079420541],\n",
       "       [  6.643440142781933 ],\n",
       "       [  4.3576006752259451],\n",
       "       [  4.4471216941305309],\n",
       "       [ 25.                ],\n",
       "       [ 25.                ],\n",
       "       [  5.0736201334780358],\n",
       "       [  5.0736201334780358],\n",
       "       [ 25.                ],\n",
       "       [ 25.                ],\n",
       "       [  7.4926185018021734],\n",
       "       [  8.4840792465447752],\n",
       "       [ 25.                ],\n",
       "       [  7.153055816608501 ],\n",
       "       [  6.9597667469369933],\n",
       "       [  9.1872170498421593],\n",
       "       [ 25.                ],\n",
       "       [  9.1940728356874839],\n",
       "       [  6.1717123624255175],\n",
       "       [  7.7175833409731922],\n",
       "       [  8.5158689604253919],\n",
       "       [  6.4098314733264319],\n",
       "       [ 25.                ],\n",
       "       [ 25.                ],\n",
       "       [ 25.                ],\n",
       "       [ 25.                ],\n",
       "       [  6.5116441771505462],\n",
       "       [ 25.                ],\n",
       "       [  8.9359991047586949],\n",
       "       [  6.4840349731082147],\n",
       "       [  6.6197053390305429],\n",
       "       [  8.3899637901016249],\n",
       "       [ 25.                ],\n",
       "       [ 25.                ],\n",
       "       [ 25.                ],\n",
       "       [ 25.                ],\n",
       "       [ 25.                ],\n",
       "       [  9.0940467247114825],\n",
       "       [ 25.                ],\n",
       "       [  8.6051118144626386],\n",
       "       [  9.2251103179013256],\n",
       "       [  7.8681216994817023],\n",
       "       [ 25.                ],\n",
       "       [ 25.                ],\n",
       "       [ 25.                ],\n",
       "       [ 25.                ],\n",
       "       [ 25.                ],\n",
       "       [  8.5292082781762488],\n",
       "       [  8.9046704598721913],\n",
       "       [ 25.                ],\n",
       "       [ 25.                ],\n",
       "       [ 25.                ],\n",
       "       [  9.3277856767014793],\n",
       "       [ 25.                ],\n",
       "       [ 25.                ],\n",
       "       [  5.8081712045840117],\n",
       "       [  7.6782357266948322],\n",
       "       [  7.7341012753404703],\n",
       "       [  5.7655073476866541],\n",
       "       [  5.8752702898357629],\n",
       "       [  8.4859866177998402],\n",
       "       [  9.1109221713852193],\n",
       "       [ 25.                ],\n",
       "       [  7.3935020876297548],\n",
       "       [  8.343321908006514 ],\n",
       "       [ 25.                ],\n",
       "       [  8.0522774617327819],\n",
       "       [  8.2947219879050387],\n",
       "       [  7.0660186117939201],\n",
       "       [  8.4425362867707552],\n",
       "       [  7.1132130356772301],\n",
       "       [  8.5511081859323976],\n",
       "       [  6.6432120986321923],\n",
       "       [  7.2382434257279948],\n",
       "       [ 25.                ],\n",
       "       [  8.6860596662482603],\n",
       "       [  8.794631565409901 ],\n",
       "       [  6.3717314247912693],\n",
       "       [ 25.                ],\n",
       "       [  9.4168847910667033],\n",
       "       [ 25.                ],\n",
       "       [  9.5689354023979369],\n",
       "       [ 25.                ],\n",
       "       [ 25.                ],\n",
       "       [ 25.                ],\n",
       "       [ 25.                ],\n",
       "       [  8.769428988367757 ],\n",
       "       [  7.9731072770385687],\n",
       "       [ 25.                ],\n",
       "       [  8.8620905303918285],\n",
       "       [ 25.                ],\n",
       "       [  9.2600117964497937],\n",
       "       [  7.794469233737936 ],\n",
       "       [ 25.                ],\n",
       "       [  9.0724732318931434],\n",
       "       [ 25.                ],\n",
       "       [ 25.                ],\n",
       "       [ 25.                ],\n",
       "       [  9.5464075392635674],\n",
       "       [ 25.                ],\n",
       "       [  7.6356243600568892],\n",
       "       [ 25.                ],\n",
       "       [  8.3997509535656931],\n",
       "       [  8.6494790671876771],\n",
       "       [ 25.                ],\n",
       "       [ 25.                ],\n",
       "       [ 25.                ],\n",
       "       [ 25.                ],\n",
       "       [  8.811035627483502 ],\n",
       "       [ 25.                ],\n",
       "       [  7.6717633776505876],\n",
       "       [  8.7424053684408136],\n",
       "       [  7.182445468826006 ],\n",
       "       [ 25.                ],\n",
       "       [ 25.                ],\n",
       "       [  8.0428078773804064],\n",
       "       [  8.8851516086227456],\n",
       "       [  7.6949064843308017],\n",
       "       [ 25.                ],\n",
       "       [  8.5473721698538281],\n",
       "       [  7.8144671839380262],\n",
       "       [  9.3176290657057841],\n",
       "       [  6.618217766463955 ],\n",
       "       [  7.778699071483862 ],\n",
       "       [ 25.                ],\n",
       "       [ 25.                ],\n",
       "       [ 25.                ],\n",
       "       [ 25.                ],\n",
       "       [ 25.                ],\n",
       "       [ 25.                ],\n",
       "       [ 25.                ],\n",
       "       [  9.041058032962459 ],\n",
       "       [  8.7745654857094806],\n",
       "       [  7.8533054368512945],\n",
       "       [  7.5254813201990256],\n",
       "       [ 25.                ],\n",
       "       [ 25.                ],\n",
       "       [  7.4138013876940239],\n",
       "       [  9.6414296608826486],\n",
       "       [  7.8769557158847583],\n",
       "       [  7.1378916417495688],\n",
       "       [ 25.                ],\n",
       "       [  8.752032927572797 ],\n",
       "       [ 25.                ],\n",
       "       [  7.7817642756755374],\n",
       "       [  8.0530657170121813],\n",
       "       [ 25.                ],\n",
       "       [  7.7036815639818901],\n",
       "       [ 25.                ],\n",
       "       [ 25.                ],\n",
       "       [ 25.                ],\n",
       "       [ 25.                ],\n",
       "       [ 25.                ],\n",
       "       [ 25.                ],\n",
       "       [ 25.                ],\n",
       "       [  8.9557890851456818],\n",
       "       [  6.6779817127736827],\n",
       "       [ 25.                ],\n",
       "       [ 25.                ],\n",
       "       [ 25.                ],\n",
       "       [ 25.                ],\n",
       "       [  6.6628973408368548],\n",
       "       [ 25.                ],\n",
       "       [  9.5708087100410921],\n",
       "       [  7.1557339000089479],\n",
       "       [ 25.                ],\n",
       "       [ 25.                ],\n",
       "       [  7.3323637486118356],\n",
       "       [  9.7091682065162157],\n",
       "       [ 25.                ],\n",
       "       [ 25.                ],\n",
       "       [  7.2034693170980022],\n",
       "       [  9.4007670737563469],\n",
       "       [ 25.                ],\n",
       "       [ 25.                ],\n",
       "       [ 25.                ],\n",
       "       [  6.1743904458259644],\n",
       "       [  7.7043954623659534],\n",
       "       [  6.4098314733264319],\n",
       "       [  9.4513788849327565],\n",
       "       [  7.8414634623370016],\n",
       "       [ 25.                ],\n",
       "       [ 25.                ],\n",
       "       [  8.4013328944117021],\n",
       "       [ 25.                ],\n",
       "       [ 25.                ],\n",
       "       [ 25.                ],\n",
       "       [ 25.                ],\n",
       "       [ 25.                ],\n",
       "       [ 25.                ],\n",
       "       [ 25.                ],\n",
       "       [  6.7905229283180777],\n",
       "       [ 25.                ],\n",
       "       [  6.4840349731082147],\n",
       "       [ 25.                ],\n",
       "       [ 25.                ],\n",
       "       [ 25.                ],\n",
       "       [ 25.                ],\n",
       "       [  9.785242035852912 ],\n",
       "       [ 25.                ],\n",
       "       [ 25.                ],\n",
       "       [ 25.                ],\n",
       "       [  9.0940467247114825],\n",
       "       [ 25.                ],\n",
       "       [  7.8681216994817023],\n",
       "       [ 25.                ],\n",
       "       [ 25.                ],\n",
       "       [ 25.                ],\n",
       "       [  7.0254978511545216],\n",
       "       [ 25.                ],\n",
       "       [ 25.                ],\n",
       "       [ 25.                ],\n",
       "       [ 25.                ],\n",
       "       [ 25.                ],\n",
       "       [  8.5324380068225238],\n",
       "       [ 25.                ],\n",
       "       [  9.1109221713852193],\n",
       "       [  7.3935020876297548],\n",
       "       [  8.343321908006514 ],\n",
       "       [ 25.                ],\n",
       "       [ 25.                ],\n",
       "       [ 25.                ],\n",
       "       [ 25.                ],\n",
       "       [ 25.                ],\n",
       "       [ 25.                ],\n",
       "       [ 25.                ],\n",
       "       [  8.0522774617327819],\n",
       "       [  7.7907214534193701],\n",
       "       [  8.211537024348825 ],\n",
       "       [  7.0256542496698122],\n",
       "       [  8.8429876687908031],\n",
       "       [  6.3196676286046545],\n",
       "       [  6.5794256799117257],\n",
       "       [  8.4425362867707552],\n",
       "       [  6.6432120986321923],\n",
       "       [ 25.                ],\n",
       "       [ 25.                ],\n",
       "       [ 25.                ],\n",
       "       [ 25.                ],\n",
       "       [ 25.                ],\n",
       "       [  8.4066473819807737],\n",
       "       [ 25.                ],\n",
       "       [ 25.                ],\n",
       "       [ 25.                ],\n",
       "       [ 25.                ],\n",
       "       [ 25.                ],\n",
       "       [ 25.                ],\n",
       "       [ 25.                ],\n",
       "       [ 25.                ],\n",
       "       [ 25.                ],\n",
       "       [ 25.                ],\n",
       "       [  9.7940882097996784],\n",
       "       [ 25.                ],\n",
       "       [ 25.                ],\n",
       "       [  9.1627293755905654],\n",
       "       [ 25.                ],\n",
       "       [ 25.                ],\n",
       "       [  9.1824367012660524],\n",
       "       [ 25.                ],\n",
       "       [  8.170512750042171 ],\n",
       "       [ 25.                ],\n",
       "       [  9.1742079512017831],\n",
       "       [  8.5753341463048649],\n",
       "       [ 25.                ],\n",
       "       [  6.5802252166535435],\n",
       "       [ 25.                ],\n",
       "       [ 25.                ],\n",
       "       [ 25.                ],\n",
       "       [ 25.                ],\n",
       "       [ 25.                ],\n",
       "       [ 25.                ],\n",
       "       [ 25.                ],\n",
       "       [ 25.                ],\n",
       "       [ 25.                ],\n",
       "       [ 25.                ],\n",
       "       [ 25.                ],\n",
       "       [  6.8203558107859239],\n",
       "       [  7.4800697705096537],\n",
       "       [ 25.                ],\n",
       "       [  8.5625144466884464],\n",
       "       [ 25.                ],\n",
       "       [  9.1570295437077203],\n",
       "       [ 25.                ],\n",
       "       [ 25.                ],\n",
       "       [ 25.                ],\n",
       "       [  8.7140277439245821],\n",
       "       [ 25.                ],\n",
       "       [ 25.                ],\n",
       "       [ 25.                ],\n",
       "       [ 25.                ],\n",
       "       [ 25.                ],\n",
       "       [  7.8621545510776487],\n",
       "       [  8.4778715598257897],\n",
       "       [  8.1653657823259937],\n",
       "       [  8.5007471220832063],\n",
       "       [  9.2370021340649284],\n",
       "       [  8.0089818489458011],\n",
       "       [ 25.                ],\n",
       "       [  7.9201008541422748],\n",
       "       [  6.8885095773017868],\n",
       "       [  8.9059478323405088],\n",
       "       [  7.7245466869425812],\n",
       "       [ 25.                ],\n",
       "       [ 25.                ],\n",
       "       [  9.0940467247114825],\n",
       "       [  8.6833251761271946],\n",
       "       [  7.2839490696668481],\n",
       "       [  7.6975845677312495],\n",
       "       [ 25.                ],\n",
       "       [  8.5473721698538281],\n",
       "       [ 25.                ],\n",
       "       [  7.8162171976501194],\n",
       "       [  9.3176290657057841],\n",
       "       [  7.778699071483862 ],\n",
       "       [ 25.                ],\n",
       "       [ 25.                ],\n",
       "       [ 25.                ],\n",
       "       [ 25.                ],\n",
       "       [ 25.                ],\n",
       "       [ 25.                ],\n",
       "       [  9.540118463306273 ],\n",
       "       [  7.1378916417495688],\n",
       "       [  7.7817642756755374],\n",
       "       [ 25.                ],\n",
       "       [ 25.                ],\n",
       "       [ 25.                ],\n",
       "       [ 25.                ],\n",
       "       [ 25.                ],\n",
       "       [ 25.                ],\n",
       "       [  7.2866993092298715],\n",
       "       [  9.6594493988414722],\n",
       "       [ 25.                ],\n",
       "       [  9.7687077854426914],\n",
       "       [ 10.6141910090581657],\n",
       "       [ 25.                ],\n",
       "       [ 25.                ],\n",
       "       [ 25.                ],\n",
       "       [ 25.                ],\n",
       "       [ 25.                ],\n",
       "       [  6.2894588492300665],\n",
       "       [ 25.                ],\n",
       "       [ 25.                ],\n",
       "       [ 25.                ],\n",
       "       [ 25.                ],\n",
       "       [ 25.                ],\n",
       "       [ 25.                ],\n",
       "       [ 25.                ],\n",
       "       [ 25.                ],\n",
       "       [ 25.                ],\n",
       "       [ 25.                ],\n",
       "       [ 25.                ],\n",
       "       [ 25.                ],\n",
       "       [ 25.                ],\n",
       "       [ 25.                ],\n",
       "       [ 25.                ],\n",
       "       [ 25.                ],\n",
       "       [ 25.                ],\n",
       "       [ 25.                ],\n",
       "       [ 25.                ],\n",
       "       [ 25.                ],\n",
       "       [ 25.                ],\n",
       "       [  9.2268310047552475],\n",
       "       [  8.0365858804633046],\n",
       "       [ 25.                ],\n",
       "       [  8.15614658007053  ],\n",
       "       [  9.6593084618382878],\n",
       "       [  6.9598971625964579],\n",
       "       [ 25.                ],\n",
       "       [  8.1203784676163657],\n",
       "       [ 25.                ],\n",
       "       [ 25.                ],\n",
       "       [  9.9874738624176018],\n",
       "       [ 25.                ],\n",
       "       [ 25.                ],\n",
       "       [ 25.                ],\n",
       "       [ 25.                ],\n",
       "       [ 25.                ],\n",
       "       [ 25.                ],\n",
       "       [  7.2796265310510346],\n",
       "       [ 25.                ],\n",
       "       [ 25.                ],\n",
       "       [ 25.                ],\n",
       "       [  7.1804911676839147],\n",
       "       [ 25.                ],\n",
       "       [ 25.                ],\n",
       "       [ 25.                ],\n",
       "       [ 25.                ],\n",
       "       [ 25.                ],\n",
       "       [  6.9598971625964579],\n",
       "       [ 25.                ],\n",
       "       [ 25.                ],\n",
       "       [  7.6419412275320431]])"
      ]
     },
     "execution_count": 15,
     "metadata": {},
     "output_type": "execute_result"
    }
   ],
   "source": [
    "feats"
   ]
  },
  {
   "cell_type": "code",
   "execution_count": 7,
   "metadata": {
    "collapsed": false
   },
   "outputs": [
    {
     "data": {
      "text/plain": [
       "195905"
      ]
     },
     "execution_count": 7,
     "metadata": {},
     "output_type": "execute_result"
    }
   ],
   "source": [
    "matDB.mat_lemCount_1D['Adi']"
   ]
  },
  {
   "cell_type": "code",
   "execution_count": 10,
   "metadata": {
    "collapsed": false
   },
   "outputs": [
    {
     "data": {
      "text/plain": [
       "6.01953125"
      ]
     },
     "execution_count": 10,
     "metadata": {},
     "output_type": "execute_result"
    }
   ],
   "source": [
    "feats.nbytes/(1024*1024)"
   ]
  },
  {
   "cell_type": "code",
   "execution_count": 7,
   "metadata": {
    "collapsed": false,
    "scrolled": true
   },
   "outputs": [],
   "source": [
    "# for i in range(1335):\n",
    "#     if feats[i] > 0:\n",
    "#         print(i) \n",
    "# feats[-500:]"
   ]
  },
  {
   "cell_type": "markdown",
   "metadata": {
    "collapsed": false
   },
   "source": [
    "### Get PMI B/W Tuples"
   ]
  },
  {
   "cell_type": "code",
   "execution_count": null,
   "metadata": {
    "collapsed": true
   },
   "outputs": [],
   "source": []
  },
  {
   "cell_type": "code",
   "execution_count": null,
   "metadata": {
    "collapsed": true
   },
   "outputs": [],
   "source": [
    "# pmi(x;y) = -log2[p(x|y)/p(x)]\n",
    "# def PMI(x, y, _pbModel):\n",
    "#     # x : node1\n",
    "#     # y : node2\n",
    "#     if(x in _pbModel.fullCo_oc_mat[y]):\n",
    "#         p_x_given_y = _pbModel.fullCo_oc_mat[y][x]/_pbModel.unigram_counts[y]\n",
    "#         p_x = _pbModel.unigram_counts[x]/_pbModel.unigram_total_count\n",
    "#         #print(p_x_given_y, ' ', p_x)\n",
    "#         return -math.log2(p_x_given_y/p_x)\n",
    "#     else:\n",
    "#         p_x_given_y = 1/_pbModel.unigram_counts[y]\n",
    "#         p_x = _pbModel.unigram_counts[x]/_pbModel.unigram_total_count\n",
    "#         #print(p_x_given_y, ' ', p_x)\n",
    "#         return -math.log2(p_x_given_y/p_x)"
   ]
  },
  {
   "cell_type": "markdown",
   "metadata": {},
   "source": [
    "### Get tuple pairs for feature importance "
   ]
  },
  {
   "cell_type": "code",
   "execution_count": 1,
   "metadata": {
    "collapsed": true
   },
   "outputs": [],
   "source": [
    "%load_ext autoreload\n",
    "%autoreload 2"
   ]
  },
  {
   "cell_type": "code",
   "execution_count": 2,
   "metadata": {
    "collapsed": false
   },
   "outputs": [],
   "source": [
    "import word_definite as WD\n",
    "from MatDB import *\n",
    "import matplotlib.pyplot as plt\n",
    "from IPython.display import display\n",
    "%matplotlib inline"
   ]
  },
  {
   "cell_type": "code",
   "execution_count": 3,
   "metadata": {
    "collapsed": true
   },
   "outputs": [],
   "source": [
    "import numpy as np\n",
    "import math\n",
    "np.set_printoptions(suppress=False, precision=16)"
   ]
  },
  {
   "cell_type": "code",
   "execution_count": 4,
   "metadata": {
    "collapsed": true
   },
   "outputs": [],
   "source": [
    "matDB = MatDB()"
   ]
  },
  {
   "cell_type": "code",
   "execution_count": 5,
   "metadata": {
    "collapsed": false
   },
   "outputs": [
    {
     "name": "stdout",
     "output_type": "stream",
     "text": [
      "443\n"
     ]
    }
   ],
   "source": [
    "WD.word_definite_extInit(matDB)"
   ]
  },
  {
   "cell_type": "code",
   "execution_count": 6,
   "metadata": {
    "collapsed": false
   },
   "outputs": [
    {
     "data": {
      "text/plain": [
       "217326"
      ]
     },
     "execution_count": 6,
     "metadata": {},
     "output_type": "execute_result"
    }
   ],
   "source": [
    "len(matDB.mat_tupCount_1D)"
   ]
  },
  {
   "cell_type": "code",
   "execution_count": 7,
   "metadata": {
    "collapsed": true
   },
   "outputs": [],
   "source": [
    "smallTupList = []\n",
    "for tup1, val in matDB.mat_tupCount_1D.items():\n",
    "    if val > 20:\n",
    "        smallTupList.append(tup1)      "
   ]
  },
  {
   "cell_type": "code",
   "execution_count": 8,
   "metadata": {
    "collapsed": false
   },
   "outputs": [
    {
     "name": "stdout",
     "output_type": "stream",
     "text": [
      "125596\n"
     ]
    }
   ],
   "source": [
    "l = len(smallTupList)\n",
    "print(l)"
   ]
  },
  {
   "cell_type": "code",
   "execution_count": 9,
   "metadata": {
    "collapsed": false
   },
   "outputs": [],
   "source": [
    "batchCount = 10\n",
    "perm = np.random.permutation(l)[:batchCount]\n",
    "# perm2 = np.random.permutation(l)[:batchCount]"
   ]
  },
  {
   "cell_type": "code",
   "execution_count": 10,
   "metadata": {
    "collapsed": false
   },
   "outputs": [
    {
     "name": "stdout",
     "output_type": "stream",
     "text": [
      "788992\n",
      "Will get feature vectors for 18 pairs\n"
     ]
    }
   ],
   "source": [
    "fN = 4*443**2 + 9*443 + 9\n",
    "print(fN)\n",
    "\n",
    "all_pairs = {}\n",
    "\n",
    "index = 0\n",
    "for k in range(batchCount):  \n",
    "    tup1 = smallTupList[perm[k]]\n",
    "    lem1 = tup1.split('_')\n",
    "    cng1 = lem1[1]\n",
    "    lem1 = lem1[0]\n",
    "    \n",
    "    node1 = WD.word_definite(None, lem1, cng1, 0, 0)\n",
    "    for tup2, co_occurrence in matDB.mat_tup2tup_countonly[tup1].items():\n",
    "        if co_occurrence > 4:\n",
    "            lem2 = tup2.split('_')\n",
    "            cng2 = lem2[1]\n",
    "            lem2 = lem2[0]\n",
    "            node2 = WD.word_definite(None, lem2, cng2, 0, 1)\n",
    "            all_pairs[index] = (node1, node2)\n",
    "            index += 1\n",
    "            \n",
    "print('Will get feature vectors for {} pairs'.format(index))\n",
    "total_examples = index\n"
   ]
  },
  {
   "cell_type": "code",
   "execution_count": 15,
   "metadata": {
    "collapsed": false,
    "scrolled": false
   },
   "outputs": [
    {
     "name": "stdout",
     "output_type": "stream",
     "text": [
      "Checkpoint S0E5 of 10\n",
      "Checkpoint S0E10 of 10\n",
      "Checkpoint S1E5 of 10\n"
     ]
    }
   ],
   "source": [
    "pairs_per_file = 10\n",
    "for pairx in range(math.ceil(len(all_pairs)/pairs_per_file)):\n",
    "    subset_pairs = range(pairx*pairs_per_file, min(len(all_pairs), (pairx + 1)*pairs_per_file))\n",
    "    featureMatrix = np.zeros((fN, len(subset_pairs)))\n",
    "    targetDict = {}\n",
    "    index = 0\n",
    "    current_pairs = {}\n",
    "    for hi in subset_pairs:\n",
    "        node1 = all_pairs[hi][0]\n",
    "        node2 = all_pairs[hi][1]\n",
    "        current_pairs[index] = '{}^{}'.format(node1.tup, node2.tup)\n",
    "        featureMatrix[:, index, None] = WD.Get_Features(node1, node2)\n",
    "        targetDict[index] = (matDB.mat_tup2tup_countonly[node1.tup][node2.tup],\\\n",
    "                              matDB.mat_lem2lem_countonly[node1.lemma][node2.lemma],\\\n",
    "                              matDB.mat_lem2tup_countonly[node1.lemma][node2.tup],\\\n",
    "                              matDB.mat_tup2lem_countonly[node1.tup][node2.lemma])\n",
    "        index += 1\n",
    "        if index % min(math.ceil(pairs_per_file/2), 100) == 0:\n",
    "            print('Checkpoint S{}E{} of {}'.format(pairx, index, pairs_per_file))\n",
    "    pickle.dump({'all_pairs': current_pairs, 'featureMatrix': featureMatrix, 'targetDict': targetDict},\\\n",
    "        open('outputs/featureSet_{}samples_8L_{}.p'.format(pairs_per_file, pairx), 'wb'), protocol = 4)"
   ]
  },
  {
   "cell_type": "code",
   "execution_count": 4,
   "metadata": {
    "collapsed": false
   },
   "outputs": [
    {
     "name": "stdout",
     "output_type": "stream",
     "text": [
      "All Pairs:\n"
     ]
    },
    {
     "data": {
      "text/plain": [
       "{0: 'vyaYjaka_3^sadBAva_169',\n",
       " 1: 'vyaYjaka_3^evam_2',\n",
       " 2: 'vyaYjaka_3^Adi_3',\n",
       " 3: 'kalpa_99^vajra_3',\n",
       " 4: 'kalpa_99^ca_2',\n",
       " 5: 'kalpa_99^agni_3',\n",
       " 6: 'kalpa_99^deva_3',\n",
       " 7: 'kalpa_99^Sara_99'}"
      ]
     },
     "metadata": {},
     "output_type": "display_data"
    },
    {
     "name": "stdout",
     "output_type": "stream",
     "text": [
      "Feature Matrix:\n"
     ]
    },
    {
     "data": {
      "text/plain": [
       "array([[ 0.0051107325383305,  0.0051107325383305,  0.0119250425894378, ...,\n",
       "         0.0023538026990271,  0.0017261219792865,  0.0006799874463856],\n",
       "       [ 0.010221465076661 ,  0.0357751277683135,  0.0374787052810903, ...,\n",
       "         0.039334658437075 ,  0.039334658437075 ,  0.0040799246783136],\n",
       "       [ 0.0051107325383305,  0.0051107325383305,  0.0085178875638842, ...,\n",
       "         0.0020922690658019,  0.0012030547128361,  0.0003138403598703],\n",
       "       ..., \n",
       "       [ 0.                ,  0.                ,  0.                , ...,\n",
       "         0.                ,  0.                ,  0.                ],\n",
       "       [ 0.                ,  0.                ,  0.                , ...,\n",
       "         0.                ,  0.                ,  0.                ],\n",
       "       [ 0.                ,  0.                ,  0.                , ...,\n",
       "         0.                ,  0.                ,  0.                ]])"
      ]
     },
     "metadata": {},
     "output_type": "display_data"
    },
    {
     "name": "stdout",
     "output_type": "stream",
     "text": [
      "Target Dict(counts of word2word, lem2lem, lem2word, word2lem):\n"
     ]
    },
    {
     "data": {
      "text/plain": [
       "{0: (6, 3, 3, 3),\n",
       " 1: (5, 3, 3, 3),\n",
       " 2: (5, 7, 5, 5),\n",
       " 3: (6, 19, 19, 5),\n",
       " 4: (18, 223, 222, 14),\n",
       " 5: (14, 45, 40, 14),\n",
       " 6: (6, 33, 23, 6),\n",
       " 7: (6, 13, 6, 7)}"
      ]
     },
     "metadata": {},
     "output_type": "display_data"
    }
   ],
   "source": [
    "featureBox = pickle.load(open('outputs/featureSet_10samples_8L_1.p', 'rb'))\n",
    "print('All Pairs:')\n",
    "display(featureBox['all_pairs'])\n",
    "print('Feature Matrix:')\n",
    "display(featureBox['featureMatrix'])\n",
    "print('Target Dict(counts of word2word, lem2lem, lem2word, word2lem):')\n",
    "display(featureBox['targetDict'])"
   ]
  },
  {
   "cell_type": "code",
   "execution_count": 49,
   "metadata": {
    "collapsed": false
   },
   "outputs": [
    {
     "data": {
      "text/plain": [
       "(788992, 2)"
      ]
     },
     "execution_count": 49,
     "metadata": {},
     "output_type": "execute_result"
    }
   ],
   "source": [
    "featureMatrix.shape"
   ]
  },
  {
   "cell_type": "code",
   "execution_count": 16,
   "metadata": {
    "collapsed": false
   },
   "outputs": [],
   "source": [
    "for key, val in all_pairs.items():\n",
    "    all_pairs[key] = (val[0].tup, val[1].tup)"
   ]
  },
  {
   "cell_type": "code",
   "execution_count": 19,
   "metadata": {
    "collapsed": false
   },
   "outputs": [
    {
     "data": {
      "text/plain": [
       "8595.890625"
      ]
     },
     "execution_count": 19,
     "metadata": {},
     "output_type": "execute_result"
    }
   ],
   "source": [
    "featureMatrix.nbytes/(1024*1024)"
   ]
  },
  {
   "cell_type": "code",
   "execution_count": 18,
   "metadata": {
    "collapsed": false
   },
   "outputs": [
    {
     "data": {
      "text/plain": [
       "(788992, 1428)"
      ]
     },
     "execution_count": 18,
     "metadata": {},
     "output_type": "execute_result"
    }
   ],
   "source": [
    "featureMatrix.shape"
   ]
  },
  {
   "cell_type": "code",
   "execution_count": 21,
   "metadata": {
    "collapsed": false
   },
   "outputs": [],
   "source": [
    "\n",
    "pickle.dump({'all_pairs': all_pairs, 'featureMatrix': featureMatrix[:, 400:800], 'targetMatrix': targetMatrix},\\\n",
    "            open('outputs/featureSet_1428p_8L_1.p', 'wb'), protocol = 4)\n",
    "pickle.dump({'all_pairs': all_pairs, 'featureMatrix': featureMatrix[:, 800:], 'targetMatrix': targetMatrix},\\\n",
    "            open('outputs/featureSet_1428p_8L_2.p', 'wb'), protocol = 4)"
   ]
  },
  {
   "cell_type": "code",
   "execution_count": 47,
   "metadata": {
    "collapsed": true
   },
   "outputs": [],
   "source": [
    "varVec = np.zeros((fN, 1))\n",
    "meanVec = np.zeros((fN, 1))"
   ]
  },
  {
   "cell_type": "code",
   "execution_count": 48,
   "metadata": {
    "collapsed": false
   },
   "outputs": [],
   "source": [
    "for fk in range(fN):\n",
    "    varVec[fk] = np.var(featureMatrix[fk, :])\n",
    "    meanVec[fk] = np.mean(featureMatrix[fk, :])"
   ]
  },
  {
   "cell_type": "code",
   "execution_count": 68,
   "metadata": {
    "collapsed": false
   },
   "outputs": [
    {
     "name": "stderr",
     "output_type": "stream",
     "text": [
      "d:\\program files\\anaconda3\\lib\\site-packages\\ipykernel\\__main__.py:1: RuntimeWarning: invalid value encountered in true_divide\n",
      "  if __name__ == '__main__':\n"
     ]
    }
   ],
   "source": [
    "fanoFactors = varVec/meanVec"
   ]
  },
  {
   "cell_type": "code",
   "execution_count": 71,
   "metadata": {
    "collapsed": false
   },
   "outputs": [],
   "source": [
    "fanoFactors = fanoFactors[~np.isnan(fanoFactors)]\n",
    "fanoFactors = fanoFactors[fanoFactors > 0.0025]"
   ]
  },
  {
   "cell_type": "code",
   "execution_count": 72,
   "metadata": {
    "collapsed": false,
    "scrolled": true
   },
   "outputs": [
    {
     "data": {
      "text/plain": [
       "(array([ 10.,   1.,   1.,   2.,   0.,   3.,   2.,   1.,   0.,   1.]),\n",
       " array([ 0.0027130129321566,  0.0049483498450054,  0.0071836867578543,\n",
       "         0.0094190236707031,  0.0116543605835519,  0.0138896974964008,\n",
       "         0.0161250344092496,  0.0183603713220984,  0.0205957082349473,\n",
       "         0.0228310451477961,  0.0250663820606449]),\n",
       " <a list of 10 Patch objects>)"
      ]
     },
     "execution_count": 72,
     "metadata": {},
     "output_type": "execute_result"
    },
    {
     "data": {
      "image/png": "[encoded data removed]",
      "text/plain": [
       "<matplotlib.figure.Figure at 0x17c31c47438>"
      ]
     },
     "metadata": {},
     "output_type": "display_data"
    }
   ],
   "source": [
    "plt.hist(fanoFactors)"
   ]
  },
  {
   "cell_type": "markdown",
   "metadata": {
    "collapsed": false,
    "scrolled": true
   },
   "source": [
    "### Checking Features / Counting features\n",
    "\n",
    "- Selecting Features and reducing size based on unique counts"
   ]
  },
  {
   "cell_type": "code",
   "execution_count": 1,
   "metadata": {
    "collapsed": true
   },
   "outputs": [],
   "source": [
    "import pickle\n",
    "import numpy as np\n",
    "import matplotlib.pyplot as plt\n",
    "import os\n",
    "%matplotlib inline"
   ]
  },
  {
   "cell_type": "code",
   "execution_count": 2,
   "metadata": {
    "collapsed": true
   },
   "outputs": [],
   "source": [
    "np.set_printoptions(suppress=True)"
   ]
  },
  {
   "cell_type": "code",
   "execution_count": 40,
   "metadata": {
    "collapsed": false
   },
   "outputs": [],
   "source": [
    "folder = 'outputs/Features_of_10K_pairs/'\n",
    "feat_fNames = [folder + fName for fName in os.listdir(folder)]"
   ]
  },
  {
   "cell_type": "code",
   "execution_count": 41,
   "metadata": {
    "collapsed": false
   },
   "outputs": [
    {
     "name": "stdout",
     "output_type": "stream",
     "text": [
      "dict_keys(['targetDict', 'all_pairs', 'featureMatrix'])\n",
      "dict_keys(['targetDict', 'all_pairs', 'featureMatrix'])\n",
      "dict_keys(['targetDict', 'all_pairs', 'featureMatrix'])\n"
     ]
    }
   ],
   "source": [
    "feat_unique_counts = np.array([0]*788992)\n",
    "for feat_f in feat_fNames:\n",
    "    %reset_selective -f featureSet\n",
    "    featureSet = pickle.load(open(feat_f, 'rb'), encoding=u'utf8')\n",
    "    print(featureSet.keys())\n",
    "    len(featureSet['all_pairs'])\n",
    "    featureSet['featureMatrix'].shape\n",
    "    feat_unique_counts += np.apply_along_axis(lambda x: np.unique(x).shape[0], 1, featureSet['featureMatrix'])"
   ]
  },
  {
   "cell_type": "code",
   "execution_count": 42,
   "metadata": {
    "collapsed": true
   },
   "outputs": [],
   "source": [
    "feat_unique_counts = np.floor(feat_unique_counts/len(feat_fNames)).astype(np.int32)"
   ]
  },
  {
   "cell_type": "code",
   "execution_count": 43,
   "metadata": {
    "collapsed": false
   },
   "outputs": [
    {
     "name": "stdout",
     "output_type": "stream",
     "text": [
      "[ 536618.   66739.   52135.   34810.   27158.   19792.   17101.   13302.\n",
      "   12554.    6278.    2255.     250.]\n"
     ]
    },
    {
     "data": {
      "image/png": "[encoded data removed]",
      "text/plain": [
       "<matplotlib.figure.Figure at 0x25571a35160>"
      ]
     },
     "metadata": {},
     "output_type": "display_data"
    }
   ],
   "source": [
    "hist_with_binsize = lambda v, binsize: plt.hist(v, bins=range(0, max(v) + binsize, binsize))\n",
    "what1, what2, _ = hist_with_binsize(feat_unique_counts, 43)\n",
    "print(what1)"
   ]
  },
  {
   "cell_type": "code",
   "execution_count": 44,
   "metadata": {
    "collapsed": false
   },
   "outputs": [
    {
     "data": {
      "text/plain": [
       "array([  0,  43,  86, 129, 172, 215, 258, 301, 344, 387, 430, 473, 516])"
      ]
     },
     "execution_count": 44,
     "metadata": {},
     "output_type": "execute_result"
    }
   ],
   "source": [
    "what2"
   ]
  },
  {
   "cell_type": "code",
   "execution_count": 48,
   "metadata": {
    "collapsed": false
   },
   "outputs": [
    {
     "name": "stdout",
     "output_type": "stream",
     "text": [
      "(2505,)\n"
     ]
    }
   ],
   "source": [
    "select_features = np.where(feat_unique_counts >= 430)[0]\n",
    "print(select_features.shape)"
   ]
  },
  {
   "cell_type": "code",
   "execution_count": 39,
   "metadata": {
    "collapsed": false
   },
   "outputs": [],
   "source": [
    "# feat_unique_counts"
   ]
  },
  {
   "cell_type": "code",
   "execution_count": 49,
   "metadata": {
    "collapsed": false
   },
   "outputs": [
    {
     "data": {
      "text/plain": [
       "(788992, 500)"
      ]
     },
     "execution_count": 49,
     "metadata": {},
     "output_type": "execute_result"
    }
   ],
   "source": [
    "featureSet['featureMatrix'].shape"
   ]
  },
  {
   "cell_type": "code",
   "execution_count": 50,
   "metadata": {
    "collapsed": false
   },
   "outputs": [],
   "source": [
    "mat_cngCount_1D = pickle.load(open('../NewData/gauravs/Temporary_1D/mat_cngCount_1D.p', 'rb'), encoding = u'utf-8')"
   ]
  },
  {
   "cell_type": "code",
   "execution_count": 51,
   "metadata": {
    "collapsed": false
   },
   "outputs": [],
   "source": [
    "_full_cnglist = list(mat_cngCount_1D)\n",
    "_cg_count = len(mat_cngCount_1D)"
   ]
  },
  {
   "cell_type": "code",
   "execution_count": 52,
   "metadata": {
    "collapsed": false
   },
   "outputs": [],
   "source": [
    "feats = {}\n",
    "fIndex = 0\n",
    "feats[fIndex] = ('L', 'L'); fIndex += 1;\n",
    "feats[fIndex] = ('L', 'C'); fIndex += 1;\n",
    "feats[fIndex] = ('L', 'T'); fIndex += 1;\n",
    "\n",
    "feats[fIndex] = ('C', 'L'); fIndex += 1;\n",
    "feats[fIndex] = ('C', 'C'); fIndex += 1;\n",
    "feats[fIndex] = ('C', 'T'); fIndex += 1;\n",
    "\n",
    "feats[fIndex] = ('T', 'L'); fIndex += 1;\n",
    "feats[fIndex] = ('T', 'C'); fIndex += 1;\n",
    "feats[fIndex] = ('T', 'T'); fIndex += 1;\n",
    "\n",
    "# Path Constraint - Length 2 - # _cg_count\n",
    "\n",
    "# LEMMA->CNG->LEMMA\n",
    "for k in range(0, _cg_count):\n",
    "    cng_k = _full_cnglist[k]\n",
    "    feats[fIndex + k] = ('lem', cng_k, 'lem')\n",
    "fIndex += _cg_count\n",
    "\n",
    "# LEMMA->CNG->CNG\n",
    "for k in range(0, _cg_count):\n",
    "    cng_k = _full_cnglist[k]\n",
    "    feats[fIndex + k] = ('lem', cng_k, 'cng')\n",
    "fIndex += _cg_count\n",
    "\n",
    "# LEMMA->CNG->TUP\n",
    "for k in range(0, _cg_count):\n",
    "    cng_k = _full_cnglist[k]\n",
    "    feats[fIndex + k] = ('lem', cng_k, 'tup')\n",
    "fIndex += _cg_count\n",
    "\n",
    "# CNG->CNG->LEMMA\n",
    "for k in range(0, _cg_count):\n",
    "    cng_k = _full_cnglist[k]\n",
    "    feats[fIndex + k] = ('cng', cng_k, 'lem')\n",
    "fIndex += _cg_count\n",
    "\n",
    "# CNG->CNG->CNG\n",
    "for k in range(0, _cg_count):\n",
    "    cng_k = _full_cnglist[k]\n",
    "    feats[fIndex + k] = ('cng', cng_k, 'cng')\n",
    "fIndex += _cg_count\n",
    "\n",
    "# CNG->CNG->TUP\n",
    "for k in range(0, _cg_count):\n",
    "    cng_k = _full_cnglist[k]\n",
    "    feats[fIndex + k] = ('cng', cng_k, 'tup')\n",
    "fIndex += _cg_count\n",
    "\n",
    "# TUP->CNG->LEMMA :: TOO MANY ZEROS\n",
    "for k in range(0, _cg_count):\n",
    "    cng_k = _full_cnglist[k]\n",
    "    feats[fIndex + k] = ('tup', cng_k, 'lem')\n",
    "fIndex += _cg_count\n",
    "\n",
    "# TUP->CNG->CNG :: TOO MANY ZEROS\n",
    "for k in range(0, _cg_count):\n",
    "    cng_k = _full_cnglist[k]\n",
    "    feats[fIndex + k] = ('tup', cng_k, 'cng')\n",
    "fIndex += _cg_count\n",
    "\n",
    "# TUP->CNG->TUP :: TOO MANY ZEROS\n",
    "for k in range(0, _cg_count):\n",
    "    cng_k = _full_cnglist[k]\n",
    "    feats[fIndex + k] = ('tup', cng_k, 'tup')\n",
    "fIndex += _cg_count\n",
    "\n",
    "# Path Constraint - Length 3 - # _cg_count^2\n",
    "\n",
    "# LEMMA->CGS->CGS->LEMMA\n",
    "for k1 in range(0, _cg_count):\n",
    "    cng_k1 = _full_cnglist[k1]\n",
    "    for k2 in range(0, _cg_count): \n",
    "        cng_k2 = _full_cnglist[k2]\n",
    "        feats[fIndex + k1*_cg_count + k2] = ('L', cng_k1, cng_k2, 'L')\n",
    "fIndex += _cg_count**2\n",
    "\n",
    "# LEMMA->CGS->CGS->TUP\n",
    "for k1 in range(0, _cg_count):\n",
    "    cng_k1 = _full_cnglist[k1]\n",
    "    for k2 in range(0, _cg_count): \n",
    "        cng_k2 = _full_cnglist[k2]\n",
    "        feats[fIndex + k1*_cg_count + k2] = ('L', cng_k1, cng_k2, 'T')\n",
    "fIndex += _cg_count**2\n",
    "\n",
    "# TUP->CGS->CGS->LEM\n",
    "for k1 in range(0, _cg_count):\n",
    "    cng_k1 = _full_cnglist[k1]\n",
    "    for k2 in range(0, _cg_count): \n",
    "        cng_k2 = _full_cnglist[k2]\n",
    "        feats[fIndex + k1*_cg_count + k2] = ('T', cng_k1, cng_k2, 'L')\n",
    "fIndex += _cg_count**2\n",
    "\n",
    "# TUP->CGS->CGS->TUP\n",
    "for k1 in range(0, _cg_count):\n",
    "    cng_k1 = _full_cnglist[k1]\n",
    "    for k2 in range(0, _cg_count): \n",
    "        cng_k2 = _full_cnglist[k2]\n",
    "        feats[fIndex + k1*_cg_count + k2] = ('T', cng_k1, cng_k2, 'T')\n",
    "fIndex += _cg_count**2"
   ]
  },
  {
   "cell_type": "code",
   "execution_count": 53,
   "metadata": {
    "collapsed": false
   },
   "outputs": [],
   "source": [
    "for key in list(feats.keys()):\n",
    "    if key not in select_features:\n",
    "        feats.pop(key)"
   ]
  },
  {
   "cell_type": "code",
   "execution_count": 26,
   "metadata": {
    "collapsed": false
   },
   "outputs": [],
   "source": [
    "# select_feat_names"
   ]
  },
  {
   "cell_type": "code",
   "execution_count": 54,
   "metadata": {
    "collapsed": false,
    "scrolled": true
   },
   "outputs": [],
   "source": [
    "pickle.dump(feats, open('outputs/selected_feats.p', 'wb'))"
   ]
  },
  {
   "cell_type": "code",
   "execution_count": 55,
   "metadata": {
    "collapsed": false
   },
   "outputs": [],
   "source": [
    "folder = 'outputs/Features_of_10K_pairs/'\n",
    "feat_fNames = os.listdir(folder)\n",
    "\n",
    "feat_unique_counts = np.array([0]*788992)\n",
    "for feat_f in feat_fNames:\n",
    "    %reset_selective -f featureSet\n",
    "    featureSet = pickle.load(open(folder + feat_f, 'rb'), encoding=u'utf8')\n",
    "    featureSet['featureMatrix'] = featureSet['featureMatrix'][select_features, :] \n",
    "    pickle.dump(featureSet, open('outputs/Features_of_10K_reduced/' + feat_f, 'wb') )"
   ]
  },
  {
   "cell_type": "markdown",
   "metadata": {},
   "source": [
    "### Further reduce size of feature vectors\n",
    "\n",
    "- Use the earlier created reduced set feature vectors"
   ]
  },
  {
   "cell_type": "markdown",
   "metadata": {},
   "source": [
    "#### Put together the feature matrices into single file"
   ]
  },
  {
   "cell_type": "code",
   "execution_count": 56,
   "metadata": {
    "collapsed": true
   },
   "outputs": [],
   "source": [
    "import pickle\n",
    "import numpy as np\n",
    "import matplotlib.pyplot as plt\n",
    "import os\n",
    "import re\n",
    "%matplotlib inline"
   ]
  },
  {
   "cell_type": "code",
   "execution_count": 64,
   "metadata": {
    "collapsed": false
   },
   "outputs": [
    {
     "name": "stdout",
     "output_type": "stream",
     "text": [
      "['featureSet_500samples_8L_0.p', 'featureSet_500samples_8L_1.p', 'featureSet_500samples_8L_10.p', 'featureSet_500samples_8L_11.p', 'featureSet_500samples_8L_12.p', 'featureSet_500samples_8L_13.p', 'featureSet_500samples_8L_14.p', 'featureSet_500samples_8L_15.p', 'featureSet_500samples_8L_16.p', 'featureSet_500samples_8L_17.p', 'featureSet_500samples_8L_18.p', 'featureSet_500samples_8L_19.p', 'featureSet_500samples_8L_2.p', 'featureSet_500samples_8L_3.p', 'featureSet_500samples_8L_4.p', 'featureSet_500samples_8L_5.p', 'featureSet_500samples_8L_6.p', 'featureSet_500samples_8L_7.p', 'featureSet_500samples_8L_8.p', 'featureSet_500samples_8L_9.p']\n"
     ]
    }
   ],
   "source": [
    "folder = 'outputs/Features_of_10K_reduced/'\n",
    "feat_fNames = os.listdir(folder)\n",
    "print(feat_fNames)"
   ]
  },
  {
   "cell_type": "code",
   "execution_count": 58,
   "metadata": {
    "collapsed": false
   },
   "outputs": [
    {
     "name": "stdout",
     "output_type": "stream",
     "text": [
      "2505\n"
     ]
    }
   ],
   "source": [
    "select_feat_names = pickle.load(open('outputs/selected_feats.p', 'rb'))\n",
    "print(len(select_feat_names.keys()))"
   ]
  },
  {
   "cell_type": "code",
   "execution_count": 59,
   "metadata": {
    "collapsed": false
   },
   "outputs": [],
   "source": [
    "featureMatrix = np.ndarray((20*500, len(select_feat_names)))\n",
    "targetDict = np.ndarray((20*500, 4))\n",
    "all_pairs = []"
   ]
  },
  {
   "cell_type": "code",
   "execution_count": 63,
   "metadata": {
    "collapsed": false
   },
   "outputs": [
    {
     "name": "stdout",
     "output_type": "stream",
     "text": [
      "(2505, 500)\n",
      "(2505, 500)\n",
      "(2066, 500)\n"
     ]
    },
    {
     "ename": "ValueError",
     "evalue": "could not broadcast input array from shape (500,2066) into shape (500,2505)",
     "output_type": "error",
     "traceback": [
      "\u001b[0;31m---------------------------------------------------------------------------\u001b[0m",
      "\u001b[0;31mValueError\u001b[0m                                Traceback (most recent call last)",
      "\u001b[0;32m<ipython-input-63-3de2580cd7bb>\u001b[0m in \u001b[0;36m<module>\u001b[0;34m()\u001b[0m\n\u001b[1;32m      4\u001b[0m     \u001b[0mfeatureSet\u001b[0m \u001b[1;33m=\u001b[0m \u001b[0mpickle\u001b[0m\u001b[1;33m.\u001b[0m\u001b[0mload\u001b[0m\u001b[1;33m(\u001b[0m\u001b[0mopen\u001b[0m\u001b[1;33m(\u001b[0m\u001b[0mfolder\u001b[0m \u001b[1;33m+\u001b[0m \u001b[0mfeat_f\u001b[0m\u001b[1;33m,\u001b[0m \u001b[1;34m'rb'\u001b[0m\u001b[1;33m)\u001b[0m\u001b[1;33m,\u001b[0m \u001b[0mencoding\u001b[0m\u001b[1;33m=\u001b[0m\u001b[1;34mu'utf8'\u001b[0m\u001b[1;33m)\u001b[0m\u001b[1;33m\u001b[0m\u001b[0m\n\u001b[1;32m      5\u001b[0m     \u001b[0mprint\u001b[0m\u001b[1;33m(\u001b[0m\u001b[0mfeatureSet\u001b[0m\u001b[1;33m[\u001b[0m\u001b[1;34m'featureMatrix'\u001b[0m\u001b[1;33m]\u001b[0m\u001b[1;33m.\u001b[0m\u001b[0mshape\u001b[0m\u001b[1;33m)\u001b[0m\u001b[1;33m\u001b[0m\u001b[0m\n\u001b[0;32m----> 6\u001b[0;31m     \u001b[0mfeatureMatrix\u001b[0m\u001b[1;33m[\u001b[0m\u001b[0mstart_i\u001b[0m\u001b[1;33m:\u001b[0m\u001b[1;33m(\u001b[0m\u001b[0mstart_i\u001b[0m \u001b[1;33m+\u001b[0m \u001b[0mfeatureSet\u001b[0m\u001b[1;33m[\u001b[0m\u001b[1;34m'featureMatrix'\u001b[0m\u001b[1;33m]\u001b[0m\u001b[1;33m.\u001b[0m\u001b[0mshape\u001b[0m\u001b[1;33m[\u001b[0m\u001b[1;36m1\u001b[0m\u001b[1;33m]\u001b[0m\u001b[1;33m)\u001b[0m\u001b[1;33m,\u001b[0m \u001b[1;33m:\u001b[0m\u001b[1;33m]\u001b[0m \u001b[1;33m=\u001b[0m \u001b[0mfeatureSet\u001b[0m\u001b[1;33m[\u001b[0m\u001b[1;34m'featureMatrix'\u001b[0m\u001b[1;33m]\u001b[0m\u001b[1;33m.\u001b[0m\u001b[0mtranspose\u001b[0m\u001b[1;33m(\u001b[0m\u001b[1;33m)\u001b[0m\u001b[1;33m\u001b[0m\u001b[0m\n\u001b[0m\u001b[1;32m      7\u001b[0m     \u001b[1;32mfor\u001b[0m \u001b[0mk\u001b[0m \u001b[1;32min\u001b[0m \u001b[0mfeatureSet\u001b[0m\u001b[1;33m[\u001b[0m\u001b[1;34m'targetDict'\u001b[0m\u001b[1;33m]\u001b[0m\u001b[1;33m.\u001b[0m\u001b[0mkeys\u001b[0m\u001b[1;33m(\u001b[0m\u001b[1;33m)\u001b[0m\u001b[1;33m:\u001b[0m\u001b[1;33m\u001b[0m\u001b[0m\n\u001b[1;32m      8\u001b[0m         \u001b[0mtargetDict\u001b[0m\u001b[1;33m[\u001b[0m\u001b[0mstart_i\u001b[0m \u001b[1;33m+\u001b[0m \u001b[0mk\u001b[0m\u001b[1;33m,\u001b[0m \u001b[1;33m:\u001b[0m\u001b[1;33m]\u001b[0m \u001b[1;33m=\u001b[0m \u001b[0mfeatureSet\u001b[0m\u001b[1;33m[\u001b[0m\u001b[1;34m'targetDict'\u001b[0m\u001b[1;33m]\u001b[0m\u001b[1;33m[\u001b[0m\u001b[0mk\u001b[0m\u001b[1;33m]\u001b[0m\u001b[1;33m\u001b[0m\u001b[0m\n",
      "\u001b[0;31mValueError\u001b[0m: could not broadcast input array from shape (500,2066) into shape (500,2505)"
     ]
    }
   ],
   "source": [
    "start_i = 0\n",
    "for feat_f in feat_fNames:\n",
    "    %reset_selective -f featureSet\n",
    "    featureSet = pickle.load(open(folder + feat_f, 'rb'), encoding=u'utf8')\n",
    "    print(featureSet['featureMatrix'].shape)\n",
    "    featureMatrix[start_i:(start_i + featureSet['featureMatrix'].shape[1]), :] = featureSet['featureMatrix'].transpose()    \n",
    "    for k in featureSet['targetDict'].keys():\n",
    "        targetDict[start_i + k, :] = featureSet['targetDict'][k]\n",
    "    \n",
    "    start_i += featureSet['featureMatrix'].shape[1]\n",
    "    all_pairs.extend(featureSet['all_pairs'])\n",
    "    "
   ]
  },
  {
   "cell_type": "code",
   "execution_count": 6,
   "metadata": {
    "collapsed": false
   },
   "outputs": [
    {
     "data": {
      "text/plain": [
       "(10000, 2066)"
      ]
     },
     "execution_count": 6,
     "metadata": {},
     "output_type": "execute_result"
    }
   ],
   "source": [
    "featureMatrix.shape"
   ]
  },
  {
   "cell_type": "markdown",
   "metadata": {},
   "source": [
    "#### Feature selection using sklearn.feature_selection package"
   ]
  },
  {
   "cell_type": "code",
   "execution_count": 7,
   "metadata": {
    "collapsed": true
   },
   "outputs": [],
   "source": [
    "from sklearn.feature_selection import SelectKBest\n",
    "from sklearn.feature_selection import mutual_info_regression"
   ]
  },
  {
   "cell_type": "code",
   "execution_count": 152,
   "metadata": {
    "collapsed": false
   },
   "outputs": [],
   "source": [
    "# manual testing of feature selection\n",
    "# featureMatrix = np.random.random_integers(0, 10, (4000, 3))\n",
    "# targetDict = np.ndarray((4, 4))\n",
    "# targetDict = featureMatrix[:, 1] - 2*np.power(featureMatrix[:, 2], 2)"
   ]
  },
  {
   "cell_type": "code",
   "execution_count": 228,
   "metadata": {
    "collapsed": false
   },
   "outputs": [],
   "source": [
    "# Used mutual_info_regression for selecting features as it can capture non-linear relationships also\n",
    "select_feats = SelectKBest(mutual_info_regression, k = 10).fit_transform(featureMatrix, targetDict[:, 0])"
   ]
  },
  {
   "cell_type": "code",
   "execution_count": 229,
   "metadata": {
    "collapsed": false
   },
   "outputs": [
    {
     "data": {
      "text/plain": [
       "array([[  2.54617137e-07,   7.11068157e-07,   1.17670091e-07, ...,\n",
       "          4.41429280e-07,   6.45403096e-09,   1.66537250e-08],\n",
       "       [  5.91075496e-06,   1.76107880e-05,   2.73162712e-06, ...,\n",
       "          1.51034481e-06,   1.49825719e-07,   3.86604329e-07],\n",
       "       [  5.00031683e-04,   1.60552079e-03,   2.31087249e-04, ...,\n",
       "          1.94746924e-04,   1.26747948e-05,   3.27055367e-05],\n",
       "       ..., \n",
       "       [  0.00000000e+00,   0.00000000e+00,   0.00000000e+00, ...,\n",
       "          0.00000000e+00,   0.00000000e+00,   0.00000000e+00],\n",
       "       [  0.00000000e+00,   0.00000000e+00,   0.00000000e+00, ...,\n",
       "          0.00000000e+00,   0.00000000e+00,   0.00000000e+00],\n",
       "       [  0.00000000e+00,   0.00000000e+00,   0.00000000e+00, ...,\n",
       "          0.00000000e+00,   0.00000000e+00,   0.00000000e+00]])"
      ]
     },
     "execution_count": 229,
     "metadata": {},
     "output_type": "execute_result"
    }
   ],
   "source": [
    "select_feats"
   ]
  },
  {
   "cell_type": "markdown",
   "metadata": {},
   "source": [
    "#### Choose top 400 features based on Mutual Information between 8L features and each of the target variables"
   ]
  },
  {
   "cell_type": "code",
   "execution_count": 14,
   "metadata": {
    "collapsed": false
   },
   "outputs": [],
   "source": [
    "from sklearn.ensemble import RandomForestRegressor\n",
    "from sklearn.cross_validation import cross_val_score\n",
    "import pandas as pd"
   ]
  },
  {
   "cell_type": "code",
   "execution_count": null,
   "metadata": {
    "collapsed": true
   },
   "outputs": [],
   "source": [
    "# estimator = RandomForestRegressor(random_state=0, n_estimators=20)"
   ]
  },
  {
   "cell_type": "code",
   "execution_count": 10,
   "metadata": {
    "collapsed": false
   },
   "outputs": [],
   "source": [
    "# Get Mutual information of the feature matrix with each of target values individually\n",
    "# Then take top 100 features from each individual MI- estimator\n",
    "mi_with_t2t = mutual_info_regression(featureMatrix, targetDict[:, 0])\n",
    "mi_with_l2l = mutual_info_regression(featureMatrix, targetDict[:, 1])\n",
    "mi_with_l2t = mutual_info_regression(featureMatrix, targetDict[:, 2])\n",
    "mi_with_t2l = mutual_info_regression(featureMatrix, targetDict[:, 3])"
   ]
  },
  {
   "cell_type": "code",
   "execution_count": 17,
   "metadata": {
    "collapsed": false
   },
   "outputs": [
    {
     "ename": "AttributeError",
     "evalue": "'dict' object has no attribute 'close'",
     "output_type": "error",
     "traceback": [
      "\u001b[0;31m---------------------------------------------------------------------------\u001b[0m",
      "\u001b[0;31mAttributeError\u001b[0m                            Traceback (most recent call last)",
      "\u001b[0;32m<ipython-input-17-f520f0359f48>\u001b[0m in \u001b[0;36m<module>\u001b[0;34m()\u001b[0m\n\u001b[1;32m      6\u001b[0m \u001b[1;31m# backup['mi_with_t2l'] = mi_with_t2l\u001b[0m\u001b[1;33m\u001b[0m\u001b[1;33m\u001b[0m\u001b[0m\n\u001b[1;32m      7\u001b[0m \u001b[1;31m# pickle.dump(backup, open('outputs/mi_backup.p', 'wb'))\u001b[0m\u001b[1;33m\u001b[0m\u001b[1;33m\u001b[0m\u001b[0m\n\u001b[0;32m----> 8\u001b[0;31m \u001b[0mbackup\u001b[0m\u001b[1;33m.\u001b[0m\u001b[0mclose\u001b[0m\u001b[1;33m(\u001b[0m\u001b[1;33m)\u001b[0m\u001b[1;33m\u001b[0m\u001b[0m\n\u001b[0m",
      "\u001b[0;31mAttributeError\u001b[0m: 'dict' object has no attribute 'close'"
     ]
    }
   ],
   "source": [
    "# Save the goddamn MI results\n",
    "# backup = {}\n",
    "# backup['mi_with_t2t'] = mi_with_t2t\n",
    "# backup['mi_with_l2l'] = mi_with_l2l\n",
    "# backup['mi_with_l2t'] = mi_with_l2t\n",
    "# backup['mi_with_t2l'] = mi_with_t2l\n",
    "# pickle.dump(backup, open('outputs/mi_backup.p', 'wb'))"
   ]
  },
  {
   "cell_type": "code",
   "execution_count": 18,
   "metadata": {
    "collapsed": false
   },
   "outputs": [
    {
     "name": "stdout",
     "output_type": "stream",
     "text": [
      "Range: 0.03492575930544639->0.10393728375766376\n",
      "Range: 0.07728130465388539->1.1413320587224174\n",
      "Range: 0.13472137926405647->0.3893874906056336\n",
      "Range: 0.08366905158374571->1.0214233508646107\n"
     ]
    }
   ],
   "source": [
    "# Print Range of Mutual Information\n",
    "print_range = lambda x: print('Range: {}->{}'.format(np.min(x), np.max(x)))\n",
    "print_range(mi_with_t2t)\n",
    "print_range(mi_with_l2l)\n",
    "print_range(mi_with_l2t)\n",
    "print_range(mi_with_t2l)"
   ]
  },
  {
   "cell_type": "code",
   "execution_count": 24,
   "metadata": {
    "collapsed": false
   },
   "outputs": [
    {
     "name": "stdout",
     "output_type": "stream",
     "text": [
      "(400,)\n"
     ]
    }
   ],
   "source": [
    "# Choose top 100 from each MI - top_400_local\"local index\"\n",
    "top_100_t2t = np.argsort(mi_with_t2t)[-116:]\n",
    "print(mi_with_t2t[top_100_t2t])\n",
    "top_100_l2l = np.argsort(mi_with_l2l)[-116:]\n",
    "top_100_l2t = np.argsort(mi_with_l2t)[-114:]\n",
    "top_100_t2l = np.argsort(mi_with_t2l)[-116:]\n",
    "\n",
    "top_400_local = np.concatenate([top_100_t2t, top_100_l2l, top_100_l2t, top_100_t2l])\n",
    "top_400_local = np.unique(top_400_local)\n",
    "print(top_400_local.shape)\n",
    "# print(top_400)"
   ]
  },
  {
   "cell_type": "code",
   "execution_count": 25,
   "metadata": {
    "collapsed": false
   },
   "outputs": [],
   "source": [
    "# Convert top_400_local\"local index\" to \"Actual feature index\" :: This will only hold for 8L setup\n",
    "sevenL_keys_ordered = sorted(select_feat_names.keys())\n",
    "top_400_global = []\n",
    "for i in top_400_local:\n",
    "    top_400_global.append(sevenL_keys_ordered[i])\n",
    "# print(top_400_global)\n",
    "\n",
    "with open('outputs/top_400_featureCode.txt', 'w') as f_handle:\n",
    "    for i in top_400_global:\n",
    "#         print(i, ': ', select_feat_names[i])\n",
    "        if len(select_feat_names[i]) == 3:\n",
    "            left = select_feat_names[i][0]\n",
    "            center = select_feat_names[i][1]\n",
    "            right = select_feat_names[i][2]\n",
    "            left = left.replace('lem', 'L')\n",
    "            left = left.replace('cng', 'C')\n",
    "            left = left.replace('tup', 'T')\n",
    "\n",
    "            right = right.replace('lem', 'L')\n",
    "            right = right.replace('cng', 'C')\n",
    "            right = right.replace('tup', 'T')\n",
    "            f_handle.write('{},{},{}\\n'.format(left, center, right))\n",
    "        else:\n",
    "            f_handle.write('{},{},{},{}\\n'.format(select_feat_names[i][0],\n",
    "                                               select_feat_names[i][1],\n",
    "                                               select_feat_names[i][2],\n",
    "                                               select_feat_names[i][3],\n",
    "                                              ))"
   ]
  },
  {
   "cell_type": "markdown",
   "metadata": {},
   "source": [
    "#### Generate Hard-Code for 'GetFeature()' function"
   ]
  },
  {
   "cell_type": "code",
   "execution_count": 26,
   "metadata": {
    "collapsed": true
   },
   "outputs": [],
   "source": [
    "import re"
   ]
  },
  {
   "cell_type": "code",
   "execution_count": 58,
   "metadata": {
    "collapsed": false
   },
   "outputs": [],
   "source": [
    "with open('outputs/top_400_featureCode.txt') as f_handle:\n",
    "    gen_code_handle = open('GetFeatures_gen.py', 'w')\n",
    "    gen_code_handle.write('''\n",
    "def Get_Features(node1, node2):\n",
    "    feats = np.zeros((_edge_vector_dim, 1))\n",
    "    fIndex = 0\n",
    "    ''')\n",
    "    for line in f_handle:\n",
    "        line = line.strip()\n",
    "        opts = re.split(',', line)\n",
    "        converter = {\n",
    "            'L': 'lemma',\n",
    "            'C': 'cng',\n",
    "            'T': 'tup'\n",
    "        }\n",
    "        left_mats = {\n",
    "            'L': 'mat_lem2cng_countonly',\n",
    "            'C': 'mat_cng2cng_countonly',\n",
    "            'T': 'mat_tup2cng_countonly'\n",
    "        }\n",
    "        right_mats = {\n",
    "            'L': 'mat_cng2lem_countonly',\n",
    "            'C': 'mat_cng2cng_countonly',\n",
    "            'T': 'mat_cng2tup_countonly'\n",
    "        }\n",
    "        left_1D = {\n",
    "            'L': 'mat_lemCount_1D',\n",
    "            'C': 'mat_cngCount_1D',\n",
    "            'T': 'mat_tupCount_1D'\n",
    "        }\n",
    "        if len(opts) == 3:\n",
    "            left = opts[0]\n",
    "            right = opts[2]\n",
    "            gen_code_handle.write('''\n",
    "    # {}->{}->{}\n",
    "    pleft = tryProb_catchZero({}, {}, node1.{}, \\'{}\\')\n",
    "    pright = tryProb_catchZero({}, mat_cngCount_1D, \\'{}\\', node2.{})\n",
    "    feats[fIndex] = pleft * pright; fIndex += 1\n",
    "            '''.format(opts[0], opts[1], opts[2], left_mats[left], left_1D[left], converter[left], opts[1],\n",
    "                      right_mats[right], opts[1], converter[right]))\n",
    "        elif len(opts) == 4:\n",
    "            left = opts[0]\n",
    "            right = opts[3]\n",
    "            cng_1 = opts[1]\n",
    "            cng_2 = opts[2]\n",
    "            gen_code_handle.write('''\n",
    "    # {} -> {} -> {} -> {}\n",
    "    pleft = tryProb_catchZero({}, {}, node1.{}, \\'{}\\')\n",
    "    pmid = tryProb_catchZero(mat_cng2cng_countonly, mat_cngCount_1D, \\'{}\\', \\'{}\\')\n",
    "    pright = tryProb_catchZero({}, mat_cngCount_1D, \\'{}\\', node2.{})\n",
    "    feats[fIndex] = pleft * pmid * pright; fIndex += 1\n",
    "    '''.format(opts[0], opts[1], opts[2], opts[3], left_mats[left], left_1D[left], converter[left], cng_1,\n",
    "                       cng_1, cng_2,\n",
    "                       right_mats[right], cng_2, converter[right]))\n",
    "    gen_code_handle.write('''\n",
    "    feats[feats < 1e-25] = 1e-25\n",
    "    return -np.log10(feats)\n",
    "    ''')\n",
    "    gen_code_handle.close()"
   ]
  },
  {
   "cell_type": "code",
   "execution_count": null,
   "metadata": {
    "collapsed": false
   },
   "outputs": [],
   "source": []
  }
 ],
 "metadata": {
  "anaconda-cloud": {},
  "kernelspec": {
   "display_name": "Python [default]",
   "language": "python",
   "name": "python3"
  },
  "language_info": {
   "codemirror_mode": {
    "name": "ipython",
    "version": 3
   },
   "file_extension": ".py",
   "mimetype": "text/x-python",
   "name": "python",
   "nbconvert_exporter": "python",
   "pygments_lexer": "ipython3",
   "version": "3.5.2"
  }
 },
 "nbformat": 4,
 "nbformat_minor": 1
}
