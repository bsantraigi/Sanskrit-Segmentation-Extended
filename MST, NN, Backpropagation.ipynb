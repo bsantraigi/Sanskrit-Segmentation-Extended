{
 "cells": [
  {
   "cell_type": "markdown",
   "metadata": {},
   "source": [
    "# # MST"
   ]
  },
  {
   "cell_type": "markdown",
   "metadata": {},
   "source": [
    "### # Graph and Other Data Structures\n",
    "\n",
    "- load skt - DONE\n",
    "- load dcs - DONE\n",
    "\n",
    "\n",
    "- create the full graph - sktwseg_utf8 - DONE\n",
    "- Nodelist - DONE\n",
    "- Features-Adjacency Matrix - DONE\n",
    "- Weight-Adjacency Matrix - DONE\n",
    "- Conflict Matrix - or - dictionary (since it's sparse) - DONE\n",
    "\n",
    "\n",
    "- new paths base on cng probability - DONE\n"
   ]
  },
  {
   "cell_type": "code",
   "execution_count": 3,
   "metadata": {
    "collapsed": true
   },
   "outputs": [],
   "source": [
    "%load_ext autoreload\n",
    "%autoreload 2"
   ]
  },
  {
   "cell_type": "code",
   "execution_count": 4,
   "metadata": {
    "collapsed": true
   },
   "outputs": [],
   "source": [
    "## bUILT-iN pACKAGES\n",
    "import pickle\n",
    "from collections import defaultdict\n",
    "import json\n",
    "import numpy as np\n",
    "import math\n",
    "\n",
    "## lAST sUMMER\n",
    "from romtoslp import *\n",
    "from sentences import *\n",
    "from DCS import *\n",
    "\n",
    "## lAST yEAR\n",
    "from word_definite import *\n",
    "from nnet import *\n",
    "from heap_n_PrimMST import *\n",
    "from word_definite import *"
   ]
  },
  {
   "cell_type": "code",
   "execution_count": 10,
   "metadata": {
    "collapsed": true
   },
   "outputs": [],
   "source": [
    "def organize_mst_nodes(mst_nodes):\n",
    "    sol_lemmas = []\n",
    "    sol_cngs = []\n",
    "    print()\n",
    "    total_tree_weight = 0\n",
    "    for key, val in mst_nodes.items():\n",
    "        print('{', end = '')\n",
    "        for node in val:\n",
    "            print(node.lemma, (node.cng, node.derived, node.src,), end = ', ')\n",
    "            if node.src != -1:\n",
    "                total_tree_weight += WScalarMat[node.src][node.id]\n",
    "        print('};', end = ' ')\n",
    "    print()\n",
    "    print('Weight of the spanning tree: ', total_tree_weight)"
   ]
  },
  {
   "cell_type": "code",
   "execution_count": null,
   "metadata": {
    "collapsed": true
   },
   "outputs": [],
   "source": [
    "loaded_SKT = pickle.load(open('../Simultaneous_CompatSKT_10K.p', 'rb'))\n",
    "loaded_DCS = pickle.load(open('../Simultaneous_DCS_10K.p', 'rb'))"
   ]
  },
  {
   "cell_type": "code",
   "execution_count": 26,
   "metadata": {
    "collapsed": false
   },
   "outputs": [],
   "source": [
    "from Train_n_Save_NNet import *"
   ]
  },
  {
   "cell_type": "code",
   "execution_count": 34,
   "metadata": {
    "collapsed": false,
    "scrolled": true
   },
   "outputs": [
    {
     "name": "stdout",
     "output_type": "stream",
     "text": [
      "ITERATION OUT 0\n",
      "Permutation:  [5883 6588  715  762 2546 8640 6788 6584 5673 3640 6041 7259 4217 7829 6520\n",
      " 7688 7517 2746 8934 4873 8481  944 6586 5742 2499 8845 7561 6857 5042 9231\n",
      " 7325 7162 6613 9552  106 7807 6972 1932 2048 4841 3311 7649 3950 5914  127\n",
      " 8863 4202 8226 1605 5743 7099 7174 2296 4537  460 1344 1515 5936 5635 5907\n",
      " 7456 6019 7045 7823 4593 7744 8439  639 4669   67 8638 8678 6987 4312 2743\n",
      " 1988 2089 6650 6296 6005 4475 2019 2452 1004 4967 4533 3375 8443 5870 7670\n",
      " 4934 7539 7208 7749 5021 5310 7977  274 5483 6204]\n",
      "ITERATION IN 0\n",
      "..............................\n",
      "FileKey: 150302, Loss: -2.239, Original MSTScore:  5.994\n",
      "...............................\n",
      "FileKey: 166410, Loss:  0.447, Original MSTScore:  7.645\n",
      ".....................\n",
      "FileKey: 28616, Loss: -1.073, Original MSTScore:  4.769\n",
      "...........................\n",
      "FileKey: 431352, Loss:  3.187, Original MSTScore: 10.632\n",
      ".................................\n",
      "FileKey: 9002, Loss: -0.258, Original MSTScore:  8.572\n",
      "............................................\n",
      "FileKey: 272399, Loss: -0.631, Original MSTScore:  5.534\n",
      ".................................\n",
      "FileKey: 298554, Loss: -8.443, Original MSTScore:  8.173\n",
      "...........................\n",
      "FileKey: 142237, Loss: -1.836, Original MSTScore: 10.700\n",
      ".................................\n",
      "FileKey: 22661, Loss:  0.947, Original MSTScore: 29.902\n",
      "...................\n",
      "FileKey: 313388, Loss:  7.104, Original MSTScore: 14.419\n",
      ".....................................\n",
      "FileKey: 321443, Loss: 12.205, Original MSTScore: 19.259\n",
      "............................................\n",
      "FileKey: 142917, Loss:  7.154, Original MSTScore: 16.151\n",
      "...........................................\n",
      "FileKey: 174553, Loss: -1.332, Original MSTScore:  7.323\n",
      "................................................................................\n",
      "FileKey: 14591, Loss: -3.692, Original MSTScore: 12.745\n",
      "...................\n",
      "FileKey: 230767, Loss: -0.951, Original MSTScore:  6.881\n",
      "....................................................\n",
      "FileKey: 131913, Loss:  2.268, Original MSTScore: 11.501\n",
      ".....\n",
      "FileKey: 23237, Loss:  0.146, Original MSTScore:  4.969\n",
      "......................\n",
      "FileKey: 191434, Loss:  3.042, Original MSTScore: 10.234\n",
      ".............................\n",
      "FileKey: 239846, Loss: -1.515, Original MSTScore:  5.959\n",
      ".......................................................\n",
      "FileKey: 396180, Loss:  1.752, Original MSTScore: 12.061\n",
      "...........................\n",
      "FileKey: 225579, Loss:  0.363, Original MSTScore:  6.734\n",
      ".......\n",
      "FileKey: 417956, Loss:  0.131, Original MSTScore:  2.153\n",
      "..............................\n",
      "FileKey: 248202, Loss:  3.623, Original MSTScore: 11.511\n",
      "..............................................................\n",
      "FileKey: 30664, Loss:  6.429, Original MSTScore: 15.481\n",
      "......................\n",
      "FileKey: 426549, Loss: 11.126, Original MSTScore: 19.080\n",
      "....................................\n",
      "FileKey: 297340, Loss: -2.108, Original MSTScore:  6.241\n",
      ".................................................\n",
      "FileKey: 17092, Loss: -0.647, Original MSTScore:  6.775\n",
      "........................\n",
      "FileKey: 5109, Loss: -2.670, Original MSTScore:  3.074\n",
      "............\n",
      "FileKey: 52245, Loss:  0.202, Original MSTScore:  5.805\n",
      "............................\n",
      "FileKey: 419375, Loss:  0.680, Original MSTScore:  9.680\n",
      "............................\n",
      "FileKey: 11383, Loss: -0.942, Original MSTScore:  5.796\n",
      "................\n",
      "FileKey: 60521, Loss: -0.393, Original MSTScore:  5.732\n",
      "........................................\n",
      "FileKey: 292926, Loss:  6.997, Original MSTScore: 15.572\n",
      "...............\n",
      "FileKey: 66244, Loss:  0.884, Original MSTScore:  8.190\n",
      "........................\n",
      "FileKey: 78988, Loss: -1.346, Original MSTScore:  1.071\n",
      "....................................................\n",
      "FileKey: 320870, Loss: -3.708, Original MSTScore: 10.731\n",
      "...............................................\n",
      "FileKey: 428611, Loss:  3.153, Original MSTScore: 12.898\n",
      "................................\n",
      "FileKey: 147497, Loss: -0.258, Original MSTScore:  6.742\n",
      ".............................\n",
      "FileKey: 412595, Loss:  7.968, Original MSTScore: 16.593\n",
      ".......................................................................................\n",
      "FileKey: 130438, Loss: -5.309, Original MSTScore:  5.347\n",
      "............................\n",
      "FileKey: 282181, Loss:  1.201, Original MSTScore:  9.393\n",
      "............\n",
      "FileKey: 52282, Loss: -0.088, Original MSTScore:  5.517\n",
      "................\n",
      "FileKey: 147339, Loss: -1.799, Original MSTScore:  5.212\n",
      ".........................................\n",
      "FileKey: 33423, Loss: 13.953, Original MSTScore: 24.440\n",
      ".................\n",
      "FileKey: 151825, Loss: -0.620, Original MSTScore:  6.629\n",
      "......................................\n",
      "FileKey: 427583, Loss: -0.405, Original MSTScore:  7.078\n",
      ".................................................\n",
      "FileKey: 40352, Loss: -10.681, Original MSTScore: 15.587\n",
      "................................................\n",
      "FileKey: 25860, Loss:  7.957, Original MSTScore: 16.651\n",
      "..........\n",
      "FileKey: 391963, Loss: -0.225, Original MSTScore:  6.880\n",
      "...............................................\n",
      "FileKey: 155044, Loss: -2.217, Original MSTScore:  6.017\n",
      "..........................................................................\n",
      "FileKey: 383780, Loss:  3.896, Original MSTScore: 13.307\n",
      "..............................\n",
      "FileKey: 42115, Loss: -0.753, Original MSTScore:  5.459\n",
      "..\n",
      "FileKey: 423338, Loss: -0.079, Original MSTScore:  0.778\n",
      "..........................\n",
      "FileKey: 145671, Loss:  0.655, Original MSTScore:  4.034\n",
      "..........\n",
      "FileKey: 418022, Loss:  0.117, Original MSTScore:  2.242\n",
      "..............................................\n",
      "FileKey: 87602, Loss: -11.023, Original MSTScore:  7.855\n",
      "..............................\n",
      "FileKey: 15987, Loss: -3.766, Original MSTScore:  3.001\n",
      "........\n",
      "FileKey: 418529, Loss:  0.115, Original MSTScore:  1.974\n",
      "...................................\n",
      "FileKey: 313509, Loss: -2.542, Original MSTScore: 13.741\n",
      "...\n",
      "FileKey: 10648, Loss: -0.977, Original MSTScore:  1.036\n",
      "..............................\n",
      "FileKey: 120998, Loss:  0.594, Original MSTScore:  6.794\n",
      ".......................\n",
      "FileKey: 21403, Loss: -1.012, Original MSTScore:  6.167\n",
      "ITERATION IN 1\n",
      "..............................\n",
      "FileKey: 150302, Loss: -2.414, Original MSTScore:  6.225\n",
      "...............................\n",
      "FileKey: 166410, Loss:  0.736, Original MSTScore:  8.220\n",
      ".....................\n",
      "FileKey: 28616, Loss: -1.508, Original MSTScore:  4.867\n",
      "...........................\n",
      "FileKey: 431352, Loss:  0.052, Original MSTScore:  5.505\n",
      ".................................\n",
      "FileKey: 9002, Loss:  0.057, Original MSTScore:  8.071\n",
      "............................................\n",
      "FileKey: 272399, Loss: -0.743, Original MSTScore:  5.571\n",
      ".................................\n",
      "FileKey: 298554, Loss: -5.395, Original MSTScore:  6.794\n"
     ]
    },
    {
     "ename": "KeyboardInterrupt",
     "evalue": "",
     "output_type": "error",
     "traceback": [
      "\u001b[0;31m-----------------------------------------------------------\u001b[0m",
      "\u001b[0;31mKeyError\u001b[0m                  Traceback (most recent call last)",
      "\u001b[0;32m/home/bishal/Documents/Sanskrit_project/Bishal/Clean_n_clear/word_definite.py\u001b[0m in \u001b[0;36mGet_Feat_Vec_Matrix\u001b[0;34m(nodelist_new, conflicts_Dict)\u001b[0m\n\u001b[1;32m    145\u001b[0m                     \u001b[0;32mtry\u001b[0m\u001b[0;34m:\u001b[0m\u001b[0;34m\u001b[0m\u001b[0m\n\u001b[0;32m--> 146\u001b[0;31m                         \u001b[0mpright\u001b[0m \u001b[0;34m=\u001b[0m \u001b[0mfloat\u001b[0m\u001b[0;34m(\u001b[0m\u001b[0mmat_cng2lem_countonly\u001b[0m\u001b[0;34m[\u001b[0m\u001b[0mcng_k\u001b[0m\u001b[0;34m]\u001b[0m\u001b[0;34m[\u001b[0m\u001b[0mwd2\u001b[0m\u001b[0;34m.\u001b[0m\u001b[0mlemma\u001b[0m\u001b[0;34m]\u001b[0m\u001b[0;34m)\u001b[0m \u001b[0;34m/\u001b[0m \u001b[0mmat_cng2lem_1D\u001b[0m\u001b[0;34m[\u001b[0m\u001b[0mcng_k\u001b[0m\u001b[0;34m]\u001b[0m\u001b[0;34m\u001b[0m\u001b[0m\n\u001b[0m\u001b[1;32m    147\u001b[0m                     \u001b[0;32mexcept\u001b[0m \u001b[0mKeyError\u001b[0m\u001b[0;34m:\u001b[0m\u001b[0;34m\u001b[0m\u001b[0m\n",
      "\u001b[0;31mKeyError\u001b[0m: 'a'",
      "\nDuring handling of the above exception, another exception occurred:\n",
      "\u001b[0;31mKeyboardInterrupt\u001b[0m         Traceback (most recent call last)",
      "\u001b[0;32m<ipython-input-34-b2b97a68755b>\u001b[0m in \u001b[0;36m<module>\u001b[0;34m()\u001b[0m\n\u001b[0;32m----> 1\u001b[0;31m \u001b[0mmain\u001b[0m\u001b[0;34m(\u001b[0m\u001b[0mloaded_SKT\u001b[0m\u001b[0;34m,\u001b[0m \u001b[0mloaded_DCS\u001b[0m\u001b[0;34m)\u001b[0m\u001b[0;34m\u001b[0m\u001b[0m\n\u001b[0m",
      "\u001b[0;32m/home/bishal/Documents/Sanskrit_project/Bishal/Clean_n_clear/Train_n_Save_NNet.py\u001b[0m in \u001b[0;36mmain\u001b[0;34m(loaded_SKT, loaded_DCS)\u001b[0m\n\u001b[1;32m     82\u001b[0m                 \u001b[0msentenceObj\u001b[0m \u001b[0;34m=\u001b[0m \u001b[0mloaded_SKT\u001b[0m\u001b[0;34m[\u001b[0m\u001b[0mlist\u001b[0m\u001b[0;34m(\u001b[0m\u001b[0mloaded_SKT\u001b[0m\u001b[0;34m.\u001b[0m\u001b[0mkeys\u001b[0m\u001b[0;34m(\u001b[0m\u001b[0;34m)\u001b[0m\u001b[0;34m)\u001b[0m\u001b[0;34m[\u001b[0m\u001b[0mfn\u001b[0m\u001b[0;34m]\u001b[0m\u001b[0;34m]\u001b[0m\u001b[0;34m\u001b[0m\u001b[0m\n\u001b[1;32m     83\u001b[0m                 \u001b[0mdcsObj\u001b[0m \u001b[0;34m=\u001b[0m \u001b[0mloaded_DCS\u001b[0m\u001b[0;34m[\u001b[0m\u001b[0mlist\u001b[0m\u001b[0;34m(\u001b[0m\u001b[0mloaded_SKT\u001b[0m\u001b[0;34m.\u001b[0m\u001b[0mkeys\u001b[0m\u001b[0;34m(\u001b[0m\u001b[0;34m)\u001b[0m\u001b[0;34m)\u001b[0m\u001b[0;34m[\u001b[0m\u001b[0mfn\u001b[0m\u001b[0;34m]\u001b[0m\u001b[0;34m]\u001b[0m\u001b[0;34m\u001b[0m\u001b[0m\n\u001b[0;32m---> 84\u001b[0;31m                 \u001b[0mtrainer\u001b[0m\u001b[0;34m.\u001b[0m\u001b[0mTrain\u001b[0m\u001b[0;34m(\u001b[0m\u001b[0msentenceObj\u001b[0m\u001b[0;34m,\u001b[0m \u001b[0mdcsObj\u001b[0m\u001b[0;34m)\u001b[0m\u001b[0;34m\u001b[0m\u001b[0m\n\u001b[0m\u001b[1;32m     85\u001b[0m \u001b[0;34m\u001b[0m\u001b[0m\n\u001b[1;32m     86\u001b[0m \u001b[0;32mdef\u001b[0m \u001b[0mtest\u001b[0m\u001b[0;34m(\u001b[0m\u001b[0mloaded_SKT\u001b[0m\u001b[0;34m,\u001b[0m \u001b[0mloaded_DCS\u001b[0m\u001b[0;34m)\u001b[0m\u001b[0;34m:\u001b[0m\u001b[0;34m\u001b[0m\u001b[0m\n",
      "\u001b[0;32m/home/bishal/Documents/Sanskrit_project/Bishal/Clean_n_clear/Train_n_Save_NNet.py\u001b[0m in \u001b[0;36mTrain\u001b[0;34m(self, sentenceObj, dcsObj)\u001b[0m\n\u001b[1;32m    126\u001b[0m \u001b[0;34m\u001b[0m\u001b[0m\n\u001b[1;32m    127\u001b[0m         \u001b[0;34m\"\"\" FOR ALL POSSIBLE MST FROM THE COMPLETE GRAPH \"\"\"\u001b[0m\u001b[0;34m\u001b[0m\u001b[0m\n\u001b[0;32m--> 128\u001b[0;31m         \u001b[0;34m(\u001b[0m\u001b[0mconflicts_Dict\u001b[0m\u001b[0;34m,\u001b[0m \u001b[0mfeatVMat\u001b[0m\u001b[0;34m,\u001b[0m \u001b[0mWScalarMat\u001b[0m\u001b[0;34m)\u001b[0m \u001b[0;34m=\u001b[0m \u001b[0mGetGraph\u001b[0m\u001b[0;34m(\u001b[0m\u001b[0mnodelist\u001b[0m\u001b[0;34m,\u001b[0m \u001b[0mself\u001b[0m\u001b[0;34m.\u001b[0m\u001b[0mneuralnet\u001b[0m\u001b[0;34m)\u001b[0m\u001b[0;34m\u001b[0m\u001b[0m\n\u001b[0m\u001b[1;32m    129\u001b[0m \u001b[0;34m\u001b[0m\u001b[0m\n\u001b[1;32m    130\u001b[0m         \u001b[0mTotal_Loss\u001b[0m \u001b[0;34m=\u001b[0m \u001b[0;36m0\u001b[0m\u001b[0;34m\u001b[0m\u001b[0m\n",
      "\u001b[0;32m/home/bishal/Documents/Sanskrit_project/Bishal/Clean_n_clear/Train_n_Save_NNet.py\u001b[0m in \u001b[0;36mGetGraph\u001b[0;34m(nodelist, neuralnet)\u001b[0m\n\u001b[1;32m     56\u001b[0m     \u001b[0mconflicts_Dict\u001b[0m \u001b[0;34m=\u001b[0m \u001b[0mGet_Conflicts\u001b[0m\u001b[0;34m(\u001b[0m\u001b[0mnodelist\u001b[0m\u001b[0;34m)\u001b[0m\u001b[0;34m\u001b[0m\u001b[0m\n\u001b[1;32m     57\u001b[0m \u001b[0;34m\u001b[0m\u001b[0m\n\u001b[0;32m---> 58\u001b[0;31m     \u001b[0mfeatVMat\u001b[0m \u001b[0;34m=\u001b[0m \u001b[0mGet_Feat_Vec_Matrix\u001b[0m\u001b[0;34m(\u001b[0m\u001b[0mnodelist\u001b[0m\u001b[0;34m,\u001b[0m \u001b[0mconflicts_Dict\u001b[0m\u001b[0;34m)\u001b[0m\u001b[0;34m\u001b[0m\u001b[0m\n\u001b[0m\u001b[1;32m     59\u001b[0m \u001b[0;34m\u001b[0m\u001b[0m\n\u001b[1;32m     60\u001b[0m     \u001b[0mWScalarMat\u001b[0m \u001b[0;34m=\u001b[0m \u001b[0mGet_W_Scalar_Matrix_from_FeatVect_Matrix\u001b[0m\u001b[0;34m(\u001b[0m\u001b[0mfeatVMat\u001b[0m\u001b[0;34m,\u001b[0m \u001b[0mnodelist\u001b[0m\u001b[0;34m,\u001b[0m \u001b[0mconflicts_Dict\u001b[0m\u001b[0;34m,\u001b[0m \u001b[0mneuralnet\u001b[0m\u001b[0;34m)\u001b[0m\u001b[0;34m\u001b[0m\u001b[0m\n",
      "\u001b[0;32m/home/bishal/Documents/Sanskrit_project/Bishal/Clean_n_clear/word_definite.py\u001b[0m in \u001b[0;36mGet_Feat_Vec_Matrix\u001b[0;34m(nodelist_new, conflicts_Dict)\u001b[0m\n\u001b[1;32m    144\u001b[0m                         \u001b[0mpleft\u001b[0m \u001b[0;34m=\u001b[0m \u001b[0;36m0\u001b[0m\u001b[0;34m\u001b[0m\u001b[0m\n\u001b[1;32m    145\u001b[0m                     \u001b[0;32mtry\u001b[0m\u001b[0;34m:\u001b[0m\u001b[0;34m\u001b[0m\u001b[0m\n\u001b[0;32m--> 146\u001b[0;31m                         \u001b[0mpright\u001b[0m \u001b[0;34m=\u001b[0m \u001b[0mfloat\u001b[0m\u001b[0;34m(\u001b[0m\u001b[0mmat_cng2lem_countonly\u001b[0m\u001b[0;34m[\u001b[0m\u001b[0mcng_k\u001b[0m\u001b[0;34m]\u001b[0m\u001b[0;34m[\u001b[0m\u001b[0mwd2\u001b[0m\u001b[0;34m.\u001b[0m\u001b[0mlemma\u001b[0m\u001b[0;34m]\u001b[0m\u001b[0;34m)\u001b[0m \u001b[0;34m/\u001b[0m \u001b[0mmat_cng2lem_1D\u001b[0m\u001b[0;34m[\u001b[0m\u001b[0mcng_k\u001b[0m\u001b[0;34m]\u001b[0m\u001b[0;34m\u001b[0m\u001b[0m\n\u001b[0m\u001b[1;32m    147\u001b[0m                     \u001b[0;32mexcept\u001b[0m \u001b[0mKeyError\u001b[0m\u001b[0;34m:\u001b[0m\u001b[0;34m\u001b[0m\u001b[0m\n\u001b[1;32m    148\u001b[0m                         \u001b[0mpright\u001b[0m \u001b[0;34m=\u001b[0m \u001b[0;36m0\u001b[0m\u001b[0;34m\u001b[0m\u001b[0m\n",
      "\u001b[0;31mKeyboardInterrupt\u001b[0m: "
     ]
    }
   ],
   "source": [
    "main(loaded_SKT, loaded_DCS)"
   ]
  },
  {
   "cell_type": "code",
   "execution_count": 13,
   "metadata": {
    "collapsed": false
   },
   "outputs": [
    {
     "data": {
      "text/plain": [
       "<nnet.NN at 0x7f216e544470>"
      ]
     },
     "execution_count": 13,
     "metadata": {},
     "output_type": "execute_result"
    }
   ],
   "source": [
    "Train_n_Save_NNet.trainer.neuralnet"
   ]
  },
  {
   "cell_type": "code",
   "execution_count": 35,
   "metadata": {
    "collapsed": false,
    "scrolled": true
   },
   "outputs": [
    {
     "name": "stdout",
     "output_type": "stream",
     "text": [
      "Permutation:  [84 27 51 37 14 99 20 30 54  0]\n",
      ".............................\n",
      "Full Match: 9, Partial Match: 9, OutOf 10, NodeCount: 26, \n",
      "..............................\n",
      "Full Match: 5, Partial Match: 6, OutOf 7, NodeCount: 28, \n",
      "\u001b[31mError with 28286 \u001b[0m\n",
      "......................................................................................................\n",
      "Full Match: 3, Partial Match: 6, OutOf 9, NodeCount: 99, \n",
      ".....................\n",
      "Full Match: 2, Partial Match: 3, OutOf 6, NodeCount: 20, \n",
      "................\n",
      "Full Match: 4, Partial Match: 4, OutOf 6, NodeCount: 14, \n",
      "..............................\n",
      "Full Match: 6, Partial Match: 6, OutOf 8, NodeCount: 27, \n",
      "........................................................\n",
      "Full Match: 3, Partial Match: 4, OutOf 7, NodeCount: 54, \n",
      "..............................................\n",
      "Full Match: 3, Partial Match: 4, OutOf 6, NodeCount: 44, \n",
      "..............................................\n",
      "Full Match: 7, Partial Match: 9, OutOf 12, NodeCount: 44, \n"
     ]
    }
   ],
   "source": [
    "Train_n_Save_NNet.test(loaded_SKT, loaded_DCS)"
   ]
  },
  {
   "cell_type": "code",
   "execution_count": 36,
   "metadata": {
    "collapsed": false,
    "scrolled": true
   },
   "outputs": [],
   "source": [
    "# Test\n"
   ]
  },
  {
   "cell_type": "code",
   "execution_count": null,
   "metadata": {
    "collapsed": false,
    "scrolled": true
   },
   "outputs": [],
   "source": []
  },
  {
   "cell_type": "code",
   "execution_count": 37,
   "metadata": {
    "collapsed": false
   },
   "outputs": [
    {
     "ename": "NameError",
     "evalue": "name 'display' is not defined",
     "output_type": "error",
     "traceback": [
      "\u001b[0;31m-----------------------------------------------------------\u001b[0m",
      "\u001b[0;31mNameError\u001b[0m                 Traceback (most recent call last)",
      "\u001b[0;32m<ipython-input-37-521268196dca>\u001b[0m in \u001b[0;36m<module>\u001b[0;34m()\u001b[0m\n\u001b[0;32m----> 1\u001b[0;31m \u001b[0mdisplay\u001b[0m\u001b[0;34m(\u001b[0m\u001b[0mmst_nodes\u001b[0m\u001b[0;34m)\u001b[0m\u001b[0;34m\u001b[0m\u001b[0m\n\u001b[0m\u001b[1;32m      2\u001b[0m \u001b[0mSeeDCS\u001b[0m\u001b[0;34m(\u001b[0m\u001b[0mdcsObj\u001b[0m\u001b[0;34m)\u001b[0m\u001b[0;34m\u001b[0m\u001b[0m\n",
      "\u001b[0;31mNameError\u001b[0m: name 'display' is not defined"
     ]
    }
   ],
   "source": [
    "display(mst_nodes)\n",
    "SeeDCS(dcsObj)"
   ]
  },
  {
   "cell_type": "code",
   "execution_count": 38,
   "metadata": {
    "collapsed": false
   },
   "outputs": [
    {
     "ename": "NameError",
     "evalue": "name 'sentenceObj' is not defined",
     "output_type": "error",
     "traceback": [
      "\u001b[0;31m-----------------------------------------------------------\u001b[0m",
      "\u001b[0;31mNameError\u001b[0m                 Traceback (most recent call last)",
      "\u001b[0;32m<ipython-input-38-64874e45eae9>\u001b[0m in \u001b[0;36m<module>\u001b[0;34m()\u001b[0m\n\u001b[1;32m      1\u001b[0m \u001b[0;31m# Use 37171.p\u001b[0m\u001b[0;34m\u001b[0m\u001b[0;34m\u001b[0m\u001b[0m\n\u001b[0;32m----> 2\u001b[0;31m \u001b[0mprint\u001b[0m\u001b[0;34m(\u001b[0m\u001b[0msentenceObj\u001b[0m\u001b[0;34m.\u001b[0m\u001b[0msent_id\u001b[0m\u001b[0;34m)\u001b[0m\u001b[0;34m\u001b[0m\u001b[0m\n\u001b[0m\u001b[1;32m      3\u001b[0m \u001b[0mSeeSentence\u001b[0m\u001b[0;34m(\u001b[0m\u001b[0msentenceObj\u001b[0m\u001b[0;34m)\u001b[0m\u001b[0;34m\u001b[0m\u001b[0m\n\u001b[1;32m      4\u001b[0m \u001b[0mnodelist\u001b[0m\u001b[0;34m\u001b[0m\u001b[0m\n",
      "\u001b[0;31mNameError\u001b[0m: name 'sentenceObj' is not defined"
     ]
    }
   ],
   "source": [
    "# Use 37171.p\n",
    "print(sentenceObj.sent_id)\n",
    "SeeSentence(sentenceObj)\n",
    "nodelist"
   ]
  },
  {
   "cell_type": "code",
   "execution_count": null,
   "metadata": {
    "collapsed": true
   },
   "outputs": [],
   "source": []
  },
  {
   "cell_type": "code",
   "execution_count": 160,
   "metadata": {
    "collapsed": false
   },
   "outputs": [
    {
     "data": {
      "text/plain": [
       "array([[        inf,  1.00000141,  0.99999987,  1.00002211,  1.00000411,\n",
       "         1.00000562,  1.0000008 ],\n",
       "       [ 1.00000494,         inf,  0.99999999,  1.00002792,  1.0000046 ,\n",
       "         1.00000294,  1.00000123],\n",
       "       [ 0.99999763,  0.99999997,         inf,  1.00000312,  1.00000036,\n",
       "         1.00000108,  1.00000045],\n",
       "       [ 1.00000537,  1.00000193,  1.00000004,         inf,  1.00000797,\n",
       "         1.00000671,  1.00000124],\n",
       "       [ 1.00000356,  1.00000114,  1.00000002,  1.00002847,         inf,\n",
       "                inf,  1.000001  ],\n",
       "       [ 1.00000655,  1.00000098,  1.00000007,  1.00003223,         inf,\n",
       "                inf,  1.00000144],\n",
       "       [ 1.00000488,  1.00000215,  1.00000016,  1.00003128,  1.0000071 ,\n",
       "         1.00000757,         inf]])"
      ]
     },
     "execution_count": 160,
     "metadata": {},
     "output_type": "execute_result"
    }
   ],
   "source": [
    "Get_W_Scalar_Matrix_from_FeatVect_Matrix(featVMat_correct, nodelist_correct, conflicts_Dict_correct, neuralnet)"
   ]
  },
  {
   "cell_type": "code",
   "execution_count": null,
   "metadata": {
    "collapsed": false
   },
   "outputs": [],
   "source": []
  },
  {
   "cell_type": "code",
   "execution_count": null,
   "metadata": {
    "collapsed": false
   },
   "outputs": [],
   "source": []
  },
  {
   "cell_type": "code",
   "execution_count": null,
   "metadata": {
    "collapsed": false
   },
   "outputs": [],
   "source": []
  },
  {
   "cell_type": "code",
   "execution_count": null,
   "metadata": {
    "collapsed": true
   },
   "outputs": [],
   "source": []
  }
 ],
 "metadata": {
  "anaconda-cloud": {},
  "kernelspec": {
   "display_name": "Python [default]",
   "language": "python",
   "name": "python3"
  }
 },
 "nbformat": 4,
 "nbformat_minor": 1
}
