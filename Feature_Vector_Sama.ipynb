{
 "cells": [
  {
   "cell_type": "markdown",
   "metadata": {},
   "source": [
    "### Creating Feature Vectors - Between tuples"
   ]
  },
  {
   "cell_type": "code",
   "execution_count": 1,
   "metadata": {
    "collapsed": true
   },
   "outputs": [],
   "source": [
    "%load_ext autoreload\n",
    "%autoreload 2"
   ]
  },
  {
   "cell_type": "code",
   "execution_count": 42,
   "metadata": {
    "collapsed": false
   },
   "outputs": [],
   "source": [
    "import word_definite as WD\n",
    "from MatDB import *\n",
    "import matplotlib.pyplot as plt\n",
    "from IPython.display import display\n",
    "%matplotlib inline"
   ]
  },
  {
   "cell_type": "code",
   "execution_count": 12,
   "metadata": {
    "collapsed": true
   },
   "outputs": [],
   "source": [
    "import numpy as np\n",
    "import math\n",
    "np.set_printoptions(suppress=False, precision=16)"
   ]
  },
  {
   "cell_type": "code",
   "execution_count": 4,
   "metadata": {
    "collapsed": true
   },
   "outputs": [],
   "source": [
    "matDB = MatDB()"
   ]
  },
  {
   "cell_type": "code",
   "execution_count": 5,
   "metadata": {
    "collapsed": false
   },
   "outputs": [
    {
     "name": "stdout",
     "output_type": "stream",
     "text": [
      "443\n",
      "WD_Node[C: 0, P: 0, Adi @(31) => Adi]\n",
      "WD_Node[C: 1, P: 0, ca @(2) => ca]\n",
      "(788992, 1)\n"
     ]
    }
   ],
   "source": [
    "WD.word_definite_extInit(matDB)\n",
    "# node2 = WD.word_definite('tIkzRam', 'tIkzRa', 31, 0, 0)\n",
    "node1 = WD.word_definite('Adi', 'Adi', 31, 0, 0)\n",
    "node2 = WD.word_definite('ca', 'ca', 2, 0, 1)\n",
    "# node1 = WD.word_definite('koRam', 'koRa', 31, 0, 1)\n",
    "print(node1)\n",
    "print(node2)\n",
    "\n",
    "feats = WD.Get_Features(node1, node2)\n",
    "print(feats.shape)"
   ]
  },
  {
   "cell_type": "code",
   "execution_count": 6,
   "metadata": {
    "collapsed": false
   },
   "outputs": [
    {
     "data": {
      "text/plain": [
       "10"
      ]
     },
     "execution_count": 6,
     "metadata": {},
     "output_type": "execute_result"
    }
   ],
   "source": [
    "matDB.mat_lem2lem_countonly['koRa']['Adi']"
   ]
  },
  {
   "cell_type": "code",
   "execution_count": 7,
   "metadata": {
    "collapsed": false
   },
   "outputs": [
    {
     "data": {
      "text/plain": [
       "195905"
      ]
     },
     "execution_count": 7,
     "metadata": {},
     "output_type": "execute_result"
    }
   ],
   "source": [
    "matDB.mat_lemCount_1D['Adi']"
   ]
  },
  {
   "cell_type": "code",
   "execution_count": 10,
   "metadata": {
    "collapsed": false
   },
   "outputs": [
    {
     "data": {
      "text/plain": [
       "6.01953125"
      ]
     },
     "execution_count": 10,
     "metadata": {},
     "output_type": "execute_result"
    }
   ],
   "source": [
    "feats.nbytes/(1024*1024)"
   ]
  },
  {
   "cell_type": "code",
   "execution_count": 7,
   "metadata": {
    "collapsed": false,
    "scrolled": true
   },
   "outputs": [],
   "source": [
    "# for i in range(1335):\n",
    "#     if feats[i] > 0:\n",
    "#         print(i) \n",
    "# feats[-500:]"
   ]
  },
  {
   "cell_type": "markdown",
   "metadata": {
    "collapsed": false
   },
   "source": [
    "### Get PMI B/W Tuples"
   ]
  },
  {
   "cell_type": "code",
   "execution_count": null,
   "metadata": {
    "collapsed": true
   },
   "outputs": [],
   "source": []
  },
  {
   "cell_type": "code",
   "execution_count": null,
   "metadata": {
    "collapsed": true
   },
   "outputs": [],
   "source": [
    "# pmi(x;y) = -log2[p(x|y)/p(x)]\n",
    "# def PMI(x, y, _pbModel):\n",
    "#     # x : node1\n",
    "#     # y : node2\n",
    "#     if(x in _pbModel.fullCo_oc_mat[y]):\n",
    "#         p_x_given_y = _pbModel.fullCo_oc_mat[y][x]/_pbModel.unigram_counts[y]\n",
    "#         p_x = _pbModel.unigram_counts[x]/_pbModel.unigram_total_count\n",
    "#         #print(p_x_given_y, ' ', p_x)\n",
    "#         return -math.log2(p_x_given_y/p_x)\n",
    "#     else:\n",
    "#         p_x_given_y = 1/_pbModel.unigram_counts[y]\n",
    "#         p_x = _pbModel.unigram_counts[x]/_pbModel.unigram_total_count\n",
    "#         #print(p_x_given_y, ' ', p_x)\n",
    "#         return -math.log2(p_x_given_y/p_x)"
   ]
  },
  {
   "cell_type": "markdown",
   "metadata": {},
   "source": [
    "### Get tuple pairs for feature importance "
   ]
  },
  {
   "cell_type": "code",
   "execution_count": 1,
   "metadata": {
    "collapsed": true
   },
   "outputs": [],
   "source": [
    "%load_ext autoreload\n",
    "%autoreload 2"
   ]
  },
  {
   "cell_type": "code",
   "execution_count": 2,
   "metadata": {
    "collapsed": false
   },
   "outputs": [],
   "source": [
    "import word_definite as WD\n",
    "from MatDB import *\n",
    "import matplotlib.pyplot as plt\n",
    "from IPython.display import display\n",
    "%matplotlib inline"
   ]
  },
  {
   "cell_type": "code",
   "execution_count": 3,
   "metadata": {
    "collapsed": true
   },
   "outputs": [],
   "source": [
    "import numpy as np\n",
    "import math\n",
    "np.set_printoptions(suppress=False, precision=16)"
   ]
  },
  {
   "cell_type": "code",
   "execution_count": 4,
   "metadata": {
    "collapsed": true
   },
   "outputs": [],
   "source": [
    "matDB = MatDB()"
   ]
  },
  {
   "cell_type": "code",
   "execution_count": 5,
   "metadata": {
    "collapsed": false
   },
   "outputs": [
    {
     "name": "stdout",
     "output_type": "stream",
     "text": [
      "443\n"
     ]
    }
   ],
   "source": [
    "WD.word_definite_extInit(matDB)"
   ]
  },
  {
   "cell_type": "code",
   "execution_count": 6,
   "metadata": {
    "collapsed": false
   },
   "outputs": [
    {
     "data": {
      "text/plain": [
       "217326"
      ]
     },
     "execution_count": 6,
     "metadata": {},
     "output_type": "execute_result"
    }
   ],
   "source": [
    "len(matDB.mat_tupCount_1D)"
   ]
  },
  {
   "cell_type": "code",
   "execution_count": 7,
   "metadata": {
    "collapsed": true
   },
   "outputs": [],
   "source": [
    "smallTupList = []\n",
    "for tup1, val in matDB.mat_tupCount_1D.items():\n",
    "    if val > 20:\n",
    "        smallTupList.append(tup1)      "
   ]
  },
  {
   "cell_type": "code",
   "execution_count": 8,
   "metadata": {
    "collapsed": false
   },
   "outputs": [
    {
     "name": "stdout",
     "output_type": "stream",
     "text": [
      "125596\n"
     ]
    }
   ],
   "source": [
    "l = len(smallTupList)\n",
    "print(l)"
   ]
  },
  {
   "cell_type": "code",
   "execution_count": 9,
   "metadata": {
    "collapsed": false
   },
   "outputs": [],
   "source": [
    "batchCount = 10\n",
    "perm = np.random.permutation(l)[:batchCount]\n",
    "# perm2 = np.random.permutation(l)[:batchCount]"
   ]
  },
  {
   "cell_type": "code",
   "execution_count": 10,
   "metadata": {
    "collapsed": false
   },
   "outputs": [
    {
     "name": "stdout",
     "output_type": "stream",
     "text": [
      "788992\n",
      "Will get feature vectors for 18 pairs\n"
     ]
    }
   ],
   "source": [
    "fN = 4*443**2 + 9*443 + 9\n",
    "print(fN)\n",
    "\n",
    "all_pairs = {}\n",
    "\n",
    "index = 0\n",
    "for k in range(batchCount):  \n",
    "    tup1 = smallTupList[perm[k]]\n",
    "    lem1 = tup1.split('_')\n",
    "    cng1 = lem1[1]\n",
    "    lem1 = lem1[0]\n",
    "    \n",
    "    node1 = WD.word_definite(None, lem1, cng1, 0, 0)\n",
    "    for tup2, co_occurrence in matDB.mat_tup2tup_countonly[tup1].items():\n",
    "        if co_occurrence > 4:\n",
    "            lem2 = tup2.split('_')\n",
    "            cng2 = lem2[1]\n",
    "            lem2 = lem2[0]\n",
    "            node2 = WD.word_definite(None, lem2, cng2, 0, 1)\n",
    "            all_pairs[index] = (node1, node2)\n",
    "            index += 1\n",
    "            \n",
    "print('Will get feature vectors for {} pairs'.format(index))\n",
    "total_examples = index\n"
   ]
  },
  {
   "cell_type": "code",
   "execution_count": 11,
   "metadata": {
    "collapsed": false,
    "scrolled": false
   },
   "outputs": [
    {
     "name": "stdout",
     "output_type": "stream",
     "text": [
      "Checkpoint S0E5\n",
      "Checkpoint S0E10\n",
      "Checkpoint S1E5\n"
     ]
    }
   ],
   "source": [
    "pairs_per_file = 10\n",
    "for pairx in range(math.ceil(len(all_pairs)/pairs_per_file)):\n",
    "    subset_pairs = range(pairx*pairs_per_file, min(len(all_pairs), (pairx + 1)*pairs_per_file))\n",
    "    featureMatrix = np.zeros((fN, len(subset_pairs)))\n",
    "    targetDict = {}\n",
    "    index = 0\n",
    "    current_pairs = {}\n",
    "    for hi in subset_pairs:\n",
    "        node1 = all_pairs[hi][0]\n",
    "        node2 = all_pairs[hi][1]\n",
    "        current_pairs[index] = '{}^{}'.format(node1.tup, node2.tup)\n",
    "        featureMatrix[:, index, None] = WD.Get_Features(node1, node2)\n",
    "        targetDict[index] = (matDB.mat_tup2tup_countonly[node1.tup][node2.tup],\\\n",
    "                              matDB.mat_lem2lem_countonly[node1.lemma][node2.lemma],\\\n",
    "                              matDB.mat_lem2tup_countonly[node1.lemma][node2.tup],\\\n",
    "                              matDB.mat_tup2lem_countonly[node1.tup][node2.lemma])\n",
    "        index += 1\n",
    "        if index % min(math.ceil(pairs_per_file/2), 100) == 0:\n",
    "            print('Checkpoint S{}E{} of {}'.format(pairx, index, pairs_per_file))\n",
    "    pickle.dump({'all_pairs': current_pairs, 'featureMatrix': featureMatrix, 'targetDict': targetDict},\\\n",
    "        open('outputs/featureSet_{}samples_8L_{}.p'.format(pairs_per_file, pairx), 'wb'), protocol = 4)"
   ]
  },
  {
   "cell_type": "code",
   "execution_count": 14,
   "metadata": {
    "collapsed": false
   },
   "outputs": [
    {
     "name": "stdout",
     "output_type": "stream",
     "text": [
      "All Pairs:\n"
     ]
    },
    {
     "data": {
      "text/plain": [
       "{0: 'vyaYjaka_3^sadBAva_169',\n",
       " 1: 'vyaYjaka_3^evam_2',\n",
       " 2: 'vyaYjaka_3^Adi_3',\n",
       " 3: 'kalpa_99^vajra_3',\n",
       " 4: 'kalpa_99^ca_2',\n",
       " 5: 'kalpa_99^agni_3',\n",
       " 6: 'kalpa_99^deva_3',\n",
       " 7: 'kalpa_99^Sara_99'}"
      ]
     },
     "metadata": {},
     "output_type": "display_data"
    },
    {
     "name": "stdout",
     "output_type": "stream",
     "text": [
      "Feature Matrix:\n"
     ]
    },
    {
     "data": {
      "text/plain": [
       "array([[ 0.0051107325383305,  0.0051107325383305,  0.0119250425894378, ...,\n",
       "         0.0023538026990271,  0.0017261219792865,  0.0006799874463856],\n",
       "       [ 0.010221465076661 ,  0.0357751277683135,  0.0374787052810903, ...,\n",
       "         0.039334658437075 ,  0.039334658437075 ,  0.0040799246783136],\n",
       "       [ 0.0051107325383305,  0.0051107325383305,  0.0085178875638842, ...,\n",
       "         0.0020922690658019,  0.0012030547128361,  0.0003138403598703],\n",
       "       ..., \n",
       "       [ 0.                ,  0.                ,  0.                , ...,\n",
       "         0.                ,  0.                ,  0.                ],\n",
       "       [ 0.                ,  0.                ,  0.                , ...,\n",
       "         0.                ,  0.                ,  0.                ],\n",
       "       [ 0.                ,  0.                ,  0.                , ...,\n",
       "         0.                ,  0.                ,  0.                ]])"
      ]
     },
     "metadata": {},
     "output_type": "display_data"
    },
    {
     "name": "stdout",
     "output_type": "stream",
     "text": [
      "Target Dict(counts of word2word, lem2lem, lem2word, word2lem):\n"
     ]
    },
    {
     "data": {
      "text/plain": [
       "{0: (6, 3, 3, 3),\n",
       " 1: (5, 3, 3, 3),\n",
       " 2: (5, 7, 5, 5),\n",
       " 3: (6, 19, 19, 5),\n",
       " 4: (18, 223, 222, 14),\n",
       " 5: (14, 45, 40, 14),\n",
       " 6: (6, 33, 23, 6),\n",
       " 7: (6, 13, 6, 7)}"
      ]
     },
     "metadata": {},
     "output_type": "display_data"
    }
   ],
   "source": [
    "featureBox = pickle.load(open('outputs/featureSet_10samples_8L_1.p', 'rb'))\n",
    "print('All Pairs:')\n",
    "display(featureBox['all_pairs'])\n",
    "print('Feature Matrix:')\n",
    "display(featureBox['featureMatrix'])\n",
    "print('Target Dict(counts of word2word, lem2lem, lem2word, word2lem):')\n",
    "display(featureBox['targetDict'])"
   ]
  },
  {
   "cell_type": "code",
   "execution_count": 49,
   "metadata": {
    "collapsed": false
   },
   "outputs": [
    {
     "data": {
      "text/plain": [
       "(788992, 2)"
      ]
     },
     "execution_count": 49,
     "metadata": {},
     "output_type": "execute_result"
    }
   ],
   "source": [
    "featureMatrix.shape"
   ]
  },
  {
   "cell_type": "code",
   "execution_count": 16,
   "metadata": {
    "collapsed": false
   },
   "outputs": [],
   "source": [
    "for key, val in all_pairs.items():\n",
    "    all_pairs[key] = (val[0].tup, val[1].tup)"
   ]
  },
  {
   "cell_type": "code",
   "execution_count": 19,
   "metadata": {
    "collapsed": false
   },
   "outputs": [
    {
     "data": {
      "text/plain": [
       "8595.890625"
      ]
     },
     "execution_count": 19,
     "metadata": {},
     "output_type": "execute_result"
    }
   ],
   "source": [
    "featureMatrix.nbytes/(1024*1024)"
   ]
  },
  {
   "cell_type": "code",
   "execution_count": 18,
   "metadata": {
    "collapsed": false
   },
   "outputs": [
    {
     "data": {
      "text/plain": [
       "(788992, 1428)"
      ]
     },
     "execution_count": 18,
     "metadata": {},
     "output_type": "execute_result"
    }
   ],
   "source": [
    "featureMatrix.shape"
   ]
  },
  {
   "cell_type": "code",
   "execution_count": 21,
   "metadata": {
    "collapsed": false
   },
   "outputs": [],
   "source": [
    "\n",
    "pickle.dump({'all_pairs': all_pairs, 'featureMatrix': featureMatrix[:, 400:800], 'targetMatrix': targetMatrix},\\\n",
    "            open('outputs/featureSet_1428p_8L_1.p', 'wb'), protocol = 4)\n",
    "pickle.dump({'all_pairs': all_pairs, 'featureMatrix': featureMatrix[:, 800:], 'targetMatrix': targetMatrix},\\\n",
    "            open('outputs/featureSet_1428p_8L_2.p', 'wb'), protocol = 4)"
   ]
  },
  {
   "cell_type": "code",
   "execution_count": 47,
   "metadata": {
    "collapsed": true
   },
   "outputs": [],
   "source": [
    "varVec = np.zeros((fN, 1))\n",
    "meanVec = np.zeros((fN, 1))"
   ]
  },
  {
   "cell_type": "code",
   "execution_count": 48,
   "metadata": {
    "collapsed": false
   },
   "outputs": [],
   "source": [
    "for fk in range(fN):\n",
    "    varVec[fk] = np.var(featureMatrix[fk, :])\n",
    "    meanVec[fk] = np.mean(featureMatrix[fk, :])"
   ]
  },
  {
   "cell_type": "code",
   "execution_count": 68,
   "metadata": {
    "collapsed": false
   },
   "outputs": [
    {
     "name": "stderr",
     "output_type": "stream",
     "text": [
      "d:\\program files\\anaconda3\\lib\\site-packages\\ipykernel\\__main__.py:1: RuntimeWarning: invalid value encountered in true_divide\n",
      "  if __name__ == '__main__':\n"
     ]
    }
   ],
   "source": [
    "fanoFactors = varVec/meanVec"
   ]
  },
  {
   "cell_type": "code",
   "execution_count": 71,
   "metadata": {
    "collapsed": false
   },
   "outputs": [],
   "source": [
    "fanoFactors = fanoFactors[~np.isnan(fanoFactors)]\n",
    "fanoFactors = fanoFactors[fanoFactors > 0.0025]"
   ]
  },
  {
   "cell_type": "code",
   "execution_count": 72,
   "metadata": {
    "collapsed": false,
    "scrolled": true
   },
   "outputs": [
    {
     "data": {
      "text/plain": [
       "(array([ 10.,   1.,   1.,   2.,   0.,   3.,   2.,   1.,   0.,   1.]),\n",
       " array([ 0.0027130129321566,  0.0049483498450054,  0.0071836867578543,\n",
       "         0.0094190236707031,  0.0116543605835519,  0.0138896974964008,\n",
       "         0.0161250344092496,  0.0183603713220984,  0.0205957082349473,\n",
       "         0.0228310451477961,  0.0250663820606449]),\n",
       " <a list of 10 Patch objects>)"
      ]
     },
     "execution_count": 72,
     "metadata": {},
     "output_type": "execute_result"
    },
    {
     "data": {
      "image/png": "[encoded data removed]",
      "text/plain": [
       "<matplotlib.figure.Figure at 0x17c31c47438>"
      ]
     },
     "metadata": {},
     "output_type": "display_data"
    }
   ],
   "source": [
    "plt.hist(fanoFactors)"
   ]
  },
  {
   "cell_type": "code",
   "execution_count": null,
   "metadata": {
    "collapsed": false,
    "scrolled": true
   },
   "outputs": [],
   "source": []
  },
  {
   "cell_type": "code",
   "execution_count": null,
   "metadata": {
    "collapsed": true
   },
   "outputs": [],
   "source": []
  }
 ],
 "metadata": {
  "anaconda-cloud": {},
  "kernelspec": {
   "display_name": "Python [default]",
   "language": "python",
   "name": "python3"
  },
  "language_info": {
   "codemirror_mode": {
    "name": "ipython",
    "version": 3
   },
   "file_extension": ".py",
   "mimetype": "text/x-python",
   "name": "python",
   "nbconvert_exporter": "python",
   "pygments_lexer": "ipython3",
   "version": "3.5.2"
  }
 },
 "nbformat": 4,
 "nbformat_minor": 1
}
