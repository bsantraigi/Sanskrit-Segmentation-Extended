{
 "cells": [
  {
   "cell_type": "markdown",
   "metadata": {},
   "source": [
    "### Creating Feature Vectors - Between tuples"
   ]
  },
  {
   "cell_type": "code",
   "execution_count": 1,
   "metadata": {
    "collapsed": true
   },
   "outputs": [],
   "source": [
    "%load_ext autoreload\n",
    "%autoreload 2"
   ]
  },
  {
   "cell_type": "code",
   "execution_count": 2,
   "metadata": {
    "collapsed": false
   },
   "outputs": [],
   "source": [
    "import word_definite as WD\n",
    "from MatDB import *\n",
    "import matplotlib.pyplot as plt\n",
    "from IPython.display import display\n",
    "%matplotlib inline"
   ]
  },
  {
   "cell_type": "code",
   "execution_count": 3,
   "metadata": {
    "collapsed": true
   },
   "outputs": [],
   "source": [
    "import numpy as np\n",
    "import math\n",
    "np.set_printoptions(suppress=False, precision=16)"
   ]
  },
  {
   "cell_type": "code",
   "execution_count": 4,
   "metadata": {
    "collapsed": true
   },
   "outputs": [],
   "source": [
    "matDB = MatDB()"
   ]
  },
  {
   "cell_type": "code",
   "execution_count": 5,
   "metadata": {
    "collapsed": false
   },
   "outputs": [
    {
     "name": "stdout",
     "output_type": "stream",
     "text": [
      "443\n",
      "WD_Node[C: 0, P: 0, Adi @(31) => Adi]\n",
      "WD_Node[C: 1, P: 0, ca @(2) => ca]\n",
      "(895, 1)\n"
     ]
    }
   ],
   "source": [
    "WD.word_definite_extInit(matDB)\n",
    "# node2 = WD.word_definite('tIkzRam', 'tIkzRa', 31, 0, 0)\n",
    "node1 = WD.word_definite('Adi', 'Adi', 31, 0, 0)\n",
    "node2 = WD.word_definite('ca', 'ca', 2, 0, 1)\n",
    "# node1 = WD.word_definite('koRam', 'koRa', 31, 0, 1)\n",
    "print(node1)\n",
    "print(node2)\n",
    "\n",
    "feats = WD.Get_Features(node1, node2)\n",
    "print(feats.shape)"
   ]
  },
  {
   "cell_type": "code",
   "execution_count": 6,
   "metadata": {
    "collapsed": false
   },
   "outputs": [
    {
     "data": {
      "text/plain": [
       "10"
      ]
     },
     "execution_count": 6,
     "metadata": {},
     "output_type": "execute_result"
    }
   ],
   "source": [
    "matDB.mat_lem2lem_countonly['koRa']['Adi']"
   ]
  },
  {
   "cell_type": "code",
   "execution_count": 7,
   "metadata": {
    "collapsed": false
   },
   "outputs": [
    {
     "data": {
      "text/plain": [
       "195905"
      ]
     },
     "execution_count": 7,
     "metadata": {},
     "output_type": "execute_result"
    }
   ],
   "source": [
    "matDB.mat_lemCount_1D['Adi']"
   ]
  },
  {
   "cell_type": "code",
   "execution_count": 10,
   "metadata": {
    "collapsed": false
   },
   "outputs": [
    {
     "data": {
      "text/plain": [
       "6.01953125"
      ]
     },
     "execution_count": 10,
     "metadata": {},
     "output_type": "execute_result"
    }
   ],
   "source": [
    "feats.nbytes/(1024*1024)"
   ]
  },
  {
   "cell_type": "code",
   "execution_count": 7,
   "metadata": {
    "collapsed": false,
    "scrolled": true
   },
   "outputs": [],
   "source": [
    "# for i in range(1335):\n",
    "#     if feats[i] > 0:\n",
    "#         print(i) \n",
    "# feats[-500:]"
   ]
  },
  {
   "cell_type": "markdown",
   "metadata": {
    "collapsed": false
   },
   "source": [
    "### Get PMI B/W Tuples"
   ]
  },
  {
   "cell_type": "code",
   "execution_count": null,
   "metadata": {
    "collapsed": true
   },
   "outputs": [],
   "source": []
  },
  {
   "cell_type": "code",
   "execution_count": null,
   "metadata": {
    "collapsed": true
   },
   "outputs": [],
   "source": [
    "# pmi(x;y) = -log2[p(x|y)/p(x)]\n",
    "# def PMI(x, y, _pbModel):\n",
    "#     # x : node1\n",
    "#     # y : node2\n",
    "#     if(x in _pbModel.fullCo_oc_mat[y]):\n",
    "#         p_x_given_y = _pbModel.fullCo_oc_mat[y][x]/_pbModel.unigram_counts[y]\n",
    "#         p_x = _pbModel.unigram_counts[x]/_pbModel.unigram_total_count\n",
    "#         #print(p_x_given_y, ' ', p_x)\n",
    "#         return -math.log2(p_x_given_y/p_x)\n",
    "#     else:\n",
    "#         p_x_given_y = 1/_pbModel.unigram_counts[y]\n",
    "#         p_x = _pbModel.unigram_counts[x]/_pbModel.unigram_total_count\n",
    "#         #print(p_x_given_y, ' ', p_x)\n",
    "#         return -math.log2(p_x_given_y/p_x)"
   ]
  },
  {
   "cell_type": "markdown",
   "metadata": {},
   "source": [
    "### Get tuple pairs for feature importance "
   ]
  },
  {
   "cell_type": "code",
   "execution_count": 1,
   "metadata": {
    "collapsed": true
   },
   "outputs": [],
   "source": [
    "%load_ext autoreload\n",
    "%autoreload 2"
   ]
  },
  {
   "cell_type": "code",
   "execution_count": 2,
   "metadata": {
    "collapsed": false
   },
   "outputs": [],
   "source": [
    "import word_definite as WD\n",
    "from MatDB import *\n",
    "import matplotlib.pyplot as plt\n",
    "from IPython.display import display\n",
    "%matplotlib inline"
   ]
  },
  {
   "cell_type": "code",
   "execution_count": 3,
   "metadata": {
    "collapsed": true
   },
   "outputs": [],
   "source": [
    "import numpy as np\n",
    "import math\n",
    "np.set_printoptions(suppress=False, precision=16)"
   ]
  },
  {
   "cell_type": "code",
   "execution_count": 4,
   "metadata": {
    "collapsed": true
   },
   "outputs": [],
   "source": [
    "matDB = MatDB()"
   ]
  },
  {
   "cell_type": "code",
   "execution_count": 5,
   "metadata": {
    "collapsed": false
   },
   "outputs": [
    {
     "name": "stdout",
     "output_type": "stream",
     "text": [
      "443\n"
     ]
    }
   ],
   "source": [
    "WD.word_definite_extInit(matDB)"
   ]
  },
  {
   "cell_type": "code",
   "execution_count": 6,
   "metadata": {
    "collapsed": false
   },
   "outputs": [
    {
     "data": {
      "text/plain": [
       "217326"
      ]
     },
     "execution_count": 6,
     "metadata": {},
     "output_type": "execute_result"
    }
   ],
   "source": [
    "len(matDB.mat_tupCount_1D)"
   ]
  },
  {
   "cell_type": "code",
   "execution_count": 7,
   "metadata": {
    "collapsed": true
   },
   "outputs": [],
   "source": [
    "smallTupList = []\n",
    "for tup1, val in matDB.mat_tupCount_1D.items():\n",
    "    if val > 20:\n",
    "        smallTupList.append(tup1)      "
   ]
  },
  {
   "cell_type": "code",
   "execution_count": 8,
   "metadata": {
    "collapsed": false
   },
   "outputs": [
    {
     "name": "stdout",
     "output_type": "stream",
     "text": [
      "125596\n"
     ]
    }
   ],
   "source": [
    "l = len(smallTupList)\n",
    "print(l)"
   ]
  },
  {
   "cell_type": "code",
   "execution_count": 9,
   "metadata": {
    "collapsed": false
   },
   "outputs": [],
   "source": [
    "batchCount = 10\n",
    "perm = np.random.permutation(l)[:batchCount]\n",
    "# perm2 = np.random.permutation(l)[:batchCount]"
   ]
  },
  {
   "cell_type": "code",
   "execution_count": 10,
   "metadata": {
    "collapsed": false
   },
   "outputs": [
    {
     "name": "stdout",
     "output_type": "stream",
     "text": [
      "788992\n",
      "Will get feature vectors for 18 pairs\n"
     ]
    }
   ],
   "source": [
    "fN = 4*443**2 + 9*443 + 9\n",
    "print(fN)\n",
    "\n",
    "all_pairs = {}\n",
    "\n",
    "index = 0\n",
    "for k in range(batchCount):  \n",
    "    tup1 = smallTupList[perm[k]]\n",
    "    lem1 = tup1.split('_')\n",
    "    cng1 = lem1[1]\n",
    "    lem1 = lem1[0]\n",
    "    \n",
    "    node1 = WD.word_definite(None, lem1, cng1, 0, 0)\n",
    "    for tup2, co_occurrence in matDB.mat_tup2tup_countonly[tup1].items():\n",
    "        if co_occurrence > 4:\n",
    "            lem2 = tup2.split('_')\n",
    "            cng2 = lem2[1]\n",
    "            lem2 = lem2[0]\n",
    "            node2 = WD.word_definite(None, lem2, cng2, 0, 1)\n",
    "            all_pairs[index] = (node1, node2)\n",
    "            index += 1\n",
    "            \n",
    "print('Will get feature vectors for {} pairs'.format(index))\n",
    "total_examples = index\n"
   ]
  },
  {
   "cell_type": "code",
   "execution_count": 15,
   "metadata": {
    "collapsed": false,
    "scrolled": false
   },
   "outputs": [
    {
     "name": "stdout",
     "output_type": "stream",
     "text": [
      "Checkpoint S0E5 of 10\n",
      "Checkpoint S0E10 of 10\n",
      "Checkpoint S1E5 of 10\n"
     ]
    }
   ],
   "source": [
    "pairs_per_file = 10\n",
    "for pairx in range(math.ceil(len(all_pairs)/pairs_per_file)):\n",
    "    subset_pairs = range(pairx*pairs_per_file, min(len(all_pairs), (pairx + 1)*pairs_per_file))\n",
    "    featureMatrix = np.zeros((fN, len(subset_pairs)))\n",
    "    targetDict = {}\n",
    "    index = 0\n",
    "    current_pairs = {}\n",
    "    for hi in subset_pairs:\n",
    "        node1 = all_pairs[hi][0]\n",
    "        node2 = all_pairs[hi][1]\n",
    "        current_pairs[index] = '{}^{}'.format(node1.tup, node2.tup)\n",
    "        featureMatrix[:, index, None] = WD.Get_Features(node1, node2)\n",
    "        targetDict[index] = (matDB.mat_tup2tup_countonly[node1.tup][node2.tup],\\\n",
    "                              matDB.mat_lem2lem_countonly[node1.lemma][node2.lemma],\\\n",
    "                              matDB.mat_lem2tup_countonly[node1.lemma][node2.tup],\\\n",
    "                              matDB.mat_tup2lem_countonly[node1.tup][node2.lemma])\n",
    "        index += 1\n",
    "        if index % min(math.ceil(pairs_per_file/2), 100) == 0:\n",
    "            print('Checkpoint S{}E{} of {}'.format(pairx, index, pairs_per_file))\n",
    "    pickle.dump({'all_pairs': current_pairs, 'featureMatrix': featureMatrix, 'targetDict': targetDict},\\\n",
    "        open('outputs/featureSet_{}samples_8L_{}.p'.format(pairs_per_file, pairx), 'wb'), protocol = 4)"
   ]
  },
  {
   "cell_type": "code",
   "execution_count": 4,
   "metadata": {
    "collapsed": false
   },
   "outputs": [
    {
     "name": "stdout",
     "output_type": "stream",
     "text": [
      "All Pairs:\n"
     ]
    },
    {
     "data": {
      "text/plain": [
       "{0: 'vyaYjaka_3^sadBAva_169',\n",
       " 1: 'vyaYjaka_3^evam_2',\n",
       " 2: 'vyaYjaka_3^Adi_3',\n",
       " 3: 'kalpa_99^vajra_3',\n",
       " 4: 'kalpa_99^ca_2',\n",
       " 5: 'kalpa_99^agni_3',\n",
       " 6: 'kalpa_99^deva_3',\n",
       " 7: 'kalpa_99^Sara_99'}"
      ]
     },
     "metadata": {},
     "output_type": "display_data"
    },
    {
     "name": "stdout",
     "output_type": "stream",
     "text": [
      "Feature Matrix:\n"
     ]
    },
    {
     "data": {
      "text/plain": [
       "array([[ 0.0051107325383305,  0.0051107325383305,  0.0119250425894378, ...,\n",
       "         0.0023538026990271,  0.0017261219792865,  0.0006799874463856],\n",
       "       [ 0.010221465076661 ,  0.0357751277683135,  0.0374787052810903, ...,\n",
       "         0.039334658437075 ,  0.039334658437075 ,  0.0040799246783136],\n",
       "       [ 0.0051107325383305,  0.0051107325383305,  0.0085178875638842, ...,\n",
       "         0.0020922690658019,  0.0012030547128361,  0.0003138403598703],\n",
       "       ..., \n",
       "       [ 0.                ,  0.                ,  0.                , ...,\n",
       "         0.                ,  0.                ,  0.                ],\n",
       "       [ 0.                ,  0.                ,  0.                , ...,\n",
       "         0.                ,  0.                ,  0.                ],\n",
       "       [ 0.                ,  0.                ,  0.                , ...,\n",
       "         0.                ,  0.                ,  0.                ]])"
      ]
     },
     "metadata": {},
     "output_type": "display_data"
    },
    {
     "name": "stdout",
     "output_type": "stream",
     "text": [
      "Target Dict(counts of word2word, lem2lem, lem2word, word2lem):\n"
     ]
    },
    {
     "data": {
      "text/plain": [
       "{0: (6, 3, 3, 3),\n",
       " 1: (5, 3, 3, 3),\n",
       " 2: (5, 7, 5, 5),\n",
       " 3: (6, 19, 19, 5),\n",
       " 4: (18, 223, 222, 14),\n",
       " 5: (14, 45, 40, 14),\n",
       " 6: (6, 33, 23, 6),\n",
       " 7: (6, 13, 6, 7)}"
      ]
     },
     "metadata": {},
     "output_type": "display_data"
    }
   ],
   "source": [
    "featureBox = pickle.load(open('outputs/featureSet_10samples_8L_1.p', 'rb'))\n",
    "print('All Pairs:')\n",
    "display(featureBox['all_pairs'])\n",
    "print('Feature Matrix:')\n",
    "display(featureBox['featureMatrix'])\n",
    "print('Target Dict(counts of word2word, lem2lem, lem2word, word2lem):')\n",
    "display(featureBox['targetDict'])"
   ]
  },
  {
   "cell_type": "code",
   "execution_count": 49,
   "metadata": {
    "collapsed": false
   },
   "outputs": [
    {
     "data": {
      "text/plain": [
       "(788992, 2)"
      ]
     },
     "execution_count": 49,
     "metadata": {},
     "output_type": "execute_result"
    }
   ],
   "source": [
    "featureMatrix.shape"
   ]
  },
  {
   "cell_type": "code",
   "execution_count": 16,
   "metadata": {
    "collapsed": false
   },
   "outputs": [],
   "source": [
    "for key, val in all_pairs.items():\n",
    "    all_pairs[key] = (val[0].tup, val[1].tup)"
   ]
  },
  {
   "cell_type": "code",
   "execution_count": 19,
   "metadata": {
    "collapsed": false
   },
   "outputs": [
    {
     "data": {
      "text/plain": [
       "8595.890625"
      ]
     },
     "execution_count": 19,
     "metadata": {},
     "output_type": "execute_result"
    }
   ],
   "source": [
    "featureMatrix.nbytes/(1024*1024)"
   ]
  },
  {
   "cell_type": "code",
   "execution_count": 18,
   "metadata": {
    "collapsed": false
   },
   "outputs": [
    {
     "data": {
      "text/plain": [
       "(788992, 1428)"
      ]
     },
     "execution_count": 18,
     "metadata": {},
     "output_type": "execute_result"
    }
   ],
   "source": [
    "featureMatrix.shape"
   ]
  },
  {
   "cell_type": "code",
   "execution_count": 21,
   "metadata": {
    "collapsed": false
   },
   "outputs": [],
   "source": [
    "\n",
    "pickle.dump({'all_pairs': all_pairs, 'featureMatrix': featureMatrix[:, 400:800], 'targetMatrix': targetMatrix},\\\n",
    "            open('outputs/featureSet_1428p_8L_1.p', 'wb'), protocol = 4)\n",
    "pickle.dump({'all_pairs': all_pairs, 'featureMatrix': featureMatrix[:, 800:], 'targetMatrix': targetMatrix},\\\n",
    "            open('outputs/featureSet_1428p_8L_2.p', 'wb'), protocol = 4)"
   ]
  },
  {
   "cell_type": "code",
   "execution_count": 47,
   "metadata": {
    "collapsed": true
   },
   "outputs": [],
   "source": [
    "varVec = np.zeros((fN, 1))\n",
    "meanVec = np.zeros((fN, 1))"
   ]
  },
  {
   "cell_type": "code",
   "execution_count": 48,
   "metadata": {
    "collapsed": false
   },
   "outputs": [],
   "source": [
    "for fk in range(fN):\n",
    "    varVec[fk] = np.var(featureMatrix[fk, :])\n",
    "    meanVec[fk] = np.mean(featureMatrix[fk, :])"
   ]
  },
  {
   "cell_type": "code",
   "execution_count": 68,
   "metadata": {
    "collapsed": false
   },
   "outputs": [
    {
     "name": "stderr",
     "output_type": "stream",
     "text": [
      "d:\\program files\\anaconda3\\lib\\site-packages\\ipykernel\\__main__.py:1: RuntimeWarning: invalid value encountered in true_divide\n",
      "  if __name__ == '__main__':\n"
     ]
    }
   ],
   "source": [
    "fanoFactors = varVec/meanVec"
   ]
  },
  {
   "cell_type": "code",
   "execution_count": 71,
   "metadata": {
    "collapsed": false
   },
   "outputs": [],
   "source": [
    "fanoFactors = fanoFactors[~np.isnan(fanoFactors)]\n",
    "fanoFactors = fanoFactors[fanoFactors > 0.0025]"
   ]
  },
  {
   "cell_type": "code",
   "execution_count": 72,
   "metadata": {
    "collapsed": false,
    "scrolled": true
   },
   "outputs": [
    {
     "data": {
      "text/plain": [
       "(array([ 10.,   1.,   1.,   2.,   0.,   3.,   2.,   1.,   0.,   1.]),\n",
       " array([ 0.0027130129321566,  0.0049483498450054,  0.0071836867578543,\n",
       "         0.0094190236707031,  0.0116543605835519,  0.0138896974964008,\n",
       "         0.0161250344092496,  0.0183603713220984,  0.0205957082349473,\n",
       "         0.0228310451477961,  0.0250663820606449]),\n",
       " <a list of 10 Patch objects>)"
      ]
     },
     "execution_count": 72,
     "metadata": {},
     "output_type": "execute_result"
    },
    {
     "data": {
      "image/png": "[encoded data removed]",
      "text/plain": [
       "<matplotlib.figure.Figure at 0x17c31c47438>"
      ]
     },
     "metadata": {},
     "output_type": "display_data"
    }
   ],
   "source": [
    "plt.hist(fanoFactors)"
   ]
  },
  {
   "cell_type": "markdown",
   "metadata": {
    "collapsed": false,
    "scrolled": true
   },
   "source": [
    "### Checking Features / Counting features\n",
    "\n",
    "- Selecting Features and reducing size based on unique counts"
   ]
  },
  {
   "cell_type": "code",
   "execution_count": 1,
   "metadata": {
    "collapsed": false
   },
   "outputs": [],
   "source": [
    "import pickle\n",
    "import numpy as np\n",
    "import matplotlib.pyplot as plt\n",
    "import os\n",
    "%matplotlib inline"
   ]
  },
  {
   "cell_type": "code",
   "execution_count": 2,
   "metadata": {
    "collapsed": true
   },
   "outputs": [],
   "source": [
    "np.set_printoptions(suppress=True)"
   ]
  },
  {
   "cell_type": "code",
   "execution_count": 29,
   "metadata": {
    "collapsed": false
   },
   "outputs": [],
   "source": [
    "folder = 'outputs/Features_of_10K_pairs/'\n",
    "feat_fNames = [folder + fName for fName in os.listdir(folder)]"
   ]
  },
  {
   "cell_type": "code",
   "execution_count": 30,
   "metadata": {
    "collapsed": false
   },
   "outputs": [
    {
     "data": {
      "text/plain": [
       "'.p'"
      ]
     },
     "execution_count": 30,
     "metadata": {},
     "output_type": "execute_result"
    }
   ],
   "source": [
    "feat_fNames[0][-2:]"
   ]
  },
  {
   "cell_type": "code",
   "execution_count": 31,
   "metadata": {
    "collapsed": false
   },
   "outputs": [
    {
     "name": "stdout",
     "output_type": "stream",
     "text": [
      "Opening outputs/Features_of_10K_pairs/featureSet_500samples_8L_13.p\n",
      "Opening outputs/Features_of_10K_pairs/featureSet_500samples_8L_14.p\n",
      "Opening outputs/Features_of_10K_pairs/featureSet_500samples_8L_9.p\n",
      "Opening outputs/Features_of_10K_pairs/featureSet_500samples_8L_10.p\n",
      "Opening outputs/Features_of_10K_pairs/featureSet_500samples_8L_4.p\n",
      "Opening outputs/Features_of_10K_pairs/featureSet_500samples_8L_11.p\n",
      "Opening outputs/Features_of_10K_pairs/featureSet_500samples_8L_19.p\n",
      "Opening outputs/Features_of_10K_pairs/featureSet_500samples_8L_0.p\n",
      "Opening outputs/Features_of_10K_pairs/featureSet_500samples_8L_5.p\n",
      "Opening outputs/Features_of_10K_pairs/featureSet_500samples_8L_12.p\n",
      "Opening outputs/Features_of_10K_pairs/featureSet_500samples_8L_16.p\n",
      "Opening outputs/Features_of_10K_pairs/featureSet_500samples_8L_17.p\n",
      "Opening outputs/Features_of_10K_pairs/featureSet_500samples_8L_7.p\n",
      "Opening outputs/Features_of_10K_pairs/featureSet_500samples_8L_15.p\n",
      "Opening outputs/Features_of_10K_pairs/featureSet_500samples_8L_3.p\n",
      "Opening outputs/Features_of_10K_pairs/featureSet_500samples_8L_1.p\n",
      "Opening outputs/Features_of_10K_pairs/featureSet_500samples_8L_6.p\n",
      "Opening outputs/Features_of_10K_pairs/featureSet_500samples_8L_2.p\n",
      "Opening outputs/Features_of_10K_pairs/featureSet_500samples_8L_18.p\n",
      "Opening outputs/Features_of_10K_pairs/featureSet_500samples_8L_8.p\n"
     ]
    }
   ],
   "source": [
    "feat_unique_counts = np.array([0]*788992)\n",
    "for feat_f in feat_fNames:\n",
    "    if feat_f[-2:] != '.p':\n",
    "        continue\n",
    "    print('Opening ' + feat_f)\n",
    "    %reset_selective -f featureSet\n",
    "    featureSet = pickle.load(open(feat_f, 'rb'), encoding=u'utf8')\n",
    "#     print(featureSet.keys())\n",
    "    len(featureSet['all_pairs'])\n",
    "    featureSet['featureMatrix'].shape\n",
    "    feat_unique_counts += np.apply_along_axis(lambda x: np.unique(x).shape[0], 1, featureSet['featureMatrix'])"
   ]
  },
  {
   "cell_type": "code",
   "execution_count": 32,
   "metadata": {
    "collapsed": true
   },
   "outputs": [],
   "source": [
    "feat_unique_counts = np.floor(feat_unique_counts/20).astype(np.int32)"
   ]
  },
  {
   "cell_type": "code",
   "execution_count": 33,
   "metadata": {
    "collapsed": false
   },
   "outputs": [
    {
     "name": "stdout",
     "output_type": "stream",
     "text": [
      "[ 501176.   56161.   54632.   41643.   30633.   24374.   19087.   15477.\n",
      "   13087.   10786.    8858.    7096.    4553.    1184.     245.]\n",
      "[  0  32  64  96 128 160 192 224 256 288 320 352 384 416 448 480]\n"
     ]
    },
    {
     "data": {
      "image/png": "[encoded data removed]",
      "text/plain": [
       "<matplotlib.figure.Figure at 0x7f062a85a9b0>"
      ]
     },
     "metadata": {},
     "output_type": "display_data"
    }
   ],
   "source": [
    "hist_with_binsize = lambda v, binsize: plt.hist(v, bins=range(0, max(v) + binsize, binsize))\n",
    "what1, what2, _ = hist_with_binsize(feat_unique_counts, 32)\n",
    "print(what1)\n",
    "print(what2)"
   ]
  },
  {
   "cell_type": "code",
   "execution_count": 34,
   "metadata": {
    "collapsed": false
   },
   "outputs": [
    {
     "data": {
      "text/plain": [
       "array([  0,  32,  64,  96, 128, 160, 192, 224, 256, 288, 320, 352, 384,\n",
       "       416, 448, 480])"
      ]
     },
     "execution_count": 34,
     "metadata": {},
     "output_type": "execute_result"
    }
   ],
   "source": [
    "what2"
   ]
  },
  {
   "cell_type": "code",
   "execution_count": 41,
   "metadata": {
    "collapsed": false
   },
   "outputs": [
    {
     "name": "stdout",
     "output_type": "stream",
     "text": [
      "(2066,)\n"
     ]
    }
   ],
   "source": [
    "select_features = np.where(feat_unique_counts >= 410)[0]\n",
    "print(select_features.shape)"
   ]
  },
  {
   "cell_type": "code",
   "execution_count": 42,
   "metadata": {
    "collapsed": false
   },
   "outputs": [
    {
     "data": {
      "text/plain": [
       "(788992, 500)"
      ]
     },
     "execution_count": 42,
     "metadata": {},
     "output_type": "execute_result"
    }
   ],
   "source": [
    "featureSet['featureMatrix'].shape"
   ]
  },
  {
   "cell_type": "code",
   "execution_count": 43,
   "metadata": {
    "collapsed": false
   },
   "outputs": [],
   "source": [
    "mat_cngCount_1D = pickle.load(open('../NewData/gauravs/Temporary_1D/mat_cngCount_1D.p', 'rb'), encoding = u'utf-8')"
   ]
  },
  {
   "cell_type": "code",
   "execution_count": 44,
   "metadata": {
    "collapsed": false
   },
   "outputs": [],
   "source": [
    "_full_cnglist = list(mat_cngCount_1D)\n",
    "_cg_count = len(mat_cngCount_1D)"
   ]
  },
  {
   "cell_type": "code",
   "execution_count": 45,
   "metadata": {
    "collapsed": false
   },
   "outputs": [],
   "source": [
    "feats = {}\n",
    "fIndex = 0\n",
    "feats[fIndex] = ('L', 'L'); fIndex += 1;\n",
    "feats[fIndex] = ('L', 'C'); fIndex += 1;\n",
    "feats[fIndex] = ('L', 'T'); fIndex += 1;\n",
    "\n",
    "feats[fIndex] = ('C', 'L'); fIndex += 1;\n",
    "feats[fIndex] = ('C', 'C'); fIndex += 1;\n",
    "feats[fIndex] = ('C', 'T'); fIndex += 1;\n",
    "\n",
    "feats[fIndex] = ('T', 'L'); fIndex += 1;\n",
    "feats[fIndex] = ('T', 'C'); fIndex += 1;\n",
    "feats[fIndex] = ('T', 'T'); fIndex += 1;\n",
    "\n",
    "# Path Constraint - Length 2 - # _cg_count\n",
    "\n",
    "# LEMMA->CNG->LEMMA\n",
    "for k in range(0, _cg_count):\n",
    "    cng_k = _full_cnglist[k]\n",
    "    feats[fIndex + k] = ('lem', cng_k, 'lem')\n",
    "fIndex += _cg_count\n",
    "\n",
    "# LEMMA->CNG->CNG\n",
    "for k in range(0, _cg_count):\n",
    "    cng_k = _full_cnglist[k]\n",
    "    feats[fIndex + k] = ('lem', cng_k, 'cng')\n",
    "fIndex += _cg_count\n",
    "\n",
    "# LEMMA->CNG->TUP\n",
    "for k in range(0, _cg_count):\n",
    "    cng_k = _full_cnglist[k]\n",
    "    feats[fIndex + k] = ('lem', cng_k, 'tup')\n",
    "fIndex += _cg_count\n",
    "\n",
    "# CNG->CNG->LEMMA\n",
    "for k in range(0, _cg_count):\n",
    "    cng_k = _full_cnglist[k]\n",
    "    feats[fIndex + k] = ('cng', cng_k, 'lem')\n",
    "fIndex += _cg_count\n",
    "\n",
    "# CNG->CNG->CNG\n",
    "for k in range(0, _cg_count):\n",
    "    cng_k = _full_cnglist[k]\n",
    "    feats[fIndex + k] = ('cng', cng_k, 'cng')\n",
    "fIndex += _cg_count\n",
    "\n",
    "# CNG->CNG->TUP\n",
    "for k in range(0, _cg_count):\n",
    "    cng_k = _full_cnglist[k]\n",
    "    feats[fIndex + k] = ('cng', cng_k, 'tup')\n",
    "fIndex += _cg_count\n",
    "\n",
    "# TUP->CNG->LEMMA :: TOO MANY ZEROS\n",
    "for k in range(0, _cg_count):\n",
    "    cng_k = _full_cnglist[k]\n",
    "    feats[fIndex + k] = ('tup', cng_k, 'lem')\n",
    "fIndex += _cg_count\n",
    "\n",
    "# TUP->CNG->CNG :: TOO MANY ZEROS\n",
    "for k in range(0, _cg_count):\n",
    "    cng_k = _full_cnglist[k]\n",
    "    feats[fIndex + k] = ('tup', cng_k, 'cng')\n",
    "fIndex += _cg_count\n",
    "\n",
    "# TUP->CNG->TUP :: TOO MANY ZEROS\n",
    "for k in range(0, _cg_count):\n",
    "    cng_k = _full_cnglist[k]\n",
    "    feats[fIndex + k] = ('tup', cng_k, 'tup')\n",
    "fIndex += _cg_count\n",
    "\n",
    "# Path Constraint - Length 3 - # _cg_count^2\n",
    "\n",
    "# LEMMA->CGS->CGS->LEMMA\n",
    "for k1 in range(0, _cg_count):\n",
    "    cng_k1 = _full_cnglist[k1]\n",
    "    for k2 in range(0, _cg_count): \n",
    "        cng_k2 = _full_cnglist[k2]\n",
    "        feats[fIndex + k1*_cg_count + k2] = ('L', cng_k1, cng_k2, 'L')\n",
    "fIndex += _cg_count**2\n",
    "\n",
    "# LEMMA->CGS->CGS->TUP\n",
    "for k1 in range(0, _cg_count):\n",
    "    cng_k1 = _full_cnglist[k1]\n",
    "    for k2 in range(0, _cg_count): \n",
    "        cng_k2 = _full_cnglist[k2]\n",
    "        feats[fIndex + k1*_cg_count + k2] = ('L', cng_k1, cng_k2, 'T')\n",
    "fIndex += _cg_count**2\n",
    "\n",
    "# TUP->CGS->CGS->LEM\n",
    "for k1 in range(0, _cg_count):\n",
    "    cng_k1 = _full_cnglist[k1]\n",
    "    for k2 in range(0, _cg_count): \n",
    "        cng_k2 = _full_cnglist[k2]\n",
    "        feats[fIndex + k1*_cg_count + k2] = ('T', cng_k1, cng_k2, 'L')\n",
    "fIndex += _cg_count**2\n",
    "\n",
    "# TUP->CGS->CGS->TUP\n",
    "for k1 in range(0, _cg_count):\n",
    "    cng_k1 = _full_cnglist[k1]\n",
    "    for k2 in range(0, _cg_count): \n",
    "        cng_k2 = _full_cnglist[k2]\n",
    "        feats[fIndex + k1*_cg_count + k2] = ('T', cng_k1, cng_k2, 'T')\n",
    "fIndex += _cg_count**2"
   ]
  },
  {
   "cell_type": "code",
   "execution_count": 46,
   "metadata": {
    "collapsed": false
   },
   "outputs": [],
   "source": [
    "for key in list(feats.keys()):\n",
    "    if key not in select_features:\n",
    "        feats.pop(key)"
   ]
  },
  {
   "cell_type": "code",
   "execution_count": 47,
   "metadata": {
    "collapsed": false,
    "scrolled": true
   },
   "outputs": [],
   "source": [
    "# select_features"
   ]
  },
  {
   "cell_type": "code",
   "execution_count": 48,
   "metadata": {
    "collapsed": false,
    "scrolled": true
   },
   "outputs": [],
   "source": [
    "# pickle.dump(feats, open('outputs/selected_feats.p', 'wb'))"
   ]
  },
  {
   "cell_type": "code",
   "execution_count": 49,
   "metadata": {
    "collapsed": false
   },
   "outputs": [
    {
     "name": "stdout",
     "output_type": "stream",
     "text": [
      "Opening featureSet_500samples_8L_13.p\n",
      "Opening featureSet_500samples_8L_14.p\n",
      "Opening featureSet_500samples_8L_9.p\n",
      "Opening featureSet_500samples_8L_10.p\n",
      "Opening featureSet_500samples_8L_4.p\n",
      "Opening featureSet_500samples_8L_11.p\n",
      "Opening featureSet_500samples_8L_19.p\n",
      "Opening featureSet_500samples_8L_0.p\n",
      "Opening featureSet_500samples_8L_5.p\n",
      "Opening featureSet_500samples_8L_12.p\n",
      "Opening featureSet_500samples_8L_16.p\n",
      "Opening featureSet_500samples_8L_17.p\n",
      "Opening featureSet_500samples_8L_7.p\n",
      "Opening featureSet_500samples_8L_15.p\n",
      "Opening featureSet_500samples_8L_3.p\n",
      "Opening featureSet_500samples_8L_1.p\n",
      "Opening featureSet_500samples_8L_6.p\n",
      "Opening featureSet_500samples_8L_2.p\n",
      "Opening featureSet_500samples_8L_18.p\n",
      "Opening featureSet_500samples_8L_8.p\n"
     ]
    }
   ],
   "source": [
    "folder = 'outputs/Features_of_10K_pairs/'\n",
    "feat_fNames = os.listdir(folder)\n",
    "\n",
    "feat_unique_counts = np.array([0]*788992)\n",
    "for feat_f in feat_fNames:\n",
    "    if feat_f[-2:] != '.p':\n",
    "        continue\n",
    "    print('Opening ' + feat_f)\n",
    "    %reset_selective -f featureSet\n",
    "    featureSet = pickle.load(open(folder + feat_f, 'rb'), encoding=u'utf8')\n",
    "    featureSet['featureMatrix'] = featureSet['featureMatrix'][select_features, :] \n",
    "    pickle.dump(featureSet, open('outputs/Features_of_10K_reduced/' + feat_f, 'wb') )"
   ]
  },
  {
   "cell_type": "markdown",
   "metadata": {},
   "source": [
    "### Further reduce size of feature vectors\n",
    "\n",
    "- Use the earlier created reduced set feature vectors"
   ]
  },
  {
   "cell_type": "code",
   "execution_count": 50,
   "metadata": {
    "collapsed": true
   },
   "outputs": [],
   "source": [
    "import pickle\n",
    "import numpy as np\n",
    "import matplotlib.pyplot as plt\n",
    "import os\n",
    "%matplotlib inline"
   ]
  },
  {
   "cell_type": "code",
   "execution_count": 51,
   "metadata": {
    "collapsed": true
   },
   "outputs": [],
   "source": [
    "folder = 'outputs/Features_of_10K_reduced/'\n",
    "feat_fNames = os.listdir(folder)"
   ]
  },
  {
   "cell_type": "code",
   "execution_count": 52,
   "metadata": {
    "collapsed": true
   },
   "outputs": [],
   "source": [
    "select_feats =pickle.load(open('outputs/selected_feats.p', 'rb'))\n",
    "featureMatrix = np.ndarray((20*500, len(select_feats)))\n",
    "targetDict = np.ndarray((20*500, 4))\n",
    "all_pairs = []"
   ]
  },
  {
   "cell_type": "code",
   "execution_count": 53,
   "metadata": {
    "collapsed": true
   },
   "outputs": [],
   "source": [
    "start_i = 0\n",
    "for feat_f in feat_fNames:\n",
    "    %reset_selective -f featureSet\n",
    "    featureSet = pickle.load(open(folder + feat_f, 'rb'), encoding=u'utf8')\n",
    "    featureMatrix[start_i:(start_i + featureSet['featureMatrix'].shape[1]), :] = featureSet['featureMatrix'].transpose()    \n",
    "    for k in featureSet['targetDict'].keys():\n",
    "        targetDict[start_i + k, :] = np.asarray(np.asarray(featureSet['targetDict'][k]))\n",
    "    \n",
    "    start_i += featureSet['featureMatrix'].shape[1]\n",
    "    all_pairs.extend(featureSet['all_pairs'])\n",
    "    "
   ]
  },
  {
   "cell_type": "code",
   "execution_count": 54,
   "metadata": {
    "collapsed": false
   },
   "outputs": [
    {
     "data": {
      "text/plain": [
       "(10000, 2066)"
      ]
     },
     "execution_count": 54,
     "metadata": {},
     "output_type": "execute_result"
    }
   ],
   "source": [
    "featureMatrix.shape"
   ]
  },
  {
   "cell_type": "markdown",
   "metadata": {},
   "source": [
    "#### Feature selection using sklearn.feature_selection package"
   ]
  },
  {
   "cell_type": "code",
   "execution_count": 56,
   "metadata": {
    "collapsed": true
   },
   "outputs": [],
   "source": [
    "from sklearn.feature_selection import SelectKBest\n",
    "from sklearn.feature_selection import mutual_info_regression\n",
    "from sklearn.cross_validation import cross_val_score\n",
    "from sklearn.ensemble import RandomForestRegressor"
   ]
  },
  {
   "cell_type": "code",
   "execution_count": 57,
   "metadata": {
    "collapsed": true
   },
   "outputs": [],
   "source": [
    "# Used mutual_info_regression for selecting features as it can capture non-linear relationships also\n",
    "# select_feats = SelectKBest(mutual_info_regression, k = 200).fit_transform(featureMatrix, targetDict[:, 0])\n"
   ]
  },
  {
   "cell_type": "code",
   "execution_count": null,
   "metadata": {
    "collapsed": true
   },
   "outputs": [],
   "source": [
    "score = cross_val_score(estimator, select_feats, targetDict[:, 0]).mean()\n",
    "print(\"Score with the entire dataset = %.2f\" % score)"
   ]
  },
  {
   "cell_type": "markdown",
   "metadata": {},
   "source": [
    "#### Observer Mutual Information"
   ]
  },
  {
   "cell_type": "code",
   "execution_count": 61,
   "metadata": {
    "collapsed": false
   },
   "outputs": [],
   "source": [
    "# estimator = RandomForestRegressor(random_state=0, n_estimators=20)\n",
    "mi = mutual_info_regression(featureMatrix, targetDict[:, 1])"
   ]
  },
  {
   "cell_type": "code",
   "execution_count": 60,
   "metadata": {
    "collapsed": false
   },
   "outputs": [
    {
     "data": {
      "text/plain": [
       "(array([ 1418.,   187.,   182.,   118.,    84.,    44.,    18.,     8.,\n",
       "            5.,     2.]),\n",
       " array([ 0.        ,  0.00072314,  0.00144628,  0.00216943,  0.00289257,\n",
       "         0.00361571,  0.00433885,  0.00506199,  0.00578513,  0.00650828,\n",
       "         0.00723142]),\n",
       " <a list of 10 Patch objects>)"
      ]
     },
     "execution_count": 60,
     "metadata": {},
     "output_type": "execute_result"
    },
    {
     "data": {
      "image/png": "[encoded data removed]",
      "text/plain": [
       "<matplotlib.figure.Figure at 0x7f062a887c50>"
      ]
     },
     "metadata": {},
     "output_type": "display_data"
    }
   ],
   "source": [
    "plt.hist(mi)"
   ]
  }
 ],
 "metadata": {
  "anaconda-cloud": {},
  "kernelspec": {
   "display_name": "Python [Root]",
   "language": "python",
   "name": "Python [Root]"
  },
  "language_info": {
   "codemirror_mode": {
    "name": "ipython",
    "version": 3
   },
   "file_extension": ".py",
   "mimetype": "text/x-python",
   "name": "python",
   "nbconvert_exporter": "python",
   "pygments_lexer": "ipython3",
   "version": "3.5.2"
  }
 },
 "nbformat": 4,
 "nbformat_minor": 1
}
