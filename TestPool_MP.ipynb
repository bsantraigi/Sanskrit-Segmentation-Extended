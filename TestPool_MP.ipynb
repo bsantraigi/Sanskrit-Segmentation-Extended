{
 "cells": [
  {
   "cell_type": "markdown",
   "metadata": {
    "tags": [
     "Header"
    ]
   },
   "source": [
    "#### MP based asynchronous testing"
   ]
  },
  {
   "cell_type": "code",
   "execution_count": 1,
   "metadata": {
    "collapsed": true,
    "tags": [
     "Header"
    ]
   },
   "outputs": [],
   "source": [
    "%load_ext autoreload\n",
    "%autoreload 2"
   ]
  },
  {
   "cell_type": "code",
   "execution_count": 2,
   "metadata": {},
   "outputs": [
    {
     "name": "stderr",
     "output_type": "stream",
     "text": [
      "/home/rs/15CS91R05/Documents/anaconda3/envs/py3_bishal/lib/python3.6/site-packages/matplotlib/font_manager.py:280: UserWarning: Matplotlib is building the font cache using fc-list. This may take a moment.\n",
      "  'Matplotlib is building the font cache using fc-list. '\n"
     ]
    }
   ],
   "source": [
    "import multiprocessing as mp\n",
    "import TestPool_Unit\n",
    "from shutil import copyfile\n",
    "import numpy as np"
   ]
  },
  {
   "cell_type": "code",
   "execution_count": 3,
   "metadata": {
    "collapsed": true
   },
   "outputs": [],
   "source": [
    "from collections import defaultdict"
   ]
  },
  {
   "cell_type": "code",
   "execution_count": 4,
   "metadata": {
    "collapsed": true
   },
   "outputs": [],
   "source": [
    "def Evaluate(result_arr):\n",
    "    print('Files Processed: ', len(result_arr))\n",
    "    recalls = []\n",
    "    recalls_of_word = []\n",
    "    precisions = []\n",
    "    precisions_of_words = []\n",
    "    fully_Correct_l = 0\n",
    "    fully_Correct_w = 0\n",
    "    for entry in result_arr:\n",
    "        (word_match, lemma_match, n_dcsWords, n_output_nodes) = entry\n",
    "        recalls.append(lemma_match/n_dcsWords)\n",
    "        recalls_of_word.append(word_match/n_dcsWords)\n",
    "\n",
    "        precisions.append(lemma_match/n_output_nodes)\n",
    "        precisions_of_words.append(word_match/n_output_nodes)\n",
    "        if lemma_match == n_dcsWords:\n",
    "            fully_Correct_l += 1\n",
    "        if word_match == n_dcsWords:\n",
    "            fully_Correct_w += 1\n",
    "    print('Avg. Micro Recall of Lemmas: {}'.format(np.mean(np.array(recalls))))\n",
    "    print('Avg. Micro Recall of Words: {}'.format(np.mean(np.array(recalls_of_word))))\n",
    "    print('Avg. Micro Precision of Lemmas: {}'.format(np.mean(np.array(precisions))))\n",
    "    print('Avg. Micro Precision of Words: {}'.format(np.mean(np.array(precisions_of_words))))\n",
    "    rl = np.mean(np.array(recalls))\n",
    "    pl = np.mean(np.array(precisions))\n",
    "    print('F-Score of Lemmas: ', (2*pl*rl)/(pl+rl))\n",
    "    print('Fully Correct Lemmawise: {}'.format(fully_Correct_l/len(recalls_of_word)))\n",
    "    print('Fully Correct Wordwise: {}'.format(fully_Correct_w/len(recalls_of_word)))\n",
    "    print('[{:0.2f}, {:0.2f}, {:0.2f}, {:0.2f}, {:0.2f}, {:0.2f}, {:0.2f}]'.format(100*np.mean(np.array(recalls)), 100*np.mean(np.array(recalls_of_word)), 100*np.mean(np.array(precisions)), \\\n",
    "           100*np.mean(np.array(precisions_of_words)), 100*(2*pl*rl)/(pl+rl), 100*fully_Correct_l/len(recalls_of_word),\\\n",
    "           100*fully_Correct_w/len(recalls_of_word)))"
   ]
  },
  {
   "cell_type": "code",
   "execution_count": 5,
   "metadata": {},
   "outputs": [
    {
     "name": "stdout",
     "output_type": "stream",
     "text": [
      "Child process with vpid:0, pid:10934 started.\n",
      "Child process with vpid:1, pid:10935 started.\n",
      "Child process with vpid:3, pid:10941 started.\n",
      "Child process with vpid:2, pid:10938 started.\n",
      "Keep Prob = 0.6, Dropout = 0.4\n",
      "Keep Prob = 0.6, Dropout = 0.4\n",
      "Keep Prob = 0.6, Dropout = 0.4\n",
      "Keep Prob = 0.6, Dropout = 0.4\n",
      "vpid:3: Range is 7200 -> 9600 / 9577\n",
      "vpid:2: Range is 4800 -> 7200 / 9577\n",
      "vpid:0: Range is 0 -> 2400 / 9577\n",
      "vpid:1: Range is 2400 -> 4800 / 9577\n",
      "Child process with vpid:1, pid:10935 closed.\n"
     ]
    },
    {
     "name": "stderr",
     "output_type": "stream",
     "text": [
      "Process Process-4:\n",
      "Traceback (most recent call last):\n",
      "  File \"/home/rs/15CS91R05/Documents/anaconda3/envs/py3_bishal/lib/python3.6/multiprocessing/process.py\", line 249, in _bootstrap\n",
      "    self.run()\n",
      "  File \"/home/rs/15CS91R05/Documents/anaconda3/envs/py3_bishal/lib/python3.6/multiprocessing/process.py\", line 93, in run\n",
      "    self._target(*self._args, **self._kwargs)\n",
      "  File \"/home/rs/15CS91R05/Bishal/Clean_n_clear/TestPool_Unit.py\", line 34, in pooled_Test\n",
      "    fn = TestFiles[i]\n",
      "IndexError: list index out of range\n"
     ]
    },
    {
     "name": "stdout",
     "output_type": "stream",
     "text": [
      "Child process with vpid:2, pid:10938 closed.\n",
      "Child process with vpid:0, pid:10934 closed.\n"
     ]
    }
   ],
   "source": [
    "modelFile = 'outputs/train_t2753954441900/nnet_e1_i400.p' #PM2\n",
    "_dump = False\n",
    "if _dump:\n",
    "    _outFile = 'outputs/dump_predictions/PM2_NLoss'\n",
    "else:\n",
    "    _outFile = None\n",
    "\n",
    "# Backup the model file\n",
    "copyfile(modelFile, modelFile + '.bk')\n",
    "\n",
    "# Create Queue, Result array\n",
    "queue = mp.Queue()\n",
    "result_arr = []\n",
    "\n",
    "# Start 6 workers - 8 slows down the pc\n",
    "proc_count = 4\n",
    "procs = [None]*proc_count\n",
    "for i in range(proc_count):\n",
    "    vpid = i\n",
    "    procs[i] = mp.Process(target = TestPool_Unit.pooled_Test, args = \\\n",
    "                          (modelFile, vpid, queue, '../NewData/skt_dcs_DS.bz2_4K_pmi_mir_heldout/', int(9600/proc_count), _dump, _outFile))\n",
    "# Start Processes\n",
    "for i in range(proc_count):\n",
    "    procs[i].start()"
   ]
  },
  {
   "cell_type": "code",
   "execution_count": 20,
   "metadata": {},
   "outputs": [
    {
     "name": "stdout",
     "output_type": "stream",
     "text": [
      "Files Processed:  9577\n",
      "Avg. Micro Recall of Lemmas: 0.8488105596019528\n",
      "Avg. Micro Recall of Words: 0.7417558132070324\n",
      "Avg. Micro Precision of Lemmas: 0.7834907014618754\n",
      "Avg. Micro Precision of Words: 0.6853795564966576\n",
      "F-Score of Lemmas:  0.814843676978\n",
      "Fully Correct Lemmawise: 0.37757126448783546\n",
      "Fully Correct Wordwise: 0.17615119557272632\n",
      "[84.88, 74.18, 78.35, 68.54, 81.48, 37.76, 17.62]\n"
     ]
    }
   ],
   "source": [
    "# Fetch partial results\n",
    "while not queue.empty():\n",
    "    result_arr.append(queue.get())\n",
    "# Evaluate results till now\n",
    "Evaluate(result_arr)"
   ]
  },
  {
   "cell_type": "code",
   "execution_count": 7,
   "metadata": {
    "scrolled": true
   },
   "outputs": [
    {
     "name": "stdout",
     "output_type": "stream",
     "text": [
      "Process with\t vpid: 0\t ->\t pid: 10934\t ->\t running status: True\n",
      "Process with\t vpid: 1\t ->\t pid: 10935\t ->\t running status: True\n",
      "Process with\t vpid: 2\t ->\t pid: 10938\t ->\t running status: True\n",
      "Process with\t vpid: 3\t ->\t pid: 10941\t ->\t running status: True\n"
     ]
    }
   ],
   "source": [
    "# Check status\n",
    "for i in range(proc_count):\n",
    "    p = procs[i]\n",
    "    print('Process with\\t vpid: {}\\t ->\\t pid: {}\\t ->\\t running status: {}'.format(i, p.pid, p.is_alive()))"
   ]
  },
  {
   "cell_type": "code",
   "execution_count": 21,
   "metadata": {
    "collapsed": true
   },
   "outputs": [],
   "source": [
    "# Properly Join\n",
    "for i in range(proc_count):\n",
    "    procs[i].join()"
   ]
  },
  {
   "cell_type": "code",
   "execution_count": 26,
   "metadata": {
    "collapsed": true
   },
   "outputs": [],
   "source": [
    "# Force Terminate\n",
    "for p in procs:\n",
    "    p.terminate()"
   ]
  },
  {
   "cell_type": "code",
   "execution_count": 24,
   "metadata": {},
   "outputs": [
    {
     "data": {
      "text/plain": [
       "6.7729026036644164"
      ]
     },
     "execution_count": 24,
     "metadata": {},
     "output_type": "execute_result"
    }
   ],
   "source": [
    "np.mean([a[2] for a in result_arr])"
   ]
  },
  {
   "cell_type": "code",
   "execution_count": 14,
   "metadata": {
    "scrolled": false
   },
   "outputs": [
    {
     "name": "stdout",
     "output_type": "stream",
     "text": [
      "C: 1, Samples: 32, Mean: 0.75\n",
      "C: 2, Samples: 72, Mean: 0.8263888888888888\n",
      "C: 3, Samples: 43, Mean: 0.8837209302325579\n",
      "C: 4, Samples: 36, Mean: 0.8958333333333334\n",
      "C: 5, Samples: 98, Mean: 0.8877551020408163\n",
      "C: 6, Samples: 345, Mean: 0.9130434782608695\n",
      "C: 7, Samples: 449, Mean: 0.9277760101813554\n",
      "C: 8, Samples: 332, Mean: 0.916039156626506\n",
      "C: 9, Samples: 112, Mean: 0.9077380952380955\n",
      "C: 10, Samples: 36, Mean: 0.9249999999999999\n",
      "C: 11, Samples: 19, Mean: 0.9330143540669856\n",
      "C: 12, Samples: 16, Mean: 0.8854166666666667\n",
      "C: 13, Samples: 6, Mean: 0.8333333333333334\n",
      "C: 14, Samples: 2, Mean: 0.9642857142857143\n",
      "C: 15, Samples: 4, Mean: 0.9\n",
      "C: 16, Samples: 2, Mean: 0.9375\n",
      "C: 17, Samples: 4, Mean: 0.9264705882352942\n",
      "C: 18, Samples: 1, Mean: 0.9444444444444444\n",
      "C: 22, Samples: 1, Mean: 0.6363636363636364\n",
      "C: 24, Samples: 1, Mean: 0.75\n",
      "C: 32, Samples: 1, Mean: 0.8125\n",
      "C: 35, Samples: 1, Mean: 0.8571428571428571\n"
     ]
    }
   ],
   "source": [
    "result_arr2 = [list(x) for x in result_arr]\n",
    "\n",
    "recalls = defaultdict(list)\n",
    "for i in range(len(result_arr2)):\n",
    "    result_arr2[i][0] /= result_arr2[i][2]\n",
    "    result_arr2[i][1] /= result_arr2[i][2]\n",
    "    recalls[result_arr2[i][2]].append(result_arr2[i][1])\n",
    "\n",
    "for c in sorted(recalls.keys()):\n",
    "    print('C: {}, Samples: {}, Mean: {}'.format(c, len(recalls[c]), np.mean(recalls[c])))"
   ]
  },
  {
   "cell_type": "code",
   "execution_count": 8,
   "metadata": {},
   "outputs": [
    {
     "name": "stdout",
     "output_type": "stream",
     "text": [
      "BM3_NLoss_proc0.csv  lemmawise_labelled.csv    pred_1L_bigram_proc3.csv\r\n",
      "BM3_NLoss_proc1.csv  pred_1L_bigram_proc0.csv  pred_1L_bigram_proc4.csv\r\n",
      "BM3_NLoss_proc2.csv  pred_1L_bigram_proc1.csv  pred_1L_bigram_proc5.csv\r\n",
      "BM3_NLoss_proc3.csv  pred_1L_bigram_proc2.csv\r\n"
     ]
    }
   ],
   "source": [
    "ls outputs/dump_predictions/"
   ]
  },
  {
   "cell_type": "code",
   "execution_count": null,
   "metadata": {
    "collapsed": true
   },
   "outputs": [],
   "source": []
  }
 ],
 "metadata": {
  "anaconda-cloud": {},
  "kernelspec": {
   "display_name": "ENV(py3_bishal)",
   "language": "python",
   "name": "py3_bishal"
  },
  "language_info": {
   "codemirror_mode": {
    "name": "ipython",
    "version": 3
   },
   "file_extension": ".py",
   "mimetype": "text/x-python",
   "name": "python",
   "nbconvert_exporter": "python",
   "pygments_lexer": "ipython3",
   "version": "3.6.0"
  }
 },
 "nbformat": 4,
 "nbformat_minor": 1
}
